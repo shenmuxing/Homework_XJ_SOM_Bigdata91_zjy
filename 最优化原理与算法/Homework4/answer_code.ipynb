{
 "cells": [
  {
   "cell_type": "markdown",
   "id": "0d636191-bbee-4d3b-8c75-d6a27dd69c45",
   "metadata": {},
   "source": [
    "# Question 1"
   ]
  },
  {
   "cell_type": "code",
   "execution_count": 1,
   "id": "14f7ae43-d37e-479f-ae32-6d152c65e130",
   "metadata": {},
   "outputs": [],
   "source": [
    "# 初始化\n",
    "import numpy as np\n",
    "np.random.seed(2021) # set a constant seed to get same random matrixs\n",
    "A = np.random.rand(500, 100)\n",
    "x_ = np.zeros([100, 1])\n",
    "x_[:5, 0] += np.array([i+1 for i in range(5)]) # x_ denotes expected x\n",
    "b = np.matmul(A, x_) + np.random.randn(500, 1) * 0.1 # add a noise to b\n",
    "lam = 10 # try some different values in {0.1, 1, 10}"
   ]
  },
  {
   "cell_type": "code",
   "execution_count": 2,
   "id": "c1c540fe-7c71-435e-ac2f-b14f6e343f46",
   "metadata": {},
   "outputs": [],
   "source": [
    "#调包\n",
    "import matplotlib.pyplot as plt"
   ]
  },
  {
   "cell_type": "code",
   "execution_count": 3,
   "id": "89e3c2a6-3af8-403a-9eb0-eb3cb6a2aa33",
   "metadata": {},
   "outputs": [],
   "source": [
    "#定义一系列辅助函数\n",
    "def f(A,x,b,lam):\n",
    "    \"\"\"定义f函数,其实是LASSO函数\"\"\"\n",
    "    f=1/2*np.linalg.norm(np.dot(A,x)-b,ord=2)**2+lam*np.linalg.norm(x,ord=1)\n",
    "    return f"
   ]
  },
  {
   "cell_type": "markdown",
   "id": "6ed5c4b0-796e-40f6-b4c7-fa4a37151c9e",
   "metadata": {},
   "source": [
    "##  Proximal Gradient Descent."
   ]
  },
  {
   "cell_type": "markdown",
   "id": "52aea82d-0652-4b77-a5d6-78906990b592",
   "metadata": {},
   "source": [
    "### 函数编写"
   ]
  },
  {
   "cell_type": "code",
   "execution_count": 4,
   "id": "fdafedcc-f3f0-44a6-b23b-af53afbab4ff",
   "metadata": {},
   "outputs": [],
   "source": [
    "def sign(x):\n",
    "    \"\"\"定义 sign function\"\"\"\n",
    "    sign=np.zeros(x_.shape)\n",
    "    for i in range(0,x.shape[0]):\n",
    "        for j in range(0,x.shape[1]):\n",
    "            if x[i][j]>0:\n",
    "                sign[i][j]=1\n",
    "            elif x[i][j]==0:\n",
    "                sign[i][j]=0\n",
    "            else:\n",
    "                sign[i][j]=-1\n",
    "    return sign\n",
    "\n",
    "def g(A,x,b,lam):\n",
    "    \"\"\"定义g函数\"\"\"\n",
    "    gtemp=np.dot(A.T,np.dot(A,x)-b)+lam*sign(x)\n",
    "    return gtemp"
   ]
  },
  {
   "cell_type": "code",
   "execution_count": 5,
   "id": "ac4b5628-6b41-4bd8-b1e0-b57a76f5e665",
   "metadata": {
    "tags": []
   },
   "outputs": [],
   "source": [
    "def max_single(A):\n",
    "    \"\"\"return max single value of A^T*A\"\"\"\n",
    "    return max(np.linalg.eig(np.dot(A.T,A))[0])\n",
    "def z(A,x,b):\n",
    "    \"\"\"定义z函数，返回$z^{t}$\"\"\"\n",
    "    single_val=max_single(A)\n",
    "    z=np.dot(np.eye(len(x))-np.dot(A.T,A)/single_val,x)+np.dot(A.T,b)/single_val\n",
    "    return z\n",
    "def shrink_z(z,lam,A):\n",
    "    \"\"\"对z完成一个收缩的过程,返回x^{t+1}\"\"\"\n",
    "    #temp即为我需要的x^{t+1}\n",
    "    temp=abs(z)-lam/max_single(A)\n",
    "    for i in range(0,len(temp)):\n",
    "        if temp[i]>=0:\n",
    "            temp[i]=temp[i]\n",
    "        else:\n",
    "            temp[i]=0\n",
    "    return temp"
   ]
  },
  {
   "cell_type": "code",
   "execution_count": 6,
   "id": "8c72cdf8-80a2-46ae-92bf-01a0dc3948e9",
   "metadata": {},
   "outputs": [],
   "source": [
    "# 定义临近点梯度下降法\n",
    "def prox(A,x,b,lam,T):\n",
    "    \"\"\"\n",
    "    这是临近点梯度下降法的实现，返回最终的xT\n",
    "    其中T是最大迭代轮次\n",
    "    \"\"\"\n",
    "    k=0\n",
    "    x_list=[x]\n",
    "    while k<T:\n",
    "        k=k+1\n",
    "        z_ans=z(A,x,b)\n",
    "        x=sign(z_ans)*shrink_z(z_ans,lam,A)\n",
    "        x_list.append(x)\n",
    "    return (x,x_list)"
   ]
  },
  {
   "cell_type": "markdown",
   "id": "2efcd5a4-a5ef-4892-a680-7248559117b9",
   "metadata": {},
   "source": [
    "### 调用函数，解决问题"
   ]
  },
  {
   "cell_type": "code",
   "execution_count": 7,
   "id": "e05d3a6c-d80f-40d9-ba6a-c7181a0afca1",
   "metadata": {
    "tags": []
   },
   "outputs": [
    {
     "name": "stdout",
     "output_type": "stream",
     "text": [
      "这是prox算法的结果\n",
      "选择lambda: 0.1\n",
      "选择T: 3000\n",
      "初始函数值为： 455335.33180182136\n",
      "现在的函数值为： 3.615807408827206\n",
      "现在的x前五个是： [[1.02765588]\n",
      " [1.9712927 ]\n",
      " [2.99865798]\n",
      " [3.95806657]\n",
      " [4.99160638]]\n",
      "现在的x和最终结果之间的差距是（用二范数度量）: 0.1680462127201749\n",
      "Wall time: 59.4 s\n"
     ]
    }
   ],
   "source": [
    "%%time\n",
    "m,n=A.shape\n",
    "x0=np.ones([n,1])\n",
    "lam=0.1\n",
    "T=3000\n",
    "x,prox_list_lam01=prox(A,x0,b,lam,T)\n",
    "print(\"这是prox算法的结果\")\n",
    "print(\"选择lambda:\",lam)\n",
    "print(\"选择T:\",T)\n",
    "print(\"初始函数值为：\",f(A,x0,b,lam))\n",
    "print(\"现在的函数值为：\",f(A,x,b,lam))\n",
    "print(\"现在的x前五个是：\",x[:5])\n",
    "print(\"现在的x和最终结果之间的差距是（用二范数度量）:\",np.linalg.norm(x-x_))"
   ]
  },
  {
   "cell_type": "code",
   "execution_count": 8,
   "id": "ccc2c3e9-7ea1-42e2-8af3-1009bb6f6cc0",
   "metadata": {
    "tags": []
   },
   "outputs": [
    {
     "name": "stdout",
     "output_type": "stream",
     "text": [
      "这是prox算法的结果\n",
      "选择lambda: 1\n",
      "选择T: 3000\n",
      "初始函数值为： 455425.33180182136\n",
      "现在的函数值为： 17.38378047441386\n",
      "现在的x前五个是： [[1.0046099 ]\n",
      " [1.96102766]\n",
      " [2.98675508]\n",
      " [3.95472447]\n",
      " [4.98270444]]\n",
      "现在的x和最终结果之间的差距是（用二范数度量）: 0.07847464375891093\n",
      "Wall time: 59.4 s\n"
     ]
    }
   ],
   "source": [
    "%%time\n",
    "m,n=A.shape\n",
    "x0=np.ones([n,1])\n",
    "lam=1\n",
    "T=3000\n",
    "x,prox_list_lam1=prox(A,x0,b,lam,T)\n",
    "print(\"这是prox算法的结果\")\n",
    "print(\"选择lambda:\",lam)\n",
    "print(\"选择T:\",T)\n",
    "print(\"初始函数值为：\",f(A,x0,b,lam))\n",
    "print(\"现在的函数值为：\",f(A,x,b,lam))\n",
    "print(\"现在的x前五个是：\",x[:5])\n",
    "print(\"现在的x和最终结果之间的差距是（用二范数度量）:\",np.linalg.norm(x-x_))"
   ]
  },
  {
   "cell_type": "code",
   "execution_count": 9,
   "id": "bd2d7c35-d8c0-4e61-9af9-22fc1b4bf74c",
   "metadata": {
    "tags": []
   },
   "outputs": [
    {
     "name": "stdout",
     "output_type": "stream",
     "text": [
      "这是prox算法的结果\n",
      "选择lambda: 10\n",
      "选择T: 3000\n",
      "初始函数值为： 456325.33180182136\n",
      "现在的函数值为： 151.9323169654445\n",
      "现在的x前五个是： [[0.99135544]\n",
      " [1.96272318]\n",
      " [2.97462403]\n",
      " [3.95217799]\n",
      " [4.97877927]]\n",
      "现在的x和最终结果之间的差距是（用二范数度量）: 0.07399364300891707\n",
      "Wall time: 57.4 s\n"
     ]
    }
   ],
   "source": [
    "%%time\n",
    "m,n=A.shape\n",
    "x0=np.ones([n,1])\n",
    "lam=10\n",
    "T=3000\n",
    "x,prox_list_lam10=prox(A,x0,b,lam,T)\n",
    "print(\"这是prox算法的结果\")\n",
    "print(\"选择lambda:\",lam)\n",
    "print(\"选择T:\",T)\n",
    "print(\"初始函数值为：\",f(A,x0,b,lam))\n",
    "print(\"现在的函数值为：\",f(A,x,b,lam))\n",
    "print(\"现在的x前五个是：\",x[:5])\n",
    "print(\"现在的x和最终结果之间的差距是（用二范数度量）:\",np.linalg.norm(x-x_))"
   ]
  },
  {
   "cell_type": "markdown",
   "id": "752f1965-f564-499f-baf3-c6a29948e794",
   "metadata": {},
   "source": [
    "## BCD下降方法\n",
    "### 函数编写"
   ]
  },
  {
   "cell_type": "code",
   "execution_count": 10,
   "id": "7739afa0-e156-47c4-b728-ea517fda325a",
   "metadata": {},
   "outputs": [],
   "source": [
    "def BCD(A,x0,b,lam,T):\n",
    "    \"\"\"\n",
    "    这是BCD下降法的实现，返回最终的xT,以及过程中产生的x_list\n",
    "    其中T是最大迭代轮次\n",
    "    \"\"\"    \n",
    "    m,n=A.shape\n",
    "    x_list=[x0]\n",
    "    for t in range(0,T):\n",
    "        for k in range(0,n):\n",
    "            #计算 Σa_ix_i^t\n",
    "            sum_ai_xi=np.dot(A,x).reshape(m,)-A[:,k]*x[k]\n",
    "            temp=np.dot(A[:,k],b)-np.dot(A[:,k],sum_ai_xi)\n",
    "            temp1=np.sign(temp)\n",
    "            temp2=np.abs(temp)-lam\n",
    "            if temp2<=0:\n",
    "                temp2=0\n",
    "            x[k]=temp1*temp2/np.dot(A[:,k],A[:,k])\n",
    "        x_list.append(x)\n",
    "    return (x,x_list)\n",
    "                          "
   ]
  },
  {
   "cell_type": "markdown",
   "id": "70ce7002-fba0-44f4-9f2f-8bdf3f0fbfda",
   "metadata": {},
   "source": [
    "### 调用函数，解决问题"
   ]
  },
  {
   "cell_type": "code",
   "execution_count": 11,
   "id": "88d0ea0a-36dc-48e5-b3c9-9a001ab53ed2",
   "metadata": {},
   "outputs": [
    {
     "name": "stdout",
     "output_type": "stream",
     "text": [
      "这是BCD算法的结果\n",
      "选择lambda: 0.1\n",
      "选择T: 3000\n",
      "初始函数值为： 455335.33180182136\n",
      "现在的函数值为： 3.590069805114487\n",
      "现在的x前五个是： [[1.02690741]\n",
      " [1.97538962]\n",
      " [3.00890966]\n",
      " [3.96906792]\n",
      " [5.00877942]]\n",
      "现在的x和最终结果之间的差距是（用二范数度量）: 0.15253831412476415\n",
      "Wall time: 22.6 s\n"
     ]
    }
   ],
   "source": [
    "%%time\n",
    "m,n=A.shape\n",
    "x0=np.ones([n,1])\n",
    "\n",
    "lam=0.1\n",
    "T=3000\n",
    "x,bcd_list_lam01=BCD(A,x0,b,lam,T)\n",
    "print(\"这是BCD算法的结果\")\n",
    "print(\"选择lambda:\",lam)\n",
    "print(\"选择T:\",T)\n",
    "x0=np.ones([n,1])\n",
    "print(\"初始函数值为：\",f(A,x0,b,lam))\n",
    "print(\"现在的函数值为：\",f(A,x,b,lam))\n",
    "print(\"现在的x前五个是：\",x[:5])\n",
    "print(\"现在的x和最终结果之间的差距是（用二范数度量）:\",np.linalg.norm(x-x_))"
   ]
  },
  {
   "cell_type": "code",
   "execution_count": 12,
   "id": "22fcca41-ad5e-46c7-b084-bc27f4ee1ace",
   "metadata": {},
   "outputs": [
    {
     "name": "stdout",
     "output_type": "stream",
     "text": [
      "这是BCD算法的结果\n",
      "选择lambda: 1\n",
      "选择T: 3000\n",
      "初始函数值为： 455425.33180182136\n",
      "现在的函数值为： 17.38345606315959\n",
      "现在的x前五个是： [[1.00528902]\n",
      " [1.96140737]\n",
      " [2.98836366]\n",
      " [3.95517755]\n",
      " [4.98537468]]\n",
      "现在的x和最终结果之间的差距是（用二范数度量）: 0.07742851590169146\n",
      "Wall time: 22.7 s\n"
     ]
    }
   ],
   "source": [
    "%%time\n",
    "m,n=A.shape\n",
    "x0=np.ones([n,1])\n",
    "\n",
    "lam=1\n",
    "T=3000\n",
    "x,bcd_list_lam1=BCD(A,x0,b,lam,T)\n",
    "print(\"这是BCD算法的结果\")\n",
    "print(\"选择lambda:\",lam)\n",
    "print(\"选择T:\",T)\n",
    "x0=np.ones([n,1])\n",
    "print(\"初始函数值为：\",f(A,x0,b,lam))\n",
    "print(\"现在的函数值为：\",f(A,x,b,lam))\n",
    "print(\"现在的x前五个是：\",x[:5])\n",
    "print(\"现在的x和最终结果之间的差距是（用二范数度量）:\",np.linalg.norm(x-x_))"
   ]
  },
  {
   "cell_type": "code",
   "execution_count": 13,
   "id": "7656cdc4-5ba3-4789-89ac-5501eaf648c3",
   "metadata": {},
   "outputs": [
    {
     "name": "stdout",
     "output_type": "stream",
     "text": [
      "这是BCD算法的结果\n",
      "选择lambda: 10\n",
      "选择T: 3000\n",
      "初始函数值为： 456325.33180182136\n",
      "现在的函数值为： 151.93227105788\n",
      "现在的x前五个是： [[0.99157862]\n",
      " [1.96261371]\n",
      " [2.97499677]\n",
      " [3.95205914]\n",
      " [4.97976442]]\n",
      "现在的x和最终结果之间的差距是（用二范数度量）: 0.07370668711303598\n",
      "Wall time: 23 s\n"
     ]
    }
   ],
   "source": [
    "%%time\n",
    "m,n=A.shape\n",
    "x0=np.ones([n,1])\n",
    "\n",
    "lam=10\n",
    "T=3000\n",
    "x,bcd_list_lam10=BCD(A,x0,b,lam,T)\n",
    "print(\"这是BCD算法的结果\")\n",
    "print(\"选择lambda:\",lam)\n",
    "print(\"选择T:\",T)\n",
    "x0=np.ones([n,1])\n",
    "print(\"初始函数值为：\",f(A,x0,b,lam))\n",
    "print(\"现在的函数值为：\",f(A,x,b,lam))\n",
    "print(\"现在的x前五个是：\",x[:5])\n",
    "print(\"现在的x和最终结果之间的差距是（用二范数度量）:\",np.linalg.norm(x-x_))"
   ]
  },
  {
   "cell_type": "markdown",
   "id": "95e85f1c-a6c3-449a-a045-c8808258f1d2",
   "metadata": {},
   "source": [
    "## ADMM下降法\n",
    "### 函数编写"
   ]
  },
  {
   "cell_type": "code",
   "execution_count": 14,
   "id": "ae20bfc6-1b0b-4676-8fe4-70dd5a079c0e",
   "metadata": {},
   "outputs": [],
   "source": [
    "def ADMM(A,b,x0,z0,v0,lam,ρ=0.1,T=100,ϵ=1e-3):\n",
    "    \"\"\"定义ADMM下降法，输入\n",
    "    A,b,x0,T,ϵ显然\n",
    "    z0即为正规项中的变量z0\n",
    "    v0是初始拉格朗日乘子\n",
    "    ρ是设定的步长\n",
    "    返回(X_list,z_list,u_list)\"\"\"\n",
    "    A=np.array(A)\n",
    "    b=np.array(b)\n",
    "    x=np.array(x0)\n",
    "    z=np.array(z0)\n",
    "    v=np.array(v0)\n",
    "    u=v/ρ\n",
    "    x_list=[np.array(x0)]#x迭代的序列\n",
    "    z_list=[np.array(z0)]#z迭代的序列\n",
    "    u_list=[np.array(u)]#u迭代的序列\n",
    "    condition=0\n",
    "    ATA=np.dot(A.T,A)\n",
    "    c=0\n",
    "    t=0\n",
    "    while condition==0:\n",
    "        x=np.dot(np.linalg.inv(ATA+ρ*np.eye(ATA.shape[0])),np.dot(A.T,b)+ρ*z-ρ*u)\n",
    "        x_list.append(x)\n",
    "        temp=abs(c-x-u)-lam/ρ\n",
    "        temp[temp<=0]=0\n",
    "        z=np.sign(x+u)*temp\n",
    "        z_list.append(z)\n",
    "        u=u+x-z\n",
    "        u_list.append(u)\n",
    "        t=t+1\n",
    "        if t>T:\n",
    "            print(\"因为达到最大步长结束\")\n",
    "            condition=1\n",
    "        elif np.linalg.norm(ρ*(z-z_list[-2]))<=ϵ and  np.linalg.norm(x-z)<=ϵ:\n",
    "            print(\"因为接近KKT条件结束\")\n",
    "            condition=1\n",
    "        else:\n",
    "            continue\n",
    "    return (x,z,u,x_list,z_list,u_list)"
   ]
  },
  {
   "cell_type": "markdown",
   "id": "d30d0a0e-4a4c-4277-9cfa-b9169cc9beec",
   "metadata": {},
   "source": [
    "### 调用函数，解决问题"
   ]
  },
  {
   "cell_type": "code",
   "execution_count": 15,
   "id": "3d23088b-890b-4bd6-b10b-6bd5e337179d",
   "metadata": {
    "tags": []
   },
   "outputs": [
    {
     "name": "stdout",
     "output_type": "stream",
     "text": [
      "因为达到最大步长结束\n",
      "这是ADMM算法的结果\n",
      "选择lambda: 0.1\n",
      "选择T: 3000\n",
      "初始函数值为： 455335.33180182136\n",
      "现在的函数值为： 3.5929177319956427\n",
      "现在的x前五个是： [[1.02676591]\n",
      " [1.97581049]\n",
      " [3.00967016]\n",
      " [3.96981269]\n",
      " [5.00857886]]\n",
      "现在的x和最终结果之间的差距是（用二范数度量）: 0.1530867794184869\n",
      "Wall time: 1.66 s\n"
     ]
    }
   ],
   "source": [
    "%%time\n",
    "m,n=A.shape\n",
    "x0=np.ones([n,1])\n",
    "z0=np.ones([n,1])\n",
    "v0=np.ones([n,1])\n",
    "ρ=0.01\n",
    "ϵ=1e-4\n",
    "lam=0.1\n",
    "T=3000\n",
    "x,z,u,admm_listx_lam01,admm_listz_lam01,admm_listv_lam01=ADMM(A,b,x0,z0,v0,lam,ρ=ρ,T=T,ϵ=ϵ)\n",
    "print(\"这是ADMM算法的结果\")\n",
    "print(\"选择lambda:\",lam)\n",
    "print(\"选择T:\",T)\n",
    "print(\"初始函数值为：\",f(A,x0,b,lam))\n",
    "print(\"现在的函数值为：\",f(A,x,b,lam))\n",
    "print(\"现在的x前五个是：\",x[:5])\n",
    "print(\"现在的x和最终结果之间的差距是（用二范数度量）:\",np.linalg.norm(x-x_))"
   ]
  },
  {
   "cell_type": "code",
   "execution_count": 16,
   "id": "17ddfb85-acae-4d6d-8fb9-02a35abe7335",
   "metadata": {
    "tags": []
   },
   "outputs": [
    {
     "name": "stdout",
     "output_type": "stream",
     "text": [
      "因为达到最大步长结束\n",
      "这是ADMM算法的结果\n",
      "选择lambda: 1\n",
      "选择T: 3000\n",
      "初始函数值为： 455425.33180182136\n",
      "现在的函数值为： 17.852674917456238\n",
      "现在的x前五个是： [[1.0194559 ]\n",
      " [1.97470668]\n",
      " [3.00418318]\n",
      " [3.96877229]\n",
      " [5.00346139]]\n",
      "现在的x和最终结果之间的差距是（用二范数度量）: 0.1172854877884052\n",
      "Wall time: 1.65 s\n"
     ]
    }
   ],
   "source": [
    "%%time\n",
    "m,n=A.shape\n",
    "x0=np.ones([n,1])\n",
    "z0=np.ones([n,1])\n",
    "v0=np.ones([n,1])\n",
    "ρ=0.01\n",
    "ϵ=1e-4\n",
    "lam=1\n",
    "T=3000\n",
    "x,z,u,admm_listx_lam1,admm_listz_lam1,admm_listv_lam1=ADMM(A,b,x0,z0,v0,lam,ρ=ρ,T=T,ϵ=ϵ)\n",
    "print(\"这是ADMM算法的结果\")\n",
    "print(\"选择lambda:\",lam)\n",
    "print(\"选择T:\",T)\n",
    "print(\"初始函数值为：\",f(A,x0,b,lam))\n",
    "print(\"现在的函数值为：\",f(A,x,b,lam))\n",
    "print(\"现在的x前五个是：\",x[:5])\n",
    "print(\"现在的x和最终结果之间的差距是（用二范数度量）:\",np.linalg.norm(x-x_))"
   ]
  },
  {
   "cell_type": "code",
   "execution_count": 17,
   "id": "de806bd0-de77-4957-a87d-0247a6657341",
   "metadata": {
    "tags": []
   },
   "outputs": [
    {
     "name": "stdout",
     "output_type": "stream",
     "text": [
      "因为达到最大步长结束\n",
      "这是ADMM算法的结果\n",
      "选择lambda: 10\n",
      "选择T: 3000\n",
      "初始函数值为： 456325.33180182136\n",
      "现在的函数值为： 158.3098481991394\n",
      "现在的x前五个是： [[0.79793127]\n",
      " [1.75723034]\n",
      " [2.78009305]\n",
      " [3.78056778]\n",
      " [4.76365744]]\n",
      "现在的x和最终结果之间的差距是（用二范数度量）: 0.5246763472396258\n",
      "Wall time: 1.7 s\n"
     ]
    }
   ],
   "source": [
    "%%time\n",
    "m,n=A.shape\n",
    "x0=np.ones([n,1])\n",
    "z0=np.ones([n,1])\n",
    "v0=np.ones([n,1])\n",
    "ρ=0.01\n",
    "ϵ=1e-4\n",
    "lam=10\n",
    "T=3000\n",
    "x,z,u,admm_listx_lam10,admm_listz_lam10,admm_listv_lam10=ADMM(A,b,x0,z0,v0,lam,ρ=ρ,T=T,ϵ=ϵ)\n",
    "print(\"这是ADMM算法的结果\")\n",
    "print(\"选择lambda:\",lam)\n",
    "print(\"选择T:\",T)\n",
    "print(\"初始函数值为：\",f(A,x0,b,lam))\n",
    "print(\"现在的函数值为：\",f(A,x,b,lam))\n",
    "print(\"现在的x前五个是：\",x[:5])\n",
    "print(\"现在的x和最终结果之间的差距是（用二范数度量）:\",np.linalg.norm(x-x_))"
   ]
  },
  {
   "cell_type": "markdown",
   "id": "7f4364b1-bba2-471f-8df1-1e3f85ea3d2d",
   "metadata": {},
   "source": [
    "**画一张丑陋的图片，看看$x$,$z$是怎么随着迭代变化的，以$\\lambda=0.1$为例**"
   ]
  },
  {
   "cell_type": "code",
   "execution_count": 18,
   "id": "3f47f777-ee2c-4888-97d8-7b6f88207a27",
   "metadata": {},
   "outputs": [
    {
     "data": {
      "image/png": "[encoded data removed]",
      "text/plain": [
       "<Figure size 432x288 with 1 Axes>"
      ]
     },
     "metadata": {
      "needs_background": "light"
     },
     "output_type": "display_data"
    }
   ],
   "source": [
    "plt.ylim(0,20)\n",
    "norm_x=np.linalg.norm(admm_listx_lam01,axis=1)\n",
    "norm_z=np.linalg.norm(admm_listz_lam01,axis=1)\n",
    "buchang=np.arange(0,len(norm_x))\n",
    "plt.title(\"admm\")\n",
    "plt.grid()\n",
    "plt.xlabel(\"Iteration count\")\n",
    "plt.ylabel(\"x or z norm value\")\n",
    "plt.plot(buchang,norm_x,\"o\",label=\"x\")\n",
    "plt.plot(buchang,norm_z,\"-\",label=\"z\")\n",
    "plt.legend()\n",
    "plt.show()"
   ]
  },
  {
   "cell_type": "markdown",
   "id": "7e709d2a-0954-410a-a4aa-8f9ed678e862",
   "metadata": {},
   "source": [
    "### 下降法是否收敛之比较\n",
    "* 看看对于LASSO问题，各种下降法是否下降，以及下降的速度怎么样，这里是按照函数值为因变量进行的比较"
   ]
  },
  {
   "cell_type": "code",
   "execution_count": 19,
   "id": "d520e42e-99d8-49c1-94da-caadb862bd03",
   "metadata": {},
   "outputs": [],
   "source": [
    "import matplotlib.pyplot as plt"
   ]
  },
  {
   "cell_type": "code",
   "execution_count": 20,
   "id": "a84cf2d0-e00e-4778-aa32-ffa20276559b",
   "metadata": {},
   "outputs": [
    {
     "data": {
      "image/png": "[encoded data removed]",
      "text/plain": [
       "<Figure size 432x288 with 1 Axes>"
      ]
     },
     "metadata": {
      "needs_background": "light"
     },
     "output_type": "display_data"
    }
   ],
   "source": [
    "# lambda=0.1 的时候\n",
    "prox_f=[]\n",
    "bcd_f=[]\n",
    "admm_f=[]\n",
    "for i in prox_list_lam01:\n",
    "    prox_f.append(f(A,i,b,lam=0.1))\n",
    "for i in bcd_list_lam01:\n",
    "    bcd_f.append(f(A,i,b,lam=0.1))\n",
    "for i in admm_listx_lam01:\n",
    "    admm_f.append(f(A,i,b,lam=0.1))\n",
    "max_len=max(len(prox_f),len(bcd_f),len(admm_f))\n",
    "prox_f=np.array(prox_f)\n",
    "bcd_f=np.array(bcd_f)\n",
    "admm_f=np.array(admm_f)\n",
    "while max_len>len(prox_f):\n",
    "    prox_f=np.append(prox_f,np.nan)\n",
    "while max_len>len(bcd_f):\n",
    "    bcd_f=np.append(bcd_f,np.nan)\n",
    "while max_len>len(admm_f):\n",
    "    admm_f=np.append(admm_f,np.nan)\n",
    "buchang=np.arange(0,max_len,1)\n",
    "plt.title(\"Compare different method in Lasso problem(λ=0.1)\")\n",
    "plt.ylim(0,1000)\n",
    "plt.ylabel(\"F value\")\n",
    "plt.xlabel(\"Iteration count\")\n",
    "plt.grid()\n",
    "plt.plot(buchang,prox_f,\"-\",label=\"prox method\")\n",
    "plt.plot(buchang,bcd_f,\"-.\",label=\"BCD method\")\n",
    "plt.plot(buchang,admm_f,\"--\",label=\"ADMM\")\n",
    "plt.legend()\n",
    "plt.show()"
   ]
  },
  {
   "cell_type": "code",
   "execution_count": 21,
   "id": "df17380d-16c6-4e28-81c7-6ae6516226f0",
   "metadata": {},
   "outputs": [
    {
     "data": {
      "image/png": "[encoded data removed]",
      "text/plain": [
       "<Figure size 432x288 with 1 Axes>"
      ]
     },
     "metadata": {
      "needs_background": "light"
     },
     "output_type": "display_data"
    }
   ],
   "source": [
    "# lambda=1 的时候\n",
    "prox_f=[]\n",
    "bcd_f=[]\n",
    "admm_f=[]\n",
    "for i in prox_list_lam1:\n",
    "    prox_f.append(f(A,i,b,lam=1))\n",
    "for i in bcd_list_lam1:\n",
    "    bcd_f.append(f(A,i,b,lam=1))\n",
    "for i in admm_listx_lam1:\n",
    "    admm_f.append(f(A,i,b,lam=1))\n",
    "max_len=max(len(prox_f),len(bcd_f),len(admm_f))\n",
    "prox_f=np.array(prox_f)\n",
    "bcd_f=np.array(bcd_f)\n",
    "admm_f=np.array(admm_f)\n",
    "while max_len>len(prox_f):\n",
    "    prox_f=np.append(prox_f,np.nan)\n",
    "while max_len>len(bcd_f):\n",
    "    bcd_f=np.append(bcd_f,np.nan)\n",
    "while max_len>len(admm_f):\n",
    "    admm_f=np.append(admm_f,np.nan)\n",
    "buchang=np.arange(0,max_len,1)\n",
    "plt.title(\"Compare different method in Lasso problem(λ=1)\")\n",
    "plt.ylim(0,1000)\n",
    "plt.ylabel(\"F value\")\n",
    "plt.xlabel(\"Iteration count\")\n",
    "plt.grid()\n",
    "plt.plot(buchang,prox_f,\"-\",label=\"prox method\")\n",
    "plt.plot(buchang,bcd_f,\"-.\",label=\"BCD method\")\n",
    "plt.plot(buchang,admm_f,\"--\",label=\"ADMM method\")\n",
    "plt.legend()\n",
    "plt.show()"
   ]
  },
  {
   "cell_type": "code",
   "execution_count": 22,
   "id": "8c22c243-0716-47ce-8e5c-0f85c35d098e",
   "metadata": {},
   "outputs": [
    {
     "data": {
      "image/png": "[encoded data removed]",
      "text/plain": [
       "<Figure size 432x288 with 1 Axes>"
      ]
     },
     "metadata": {
      "needs_background": "light"
     },
     "output_type": "display_data"
    }
   ],
   "source": [
    "# lambda=10 的时候\n",
    "prox_f=[]\n",
    "bcd_f=[]\n",
    "admm_f=[]\n",
    "for i in prox_list_lam10:\n",
    "    prox_f.append(f(A,i,b,lam=10))\n",
    "for i in bcd_list_lam10:\n",
    "    bcd_f.append(f(A,i,b,lam=10))\n",
    "for i in admm_listx_lam10:\n",
    "    admm_f.append(f(A,i,b,lam=10))\n",
    "max_len=max(len(prox_f),len(bcd_f),len(admm_f))\n",
    "prox_f=np.array(prox_f)\n",
    "bcd_f=np.array(bcd_f)\n",
    "admm_f=np.array(admm_f)\n",
    "while max_len>len(prox_f):\n",
    "    prox_f=np.append(prox_f,np.nan)\n",
    "while max_len>len(bcd_f):\n",
    "    bcd_f=np.append(bcd_f,np.nan)\n",
    "while max_len>len(admm_f):\n",
    "    admm_f=np.append(admm_f,np.nan)\n",
    "buchang=np.arange(0,max_len,1)\n",
    "plt.title(\"Compare different method in Lasso problem(λ=10)\")\n",
    "plt.ylim(0,1000)\n",
    "plt.ylabel(\"F value\")\n",
    "plt.xlabel(\"Iteration count\")\n",
    "plt.grid()\n",
    "plt.plot(buchang,prox_f,\"-\",label=\"prox method\")\n",
    "plt.plot(buchang,bcd_f,\"-.\",label=\"BCD method\")\n",
    "plt.plot(buchang,admm_f,\"--\",label=\"ADMM method\")\n",
    "plt.legend()\n",
    "plt.show()"
   ]
  },
  {
   "cell_type": "markdown",
   "id": "9106ff31-7288-498e-9ba0-9b0c460d45b7",
   "metadata": {},
   "source": [
    "# Question2\n",
    "* 提前定义一些可能会用到的辅助函数\n",
    "* 辅助函数中参数的传递可能有一些比较奇怪的参数，这些奇怪的参数大多是没有用处的，比如is_regulation是问是否按照正则化进行操作，其实都是按照正则化的logistics函数来操作的，但是为了函数接口的统一，都保留了这个几乎没用的参数"
   ]
  },
  {
   "cell_type": "code",
   "execution_count": 23,
   "id": "eabaeb4e-5d2a-47ce-9b6e-298d3f07c0fb",
   "metadata": {},
   "outputs": [],
   "source": [
    "# 载入必须的包包\n",
    "import numpy as np\n",
    "import pandas as pd\n",
    "import sklearn.datasets \n",
    "import math\n",
    "import random"
   ]
  },
  {
   "cell_type": "code",
   "execution_count": 24,
   "id": "9e8f7391-ec6a-4c2f-abfa-172a2670bb6d",
   "metadata": {},
   "outputs": [
    {
     "data": {
      "text/plain": [
       "(16281, 122)"
      ]
     },
     "execution_count": 24,
     "metadata": {},
     "output_type": "execute_result"
    }
   ],
   "source": [
    "#读取数据，用sklearn即可\n",
    "A,b=sklearn.datasets.load_svmlight_file(\"a9a.t\")\n",
    "A=A.toarray()\n",
    "A.shape"
   ]
  },
  {
   "cell_type": "code",
   "execution_count": 25,
   "id": "db33a977-9ebd-4d24-9217-c849949d1344",
   "metadata": {},
   "outputs": [],
   "source": [
    "def F(A,x,b,is_regulation=1):\n",
    "    \"\"\"计算F\"\"\"\n",
    "    m,n=A.shape\n",
    "    f=1/m*np.sum(np.log(1+np.exp(-np.dot(A,x)*b)))\n",
    "    if is_regulation==1:\n",
    "        f+=2*(1e-2)*np.linalg.norm(x)\n",
    "    return f\n",
    "def Deri_F(A,x,b,is_regulation=1):\n",
    "    \"\"\"计算F的梯度,\n",
    "    is_regula=1默认计算的是增加了正则项的梯度\"\"\"\n",
    "    m,n=A.shape\n",
    "    Df=0\n",
    "    for i in range(0,m):\n",
    "        ai=A[i,:]\n",
    "        Df+=-np.exp(-np.dot(A[i,:],x)*b[i])/(1+np.exp(-np.dot(A[i,:],x)*b[i]))*b[i]*ai\n",
    "    if is_regulation==1:\n",
    "        Df+=2*(1e-2)/m*x\n",
    "    return Df\n",
    "def Sample(A,b,i):\n",
    "    \"\"\"实现抽样的过程,i是抽样个数\n",
    "    返回：(A_sam,b_sam)抽好样的元组\"\"\"\n",
    "    A_b=pd.DataFrame(np.append(A,b.reshape(len(b),1),axis=1))\n",
    "    A_b_sam=A_b.sample(i)\n",
    "    A_sam=A_b_sam.iloc[:,:-1].to_numpy()\n",
    "    b_sam=A_b_sam.iloc[:,-1].to_numpy()\n",
    "    return (A_sam,b_sam)"
   ]
  },
  {
   "cell_type": "markdown",
   "id": "9e7989bd-a19f-41b8-b8af-97b1acd4b2b3",
   "metadata": {},
   "source": [
    "## SGD for Logistic Regression with fixed learning rate. \n",
    "### 函数实现"
   ]
  },
  {
   "cell_type": "code",
   "execution_count": 26,
   "id": "7285cd9c-e8a9-4ada-a377-2aaf4850a424",
   "metadata": {},
   "outputs": [],
   "source": [
    "# 这是随机梯度下降法的函数实现\n",
    "def SGD(A,b,x,T=100,s=1e-3,is_regulation=1):\n",
    "    \"\"\"\n",
    "    传入参数\n",
    "    x:array_like m*n\n",
    "    b:label m\n",
    "    x:我估计的函数参变量初值 n\n",
    "    T:我的迭代步数\n",
    "    s:我的步长，默认选择课本上给出的最佳步长\n",
    "    is_regulation:是否使用正则化版本，默认使用\n",
    "    返回最终x的估计值,以及每一步产生的x\"\"\"\n",
    "    A=np.array(A)\n",
    "    A=np.append(A,np.ones(A.shape[0]).reshape(A.shape[0],1),axis=1)\n",
    "    m,n=A.shape\n",
    "    b=np.array(b)\n",
    "    x=np.array(x)\n",
    "    x=np.append(x,1)\n",
    "    x_list=[x]\n",
    "    s=s#学习率\n",
    "    for t in range(0,T):#让他固定走那么多步\n",
    "        A_sam,b_sam=Sample(A,b,1)#抽样，抽取一个样本\n",
    "        #计算梯度\n",
    "        DF=Deri_F(A_sam,x,b_sam,is_regulation=is_regulation)#F此时的梯度\n",
    "        x=x-s*DF\n",
    "        x_list.append(x)\n",
    "    return (x,x_list)#返回的是带着常数估计值的"
   ]
  },
  {
   "cell_type": "markdown",
   "id": "939fbdc4-2023-473e-a58c-e01e1eb559b7",
   "metadata": {},
   "source": [
    "### 调用函数，解决问题"
   ]
  },
  {
   "cell_type": "code",
   "execution_count": 27,
   "id": "15907ae6-2df6-4727-bb8c-c4b180e3f91d",
   "metadata": {},
   "outputs": [
    {
     "name": "stdout",
     "output_type": "stream",
     "text": [
      "这是随机梯度下降法的正则化版本\n",
      "选择下降共20000步\n",
      "学习率： 0.001\n",
      "x： [ 0.02614937  0.24566305  0.37740981  0.52746172  0.36054122 -0.25282245\n",
      "  0.37565148  0.64249491  0.60426459  0.4827966   0.53147931  0.667828\n",
      "  0.67002808  0.25739779  0.33557467  0.35381614  0.30393134  0.28650524\n",
      "  0.5794701   0.28461656  0.51080395  0.08940886  0.70378289  0.58688994\n",
      "  0.53891419  0.58588154  0.57239554  0.61445314  0.70084113  0.63375981\n",
      "  0.56035215  0.69049567  0.60255069  0.6561      0.04407528  0.08940886\n",
      "  0.28461656  0.45548677  0.6636377   0.65822758  0.21762469 -0.32723894\n",
      "  0.52639184  0.52719146  0.60776442  0.66789885  0.61026199  0.4649578\n",
      "  0.30963676  0.54295814  0.72362963  0.61711152  0.53298688  0.49431076\n",
      "  0.40409787  0.52978498  0.58424213  0.63901043  0.6196763   0.67124879\n",
      "  0.65935827  0.17743676  0.69638842 -0.05966795  0.51963549  0.21439153\n",
      " -0.40715124  0.48886896  0.61332601  0.61092791  0.23125352 -0.36063943\n",
      " -0.11308749 -1.0662115   0.59248458 -1.04135182  0.56762489  0.0704105\n",
      "  0.42165809 -0.04884933  0.56926038  0.52474551 -0.58342797  0.66845832\n",
      "  0.66117123  0.64459375  0.65548194  0.64148283  0.66541468  0.6487121\n",
      "  0.66055153  0.66742726  0.64870649  0.65043957  0.65194528  0.66370724\n",
      "  0.66525682  0.63390399  0.66347033  0.66394635  0.65912322  0.65707893\n",
      "  0.53694883  0.66569933  0.66939928  0.67019762  0.65433686  0.66826998\n",
      "  0.66331548  0.66574534  0.65566418  0.65989783  0.66842467  0.66082561\n",
      "  0.66528542  0.66740422  0.66556145  0.66749173  0.65348182  0.66444316\n",
      "  0.66577263  0.66710243 -1.14404429]\n",
      "最初函数值为: 11.556741451331476\n",
      "现在函数值为： 0.5323409903190094\n",
      "Wall time: 5min 10s\n"
     ]
    }
   ],
   "source": [
    "%%time\n",
    "#按照正则化的方法来做\n",
    "m,n=A.shape\n",
    "x=np.ones(n)#初值x\n",
    "x_copy=np.ones(n+1)\n",
    "T=20000\n",
    "s=1e-3\n",
    "x,x_list=SGD(A,b,x,T=T,is_regulation=1)\n",
    "print(\"这是随机梯度下降法的正则化版本\")\n",
    "print(\"选择下降共\"+str(T)+\"步\")\n",
    "print(\"学习率：\",s)\n",
    "print(\"x：\",x)\n",
    "A_copy=np.array(A)\n",
    "A_copy=np.append(A_copy,np.ones(A.shape[0]).reshape(A.shape[0],1),axis=1)\n",
    "f_now=F(A_copy,x,b,is_regulation=1)\n",
    "f_copy=F(A_copy,x_copy,b,is_regulation=1)\n",
    "print(\"最初函数值为:\",f_copy)\n",
    "print(\"现在函数值为：\",f_now)"
   ]
  },
  {
   "cell_type": "code",
   "execution_count": 28,
   "id": "429faa10-7052-40c5-9816-8013535e9ec2",
   "metadata": {},
   "outputs": [],
   "source": [
    "#计算相应的函数值，储存下来，方便接下来的画图\n",
    "SGD_F_list=[]\n",
    "for i in x_list:\n",
    "    SGD_F_list.append(F(A_copy,i,b,is_regulation=1))"
   ]
  },
  {
   "cell_type": "markdown",
   "id": "47d9e167-4741-4c76-9222-f689b8adff48",
   "metadata": {},
   "source": [
    "## SGD for Logistic Regression with decreasing learning rate.\n",
    "### 函数实现"
   ]
  },
  {
   "cell_type": "code",
   "execution_count": 29,
   "id": "4e8b320c-b2db-4b60-8850-f96428242903",
   "metadata": {},
   "outputs": [],
   "source": [
    "# 这是随机梯度下降法的函数实现\n",
    "def SGD_decrease(A,b,x,T=100,s=1e-3,is_regulation=1):\n",
    "    \"\"\"\n",
    "    传入参数\n",
    "    x:array_like m*n\n",
    "    b:label m\n",
    "    x:我估计的函数参变量初值 n\n",
    "    T:我的迭代步数\n",
    "    s:我的步长，默认选择课本上给出的最佳步长\n",
    "    is_regulation:是否使用正则化版本，默认使用\n",
    "    返回最终x的估计值以及过程中产生的x_list\"\"\"\n",
    "    A=np.array(A)\n",
    "    A=np.append(A,np.ones(A.shape[0]).reshape(A.shape[0],1),axis=1)\n",
    "    m,n=A.shape\n",
    "    b=np.array(b)\n",
    "    x=np.array(x)\n",
    "    x=np.append(x,1)\n",
    "    x_list=[x]\n",
    "    s=s#学习率\n",
    "    for t in range(0,T):#让他固定走那么多步\n",
    "        A_sam,b_sam=Sample(A,b,1)#抽样，抽取一个样本\n",
    "        #计算梯度\n",
    "        DF=Deri_F(A_sam,x,b_sam,is_regulation=is_regulation)#F此时的梯度\n",
    "        x=x-s*DF\n",
    "        x_list.append(x)\n",
    "        s=s*(t+1)/(t+2)\n",
    "    return (x,x_list)#返回的是带着常数估计值的"
   ]
  },
  {
   "cell_type": "markdown",
   "id": "e763ce4d-89b0-4865-ac6d-a34401f5aee3",
   "metadata": {},
   "source": [
    "### 调用函数，解决问题"
   ]
  },
  {
   "cell_type": "code",
   "execution_count": 30,
   "id": "1635399b-6223-422b-891b-2c858f19e041",
   "metadata": {},
   "outputs": [
    {
     "name": "stdout",
     "output_type": "stream",
     "text": [
      "这是消失步长的随机梯度下降法正则化版本\n",
      "初始步长选择: 1\n",
      "选择下降共20000步\n",
      "x： [ 0.52685507  0.40800736  0.12816756  0.16808358  0.77120136 -0.35506116\n",
      "  0.73646175  0.86958094  0.04422401  0.75171038  0.79401182  0.81034743\n",
      "  0.81049003 -0.51163727  0.76097794  0.66617769  0.55454335  0.53225322\n",
      "  0.98719399  0.46432127  0.75647875  0.24592697  0.83465581  0.79523282\n",
      "  0.79134912  0.7917671   0.73536989  0.63700615  0.10622757  0.79945192\n",
      "  0.81272471  0.83898896  0.51688906  0.805632    0.18092794  0.24592697\n",
      "  0.46432127  0.77595456  0.33518419  0.55815966  0.70584072 -0.27817352\n",
      "  0.27596172  0.75133106  0.80084269  0.80960735  0.74737531  0.87282261\n",
      "  0.27158782  0.71256109  0.11953455  0.81233536  0.78175423  0.74874654\n",
      "  0.68297368  0.71316407  0.73092416  0.52426098  0.79648757  0.81113884\n",
      "  0.55815651  0.5701896   0.85544961 -0.12322154  0.73077671  0.22159142\n",
      " -0.54574009  0.77421203  0.38128943  0.75681823  0.63573533 -0.18117304\n",
      " -0.24839417 -1.25570894  0.82614174 -1.20881787  0.77925067  0.5140177\n",
      "  0.68233729 -0.15879683  0.63049324  0.33426353 -0.67833155  0.80913993\n",
      "  0.8030202   0.80614491  0.81251192  0.80371557  0.81034288  0.80565809\n",
      "  0.80671564  0.81759355  0.80178284  0.8070455   0.80919001  0.80973728\n",
      "  0.81022758  0.79905347  0.8099907   0.81887843  0.81044126  0.80665003\n",
      "  0.7324169   0.80949875  0.79151586  0.80876408  0.77589872  0.81005848\n",
      "  0.80957449  0.81251698  0.79298418  0.74280646  0.81112548  0.80814781\n",
      "  0.80979983  0.80907371  0.80997325  0.81055687  0.52821211  0.8082197\n",
      "  0.80969131  0.80951922 -1.24019458]\n",
      "最初函数值为: 11.556741451331476\n",
      "现在函数值为： 0.6823356465239325\n",
      "Wall time: 5min 2s\n"
     ]
    }
   ],
   "source": [
    "%%time\n",
    "m,n=A.shape\n",
    "x=np.ones(n)\n",
    "x_copy=np.ones(n+1)\n",
    "T=20000\n",
    "s=1\n",
    "x,x_list=SGD_decrease(A,b,x,T=T,s=s,is_regulation=1)\n",
    "print(\"这是消失步长的随机梯度下降法正则化版本\")\n",
    "print(\"初始步长选择:\",s)\n",
    "print(\"选择下降共\"+str(T)+\"步\")\n",
    "print(\"x：\",x)\n",
    "A_copy=np.array(A)\n",
    "A_copy=np.append(A_copy,np.ones(A.shape[0]).reshape(A.shape[0],1),axis=1)\n",
    "f_now=F(A_copy,x,b,is_regulation=1)\n",
    "f_copy=F(A_copy,x_copy,b,is_regulation=1)\n",
    "print(\"最初函数值为:\",f_copy)\n",
    "print(\"现在函数值为：\",f_now)\n"
   ]
  },
  {
   "cell_type": "code",
   "execution_count": 31,
   "id": "8dd641f6-78e4-49f2-b669-0ec86cd1a4cc",
   "metadata": {},
   "outputs": [],
   "source": [
    "##储存过程中每一步的函数值，方便之后画图\n",
    "SGDd_F_list=[]\n",
    "for i in x_list:\n",
    "    SGDd_F_list.append(F(A_copy,i,b,is_regulation=1))"
   ]
  },
  {
   "cell_type": "markdown",
   "id": "6bb80728-8224-48f2-b3b2-c0f91b605412",
   "metadata": {},
   "source": [
    "## SVRG for Logistic Regression.\n",
    "* 学习率和前面SGD一致\n",
    "### 函数实现"
   ]
  },
  {
   "cell_type": "code",
   "execution_count": 32,
   "id": "0becf5c1-2ec9-4a14-9953-db43bf987726",
   "metadata": {},
   "outputs": [],
   "source": [
    "# 这是SVRG下降法的函数定义\n",
    "def SVRG(A,b,x,s_max=10,T=100,η=1e-3,is_regulation=1):\n",
    "    \"\"\"\n",
    "    传入参数\n",
    "    x:array_like m*n\n",
    "    b:label m\n",
    "    x:我估计的函数参变量初值 n\n",
    "    s_max:外层迭代轮次\n",
    "    T:内层每轮迭代步数\n",
    "    η:我的学习率\n",
    "    返回最终x的估计值,以及过程中产生的x_list\n",
    "    \"\"\"\n",
    "    A=np.array(A)\n",
    "    A=np.append(A,np.ones(A.shape[0]).reshape(A.shape[0],1),axis=1)\n",
    "    m,n=A.shape\n",
    "    b=np.array(b)\n",
    "    x=np.array(x)\n",
    "    x=np.append(x,1)\n",
    "    η=η#初始化学习率\n",
    "    x_s=x#初始化x_s\n",
    "    x_list=[x]\n",
    "    for s in range(0,s_max):\n",
    "        x_t=[] #使用list形式x_t来保存每次迭代中的x_t信息，为随机选择x_t设定为x_s提供方便\n",
    "        z=1/m*Deri_F(A=A,x=x_s,b=b,is_regulation=is_regulation)#计算此时的综合效果\n",
    "        x=x_s#即将进入内循环，初始化x\n",
    "        x_t.append(x)#x_t第一个\n",
    "        for t in range(0,T):\n",
    "            A_sam,b_sam=Sample(A,b,1)#抽样，抽取一个样本\n",
    "            #计算现在xt的梯度\n",
    "            DF=Deri_F(A_sam,x=x,b=b_sam,is_regulation=is_regulation)#L此时的梯度\n",
    "            #计算之前xs的梯度\n",
    "            DF_tem=Deri_F(A=A_sam,x=x_s,b=b_sam,is_regulation=is_regulation)\n",
    "            #梯度下降并将其放入x_t list中\n",
    "            x=x-η*(DF-DF_tem+z)\n",
    "            x_t.append(x)\n",
    "            x_list.append(x)\n",
    "        i=random.randint(0,len(x_t)-1)\n",
    "        x_s=x_t[i]\n",
    "    return (x_t[-1],x_list)    "
   ]
  },
  {
   "cell_type": "markdown",
   "id": "faa6e3f1-8326-41cf-9bb3-3e00d5b794fe",
   "metadata": {},
   "source": [
    "### 调用函数，解决问题"
   ]
  },
  {
   "cell_type": "code",
   "execution_count": 33,
   "id": "8f49acff-e487-488a-b14c-f82e1fd617a0",
   "metadata": {},
   "outputs": [
    {
     "name": "stdout",
     "output_type": "stream",
     "text": [
      "这是SVRG下降法的正则化版本\n",
      "选择学习率η: 0.001\n",
      "选择外循环40步\n",
      "选择内循环500步\n",
      "x： [ 0.31841653  0.49092224  0.56621286  0.67413845  0.54129103 -0.50606438\n",
      "  0.73581397  0.94994421  0.93281348  0.80208215  0.8595499   0.99886781\n",
      "  0.99907978  0.48259949  0.52957854  0.56167218  0.52370615  0.49342475\n",
      "  0.7608002   0.45118751  0.84588463  0.22325579  1.00121678  0.90762508\n",
      "  0.87483063  0.93528974  0.91605564  0.94675452  0.93848969  0.97150787\n",
      "  0.88857641  0.99770414  0.94282169  0.98898077  0.43587127  0.22325579\n",
      "  0.45118751  0.78245572  0.69821082  0.56574215  0.50967853 -0.14880477\n",
      "  0.86195421  0.86245356  0.94266868  0.99728873  0.92635403  0.73740253\n",
      "  0.61400492  0.77270721  0.88206566  0.81924334  0.85999627  0.8141897\n",
      "  0.65474243  0.88297721  0.88870406  0.97227978  0.94813712  1.00020287\n",
      "  0.93221598  0.45133272  0.65947943  0.14009038  0.85836132  0.54950127\n",
      " -0.76195098  0.86324017  0.95321458  0.957469    0.57900833 -0.17876919\n",
      " -0.23024971 -1.29845096  0.88943206 -1.29687267  0.88785377  0.36951976\n",
      "  0.75418856 -0.06820827  0.84651254  0.68896851 -0.95251171  0.99705879\n",
      "  0.99407382  0.97846919  0.98873524  0.98084757  0.99695035  0.98782705\n",
      "  0.99152819  0.99722448  0.98588998  0.98601556  0.98772493  0.99549762\n",
      "  0.99739501  0.96850123  0.99303024  0.99262125  0.99152116  0.992481\n",
      "  0.89453761  0.99389679  0.99851562  0.99837158  0.98873512  0.9977006\n",
      "  0.99411322  0.99666695  0.98900935  0.9916849   0.99920756  0.99122876\n",
      "  0.99522349  0.99706778  0.99575182  0.99817796  0.98423466  0.9965513\n",
      "  0.99577109  0.99647399 -1.4090189 ]\n",
      "最初函数值为: 11.556741451331476\n",
      "现在函数值为： 0.7043960217393797\n",
      "Wall time: 5min 17s\n"
     ]
    }
   ],
   "source": [
    "%%time\n",
    "m,n=A.shape\n",
    "x=np.ones(n)\n",
    "x_copy=np.ones(n+1)\n",
    "T=500\n",
    "s_max=40\n",
    "η=1e-3\n",
    "x,x_list=SVRG(A,b,x,s_max=s_max,η=1e-3,T=T)\n",
    "print(\"这是SVRG下降法的正则化版本\")\n",
    "print(\"选择学习率η:\",η)\n",
    "print(\"选择外循环\"+str(s_max)+\"步\")\n",
    "print(\"选择内循环\"+str(T)+\"步\")\n",
    "print(\"x：\",x)\n",
    "A_copy=np.array(A)\n",
    "A_copy=np.append(A_copy,np.ones(A.shape[0]).reshape(A.shape[0],1),axis=1)\n",
    "f_now=F(A_copy,x,b,is_regulation=1)\n",
    "f_copy=F(A_copy,x_copy,b,is_regulation=1)\n",
    "print(\"最初函数值为:\",f_copy)\n",
    "print(\"现在函数值为：\",f_now)"
   ]
  },
  {
   "cell_type": "code",
   "execution_count": 34,
   "id": "8795431d-4a54-4cb9-9539-68318831a857",
   "metadata": {},
   "outputs": [],
   "source": [
    "##储存函数值，方便接下来的操作\n",
    "SVRG_F_list=[]\n",
    "for i in x_list:\n",
    "    SVRG_F_list.append(F(A_copy,i,b,is_regulation=1))"
   ]
  },
  {
   "cell_type": "markdown",
   "id": "b474e11c-9eb0-4b91-9a2b-49677671f15a",
   "metadata": {},
   "source": [
    "## 作图进行上述收敛性的比较"
   ]
  },
  {
   "cell_type": "code",
   "execution_count": 35,
   "id": "d15602d5-c31f-44a3-8771-67e9e473c218",
   "metadata": {},
   "outputs": [
    {
     "data": {
      "image/png": "[encoded data removed]",
      "text/plain": [
       "<Figure size 648x648 with 1 Axes>"
      ]
     },
     "metadata": {
      "needs_background": "light"
     },
     "output_type": "display_data"
    }
   ],
   "source": [
    "##画出函数值的图，看看是否下降\n",
    "import matplotlib.pyplot as plt\n",
    "plt.rcParams[\"figure.figsize\"]=(9,9)\n",
    "buchang=np.arange(0,max(len(SGD_F_list),len(SGDd_F_list),len(SVRG_F_list)))\n",
    "plt.title(\"Compare different methods in Logistic Regression\")\n",
    "plt.ylabel(\"F value\")\n",
    "plt.xlabel(\"Iteration count\")\n",
    "plt.grid()\n",
    "plt.plot(buchang,SGD_F_list,\"--\",label=\"SGD(constant learning rate)\");\n",
    "plt.plot(buchang,SGDd_F_list,\"-.\",label=\"SGD(descreasing learning rate)\");\n",
    "plt.plot(buchang,SVRG_F_list,\"-\",label=\"SVRG\");\n",
    "plt.legend();\n",
    "plt.show()"
   ]
  },
  {
   "cell_type": "code",
   "execution_count": null,
   "id": "ca98c0aa-372e-4e92-8696-754882768385",
   "metadata": {},
   "outputs": [],
   "source": []
  }
 ],
 "metadata": {
  "kernelspec": {
   "display_name": "py37",
   "language": "python",
   "name": "python3"
  },
  "language_info": {
   "codemirror_mode": {
    "name": "ipython",
    "version": 3
   },
   "file_extension": ".py",
   "mimetype": "text/x-python",
   "name": "python",
   "nbconvert_exporter": "python",
   "pygments_lexer": "ipython3",
   "version": "3.7.0"
  },
  "vscode": {
   "interpreter": {
    "hash": "78f496bae59da85308d81e6a61ec23c682303053c7903da9a3336f09cefb686a"
   }
  }
 },
 "nbformat": 4,
 "nbformat_minor": 5
}
