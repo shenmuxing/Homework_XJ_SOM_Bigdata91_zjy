{
 "cells": [
  {
   "cell_type": "markdown",
   "id": "08646fef-a930-46f5-a43f-09426c550055",
   "metadata": {},
   "source": [
    "## 机器学习部分\n",
    "* 用一个GBTmodel\n",
    "* 用一个一般线性回归\n",
    "* 用一个RandomForestRegressor"
   ]
  },
  {
   "cell_type": "code",
   "execution_count": 1,
   "id": "9ddb2aad-b79c-480a-9da1-c37fcb382392",
   "metadata": {},
   "outputs": [
    {
     "data": {
      "text/html": [
       "\n",
       "        <div>\n",
       "            <p><b>SparkContext</b></p>\n",
       "\n",
       "            <p><a href=\"http://LAPTOP-ShenMuxing:4043\">Spark UI</a></p>\n",
       "\n",
       "            <dl>\n",
       "              <dt>Version</dt>\n",
       "                <dd><code>v2.3.1</code></dd>\n",
       "              <dt>Master</dt>\n",
       "                <dd><code>local</code></dd>\n",
       "              <dt>AppName</dt>\n",
       "                <dd><code>大数据大作业-机器学习</code></dd>\n",
       "            </dl>\n",
       "        </div>\n",
       "        "
      ],
      "text/plain": [
       "<SparkContext master=local appName=大数据大作业-机器学习>"
      ]
     },
     "execution_count": 1,
     "metadata": {},
     "output_type": "execute_result"
    }
   ],
   "source": [
    "import numpy as np\n",
    "import pandas as pd\n",
    "import time\n",
    "import cv2 \n",
    "import torch\n",
    "from torchvision import datasets,models,transforms,utils\n",
    "from torch.utils.data import DataLoader,Dataset\n",
    "from torchsummary import summary\n",
    "import torch.nn as nn\n",
    "import matplotlib.pyplot as plt\n",
    "from PIL import Image\n",
    "import os\n",
    "import PIL\n",
    "PIL.Image.MAX_IMAGE_PIXELS = 933120000\n",
    "from pyspark.ml.linalg import DenseVector\n",
    "import pyspark.ml.evaluation as ev\n",
    "import pyspark.ml.regression as reg\n",
    "from pyspark.ml import Pipeline\n",
    "import pyspark.ml.tuning as tune\n",
    "from pyspark.ml.tuning import CrossValidator, ParamGridBuilder, CrossValidatorModel\n",
    "from pyspark.sql import SparkSession\n",
    "from pyspark.sql.types import StringType,FloatType,IntegerType,StructType\n",
    "spark=SparkSession.builder.master(\"local\").appName(\"大数据大作业-机器学习\").getOrCreate()\n",
    "device = torch.device('cuda' if torch.cuda.is_available() else 'cpu')\n",
    "from pyspark.ml import feature as ft\n",
    "# Enable Arrow support.\n",
    "spark.conf.set(\"spark.sql.execution.arrow.enabled\", \"true\")\n",
    "spark.conf.set(\"spark.sql.execution.arrow.maxRecordsPerBatch\", \"64\")\n",
    "# 搭一个spark的环境\n",
    "sc=spark.sparkContext\n",
    "sc"
   ]
  },
  {
   "cell_type": "code",
   "execution_count": 2,
   "id": "bbdb4b6d-f20e-4893-861a-f3b5c35a3f6d",
   "metadata": {
    "tags": []
   },
   "outputs": [
    {
     "name": "stdout",
     "output_type": "stream",
     "text": [
      "读取 train_all_features_noPCA-3.csv 完成\n",
      "读取 test_all_features_noPCA-3.csv 完成\n"
     ]
    }
   ],
   "source": [
    "def Read_features(filename):\n",
    "    all_features=pd.read_csv(filename,index_col=0)\n",
    "    df_all_features=spark.createDataFrame(all_features.values.tolist(),schema=all_features.columns.tolist())\n",
    "    for column in df_all_features.columns[3:]:\n",
    "        df_all_features=df_all_features.withColumn(column,df_all_features[column].cast(FloatType()))\n",
    "    for column in df_all_features.columns[:3]:\n",
    "        df_all_features=df_all_features.withColumn(column,df_all_features[column].cast(IntegerType()))\n",
    "    print(\"读取\",filename,\"完成\")\n",
    "    # df_all_features.printSchema()\n",
    "    return df_all_features\n",
    "df_data_all_features=Read_features(\"train_all_features_noPCA-3.csv\")\n",
    "df_test_all_features=Read_features(\"test_all_features_noPCA-3.csv\")"
   ]
  },
  {
   "cell_type": "markdown",
   "id": "b6580208-f8d9-4f9e-b45f-f7000d14dd3a",
   "metadata": {
    "tags": []
   },
   "source": [
    "### Regression"
   ]
  },
  {
   "cell_type": "code",
   "execution_count": 3,
   "id": "69419302-3a66-4dc2-8c26-7dd44fc413dd",
   "metadata": {},
   "outputs": [],
   "source": [
    "class Machine(object):\n",
    "    \"\"\"通过Machine类完成模型调参的工作，不同的回归器建立一个不同的Machine类\"\"\"\n",
    "    def __init__(self,clf,clf_params,df_data_all_features=df_data_all_features,df_test_all_features=df_test_all_features):\n",
    "        self.data=df_data_all_features\n",
    "        self.test=df_test_all_features\n",
    "        features = [column for column in df_data_all_features.columns if column!=\"product_id\" and column!=\"price\" \n",
    "                    and column!=\"product_category\"  and column!=\"brand\"\n",
    "                   ]\n",
    "        features.append(\"categorys\")\n",
    "        features.append(\"brand_category\")\n",
    "        cate_creator=ft.OneHotEncoderEstimator(inputCols=[\"product_category\"],outputCols=[\"categorys\"])\n",
    "        brands_creator=ft.OneHotEncoderEstimator(inputCols=[\"brand\"],outputCols=[\"brand_category\"])\n",
    "        featuresCreator = ft.VectorAssembler(\n",
    "            inputCols=[col for col in features[1:]], \n",
    "            outputCol='features'\n",
    "            )\n",
    "        # 设定评价指标列表，默认第一个指标是用来参数寻优的\n",
    "        self.evaluators=[ev.RegressionEvaluator(predictionCol=\"prediction\", labelCol='price',metricName=\"rmse\"),\n",
    "                         ev.RegressionEvaluator(predictionCol=\"prediction\", labelCol='price',metricName=\"r2\"),\n",
    "                        ev.RegressionEvaluator(predictionCol=\"prediction\", labelCol='price',metricName=\"mae\")]\n",
    "        self.evaluator=self.evaluators[0]\n",
    "        # 建立pipeline并设定参数\n",
    "        self.pipeline=Pipeline(stages=[\n",
    "            cate_creator,\n",
    "            brands_creator,\n",
    "            featuresCreator,\n",
    "            # ft.VarianceThresholdSelector(varianceThreshold=0.0001, outputCol=\"features\"),\n",
    "            clf])\n",
    "        self.grid=tune.ParamGridBuilder()\n",
    "        for key,value in zip(clf_params.keys(),clf_params.values()):\n",
    "            self.grid=self.grid.addGrid(eval(\"self.pipeline.getStages()[3].\"+key),value)\n",
    "        self.grid=self.grid.build()\n",
    "        # 建立cv\n",
    "        self.cv = CrossValidator(estimator=self.pipeline, estimatorParamMaps=self.grid, evaluator=self.evaluator,\n",
    "                            parallelism=5,seed=0)\n",
    "    def GridSearch(self):\n",
    "        \"\"\"参数寻优\"\"\"\n",
    "        self.cvModel = self.cv.fit(self.data)\n",
    "        self.bestModel=self.cvModel.bestModel\n",
    "    def Report(self):\n",
    "        \"\"\"返回模型报告\"\"\"\n",
    "        print(\"=\"*70)\n",
    "        results = [([{key.name: paramValue} for key, paramValue in zip(params.keys(),params.values())], metric)\n",
    "                   for params, metric in zip(self.cvModel.getEstimatorParamMaps(),self.cvModel.avgMetrics)]\n",
    "        print(\"最优模型参数：\",sorted(results,key=lambda el: el[1],reverse=True)[0][0])\n",
    "        print(\"在训练集上，rmse,r2,mae分别是：\",[evaluator.evaluate(self.bestModel.transform(self.data)) for evaluator in self.evaluators])\n",
    "        print(\"在测试集上，rmse,r2,mae分别是：\",[evaluator.evaluate(self.bestModel.transform(self.test)) for evaluator in self.evaluators])     \n",
    "        print(\"=\"*70)\n",
    "    def Header(self,model_name):\n",
    "        \"\"\"中心调度器\"\"\"\n",
    "        print(\"模型\",model_name,\"正在训练...\")\n",
    "        self.GridSearch()\n",
    "        print(\"训练完成，下面是报告\")\n",
    "        self.Report()\n",
    "        return self.bestModel"
   ]
  },
  {
   "cell_type": "code",
   "execution_count": 4,
   "id": "6fc588e6-f985-4094-9faf-bb188e675685",
   "metadata": {
    "tags": []
   },
   "outputs": [
    {
     "name": "stdout",
     "output_type": "stream",
     "text": [
      "模型 GBT 正在训练...\n",
      "训练完成，下面是报告\n",
      "======================================================================\n",
      "最优模型参数： [{'maxIter': 30}, {'maxDepth': 2}, {'minInfoGain': 0.0005}]\n",
      "在训练集上，rmse,r2,mae分别是： [4187.700616831333, 0.06809774725140827, 626.6017157449023]\n",
      "在测试集上，rmse,r2,mae分别是： [2838.347473938381, 0.13038898609913763, 772.7639506435714]\n",
      "======================================================================\n"
     ]
    }
   ],
   "source": [
    "clf_GBT = reg.GBTRegressor(labelCol='price',seed=0)\n",
    "params_GBT={\"maxIter\":[10,15,30],\"maxDepth\":[0,1,2],\"minInfoGain\":[0.0005,0.001,0.01]}\n",
    "GBT=Machine(clf=clf_GBT,clf_params=params_GBT)\n",
    "bestModel_GBT=GBT.Header(model_name=\"GBT\")"
   ]
  },
  {
   "cell_type": "code",
   "execution_count": 5,
   "id": "1c16f8aa-a00a-4e4b-aad6-887e6ebe0fa2",
   "metadata": {},
   "outputs": [
    {
     "name": "stdout",
     "output_type": "stream",
     "text": [
      "模型 RandomForest 正在训练...\n",
      "训练完成，下面是报告\n",
      "======================================================================\n",
      "最优模型参数： [{'maxDepth': 4}, {'numTrees': 10}]\n",
      "在训练集上，rmse,r2,mae分别是： [3878.181302105531, 0.20076346919495835, 588.1694615335601]\n",
      "在测试集上，rmse,r2,mae分别是： [2904.3169980010457, 0.08949582321458305, 746.75009315821]\n",
      "======================================================================\n"
     ]
    }
   ],
   "source": [
    "clf_RandomForest=reg.RandomForestRegressor(labelCol='price',seed=0)\n",
    "params_RandomForest={\"maxDepth\":[0,2,4],\"numTrees\":[10,15,30,60]}\n",
    "RandomForest=Machine(clf=clf_RandomForest,clf_params=params_RandomForest)\n",
    "bestModel_RandomForest=RandomForest.Header(\"RandomForest\")"
   ]
  },
  {
   "cell_type": "code",
   "execution_count": 6,
   "id": "66d57d2f-3d1b-4254-b804-a367b776300b",
   "metadata": {},
   "outputs": [
    {
     "name": "stdout",
     "output_type": "stream",
     "text": [
      "模型 GeneralizedLinear 正在训练...\n",
      "训练完成，下面是报告\n",
      "======================================================================\n",
      "最优模型参数： [{'family': 'gamma'}, {'regParam': 0.001}]\n",
      "在训练集上，rmse,r2,mae分别是： [4234.0269587588655, 0.04736540799572131, 631.6811833377358]\n",
      "在测试集上，rmse,r2,mae分别是： [2942.413681499895, 0.06545251807499497, 782.9988383034854]\n",
      "======================================================================\n"
     ]
    }
   ],
   "source": [
    "clf_GeneralizedLinear=reg.GeneralizedLinearRegression(labelCol='price')\n",
    "params_GeneralizedLinear={\"family\":[\"gaussian\",\"poisson\",\"gamma\",\"tweedie\"],\n",
    "                          \"regParam\":[0.001,0.01,0.05]}\n",
    "GeneralizedLinear=Machine(clf=clf_GeneralizedLinear,clf_params=params_GeneralizedLinear)\n",
    "bestModel_GeneralizedLinear=GeneralizedLinear.Header(\"GeneralizedLinear\")"
   ]
  },
  {
   "cell_type": "markdown",
   "id": "e20772cf-76f4-4a46-84c2-06c7bc290bcd",
   "metadata": {},
   "source": [
    "* 还是刚刚那个模型，展示特征重要性"
   ]
  },
  {
   "cell_type": "code",
   "execution_count": 15,
   "id": "d0c24026-4d7f-4d03-8132-46f21e57dabe",
   "metadata": {},
   "outputs": [
    {
     "data": {
      "text/plain": [
       "SparseVector(519, {0: 0.0667, 1: 0.0667, 2: 0.0333, 11: 0.0667, 40: 0.0333, 103: 0.0667, 117: 0.0333, 153: 0.0333, 203: 0.0333, 269: 0.0333, 287: 0.0333, 296: 0.0333, 305: 0.0333, 343: 0.0333, 346: 0.0333, 380: 0.0333, 396: 0.0667, 408: 0.0333, 455: 0.1, 459: 0.0333, 472: 0.0333, 508: 0.0333, 514: 0.0333})"
      ]
     },
     "execution_count": 15,
     "metadata": {},
     "output_type": "execute_result"
    }
   ],
   "source": [
    "bestModel_GBT.stages[3].featureImportances"
   ]
  },
  {
   "cell_type": "code",
   "execution_count": 16,
   "id": "d111324b-3931-405e-bd3c-590e16573933",
   "metadata": {},
   "outputs": [
    {
     "data": {
      "text/plain": [
       "SparseVector(519, {0: 0.1517, 2: 0.0268, 31: 0.0294, 32: 0.006, 61: 0.0005, 82: 0.002, 88: 0.0029, 96: 0.0733, 98: 0.0105, 116: 0.0127, 141: 0.0037, 160: 0.0088, 176: 0.0243, 205: 0.0032, 218: 0.0031, 223: 0.0031, 250: 0.0313, 265: 0.0013, 278: 0.0176, 323: 0.0993, 368: 0.0178, 396: 0.0062, 419: 0.0065, 452: 0.0253, 455: 0.0019, 477: 0.0577, 479: 0.1152, 490: 0.0051, 500: 0.0146, 503: 0.0064, 512: 0.1059, 514: 0.0203, 515: 0.1055})"
      ]
     },
     "execution_count": 16,
     "metadata": {},
     "output_type": "execute_result"
    }
   ],
   "source": [
    "bestModel_RandomForest.stages[3].featureImportances"
   ]
  },
  {
   "cell_type": "code",
   "execution_count": null,
   "id": "2764d1f9-261c-404b-8b33-36550c556157",
   "metadata": {},
   "outputs": [],
   "source": []
  }
 ],
 "metadata": {
  "kernelspec": {
   "display_name": "Python 3 (ipykernel)",
   "language": "python",
   "name": "python3"
  },
  "language_info": {
   "codemirror_mode": {
    "name": "ipython",
    "version": 3
   },
   "file_extension": ".py",
   "mimetype": "text/x-python",
   "name": "python",
   "nbconvert_exporter": "python",
   "pygments_lexer": "ipython3",
   "version": "3.7.0"
  }
 },
 "nbformat": 4,
 "nbformat_minor": 5
}
