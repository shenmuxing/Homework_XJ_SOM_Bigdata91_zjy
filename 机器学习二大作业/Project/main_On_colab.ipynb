{
 "cells": [
  {
   "cell_type": "markdown",
   "metadata": {},
   "source": [
    "# Import (Libraries & Functions)"
   ]
  },
  {
   "cell_type": "code",
   "execution_count": 1,
   "metadata": {},
   "outputs": [],
   "source": [
    "import pandas as pd\n",
    "import numpy as np\n",
    "import pickle\n",
    "import matplotlib.pyplot as plt\n",
    "import seaborn as sns"
   ]
  },
  {
   "cell_type": "code",
   "execution_count": 2,
   "metadata": {},
   "outputs": [],
   "source": [
    "def plot_confusion_matrix(cm, classes,\n",
    "                          normalize=False,\n",
    "                          title='Confusion matrix',\n",
    "                          cmap=plt.cm.Blues):\n",
    "    \"\"\"\n",
    "    This function prints and plots the confusion matrix.\n",
    "    Normalization can be applied by setting `normalize=True`.\n",
    "    \"\"\"\n",
    "    import itertools\n",
    "    if normalize:\n",
    "        cm = cm.astype('float') / cm.sum(axis=1)[:, np.newaxis]\n",
    "        print(\"Normalized confusion matrix\")\n",
    "    else:\n",
    "        print('Confusion matrix, without normalization')\n",
    "\n",
    "    plt.imshow(cm, interpolation='nearest', cmap=cmap)\n",
    "    plt.title(title)\n",
    "    plt.colorbar()\n",
    "    tick_marks = np.arange(len(classes))\n",
    "    plt.xticks(tick_marks, classes, rotation=45)\n",
    "    plt.yticks(tick_marks, classes)\n",
    "\n",
    "    fmt = '.2f' if normalize else 'd'\n",
    "    thresh = cm.max() / 2.\n",
    "    for i, j in itertools.product(range(cm.shape[0]), range(cm.shape[1])):\n",
    "        plt.text(j, i, format(cm[i, j], fmt),\n",
    "                 horizontalalignment=\"center\",\n",
    "                 color=\"white\" if cm[i, j] > thresh else \"black\")\n",
    "\n",
    "    plt.ylabel('True label')\n",
    "    plt.xlabel('Predicted label')\n",
    "    y = np.repeat(np.arange(0,len(classes)),15)\n",
    "    plt.xlim(-0.5, len(np.unique(y))-0.5)\n",
    "    plt.ylim(len(np.unique(y))-0.5, -0.5)\n",
    "    plt.tight_layout()"
   ]
  },
  {
   "cell_type": "markdown",
   "metadata": {},
   "source": [
    "# One patient"
   ]
  },
  {
   "cell_type": "code",
   "execution_count": 3,
   "metadata": {},
   "outputs": [],
   "source": [
    "path = \"data/S1/S1.pkl\"\n",
    "\n",
    "\n",
    "with open(path, \"rb\") as f:\n",
    "    data = pickle.load(f, encoding=\"latin-1\")"
   ]
  },
  {
   "cell_type": "code",
   "execution_count": 4,
   "metadata": {},
   "outputs": [
    {
     "data": {
      "text/plain": [
       "dict_keys(['rpeaks', 'signal', 'label', 'activity', 'questionnaire', 'subject'])"
      ]
     },
     "execution_count": 4,
     "metadata": {},
     "output_type": "execute_result"
    }
   ],
   "source": [
    "data.keys()"
   ]
  },
  {
   "cell_type": "code",
   "execution_count": 5,
   "metadata": {},
   "outputs": [
    {
     "data": {
      "text/plain": [
       "{'WEIGHT': 78.0,\n",
       " 'Gender': ' m',\n",
       " 'AGE': 34,\n",
       " 'HEIGHT': 182.0,\n",
       " 'SKIN': 3,\n",
       " 'SPORT': 6}"
      ]
     },
     "execution_count": 5,
     "metadata": {},
     "output_type": "execute_result"
    }
   ],
   "source": [
    "data[\"questionnaire\"]"
   ]
  },
  {
   "cell_type": "code",
   "execution_count": 6,
   "metadata": {},
   "outputs": [
    {
     "data": {
      "text/plain": [
       "'S1'"
      ]
     },
     "execution_count": 6,
     "metadata": {},
     "output_type": "execute_result"
    }
   ],
   "source": [
    "data[\"subject\"]"
   ]
  },
  {
   "cell_type": "markdown",
   "metadata": {},
   "source": [
    "## Activity"
   ]
  },
  {
   "cell_type": "code",
   "execution_count": 7,
   "metadata": {},
   "outputs": [
    {
     "name": "stdout",
     "output_type": "stream",
     "text": [
      "(36848, 1)\n"
     ]
    },
    {
     "data": {
      "text/html": [
       "<div>\n",
       "<style scoped>\n",
       "    .dataframe tbody tr th:only-of-type {\n",
       "        vertical-align: middle;\n",
       "    }\n",
       "\n",
       "    .dataframe tbody tr th {\n",
       "        vertical-align: top;\n",
       "    }\n",
       "\n",
       "    .dataframe thead th {\n",
       "        text-align: right;\n",
       "    }\n",
       "</style>\n",
       "<table border=\"1\" class=\"dataframe\">\n",
       "  <thead>\n",
       "    <tr style=\"text-align: right;\">\n",
       "      <th></th>\n",
       "      <th>Activity</th>\n",
       "    </tr>\n",
       "  </thead>\n",
       "  <tbody>\n",
       "    <tr>\n",
       "      <th>0</th>\n",
       "      <td>0</td>\n",
       "    </tr>\n",
       "    <tr>\n",
       "      <th>1</th>\n",
       "      <td>0</td>\n",
       "    </tr>\n",
       "    <tr>\n",
       "      <th>2</th>\n",
       "      <td>0</td>\n",
       "    </tr>\n",
       "    <tr>\n",
       "      <th>3</th>\n",
       "      <td>0</td>\n",
       "    </tr>\n",
       "    <tr>\n",
       "      <th>4</th>\n",
       "      <td>0</td>\n",
       "    </tr>\n",
       "  </tbody>\n",
       "</table>\n",
       "</div>"
      ],
      "text/plain": [
       "   Activity\n",
       "0         0\n",
       "1         0\n",
       "2         0\n",
       "3         0\n",
       "4         0"
      ]
     },
     "execution_count": 7,
     "metadata": {},
     "output_type": "execute_result"
    }
   ],
   "source": [
    "activity = pd.DataFrame(data[\"activity\"]).astype(int)\n",
    "activity.columns = [\"Activity\"]\n",
    "print(activity.shape)\n",
    "activity.head()"
   ]
  },
  {
   "cell_type": "code",
   "execution_count": 9,
   "metadata": {},
   "outputs": [
    {
     "data": {
      "text/plain": [
       "6    9420\n",
       "0    9124\n",
       "8    4756\n",
       "5    3556\n",
       "7    3016\n",
       "1    2800\n",
       "4    1648\n",
       "3    1380\n",
       "2    1148\n",
       "Name: Activity, dtype: int64"
      ]
     },
     "execution_count": 9,
     "metadata": {},
     "output_type": "execute_result"
    }
   ],
   "source": [
    "activity[\"Activity\"].value_counts()"
   ]
  },
  {
   "cell_type": "code",
   "execution_count": 10,
   "metadata": {},
   "outputs": [
    {
     "data": {
      "text/plain": [
       "[<matplotlib.lines.Line2D at 0x223687b0b88>]"
      ]
     },
     "execution_count": 10,
     "metadata": {},
     "output_type": "execute_result"
    },
    {
     "data": {
      "image/png": "[encoded data removed]",
      "text/plain": [
       "<Figure size 432x288 with 1 Axes>"
      ]
     },
     "metadata": {
      "needs_background": "light"
     },
     "output_type": "display_data"
    }
   ],
   "source": [
    "plt.plot(np.arange(activity.shape[0]),activity)"
   ]
  },
  {
   "cell_type": "markdown",
   "metadata": {},
   "source": [
    "- __Sitting (ID: 1)__: Sitting still while reading. The aim of this activity was to generate a motionartefact-free baseline.\n",
    "- __Ascending and descending stairs (ID: 2)__: Climbing six floors up and going down again,\n",
    "repeating this twice. This activity was carried out in the main building at our research\n",
    "campus. Note: for subjects S1 and S2, going down was performed only once.\n",
    "- __Table soccer (ID: 3)__: Playing table soccer, 1 vs. 1 with the supervisor of the data collection.\n",
    "- __Cycling (ID: 4)__: Performed outdoors, around our research campus, following a defined route\n",
    "of about 2km length with varying road conditions (gravel, paved).\n",
    "- __Driving a car (ID: 5)__: This activity started at the parking ground of our research campus and\n",
    "was carried out within the area nearby. Subjects followed a defined route which took about\n",
    "15 minutes to complete. The route included driving on different streets in a small city as well\n",
    "as driving on country roads.\n",
    "- __Lunch break (ID: 6)__: This activity was carried out at the canteen of our research campus. The\n",
    "activity included queuing and fetching food, eating, and talking at the table.\n",
    "- __Walking (ID: 7)__: This activity was carried out within the premises of our research campus,\n",
    "walking back from the canteen to the office, with some detour.\n",
    "- __Working (ID: 8)__: Subjects returned to their desk and worked as if not participating in this\n",
    "study. For each subject, work mainly consisted of working on a computer"
   ]
  },
  {
   "cell_type": "code",
   "execution_count": 11,
   "metadata": {},
   "outputs": [],
   "source": [
    "dic_activity = {1: \"Sitting\", 2: \"Stairs\", 3: \"Soccer\", 4: \"Cycling\", 5: \"Driving\", 6: \"Lunch\", 7: \"Walking\", 8: \"Working\"}"
   ]
  },
  {
   "cell_type": "markdown",
   "metadata": {},
   "source": [
    "## Label"
   ]
  },
  {
   "cell_type": "code",
   "execution_count": 12,
   "metadata": {
    "scrolled": false
   },
   "outputs": [
    {
     "data": {
      "text/html": [
       "<div>\n",
       "<style scoped>\n",
       "    .dataframe tbody tr th:only-of-type {\n",
       "        vertical-align: middle;\n",
       "    }\n",
       "\n",
       "    .dataframe tbody tr th {\n",
       "        vertical-align: top;\n",
       "    }\n",
       "\n",
       "    .dataframe thead th {\n",
       "        text-align: right;\n",
       "    }\n",
       "</style>\n",
       "<table border=\"1\" class=\"dataframe\">\n",
       "  <thead>\n",
       "    <tr style=\"text-align: right;\">\n",
       "      <th></th>\n",
       "      <th>0</th>\n",
       "    </tr>\n",
       "  </thead>\n",
       "  <tbody>\n",
       "    <tr>\n",
       "      <th>0</th>\n",
       "      <td>49.611369</td>\n",
       "    </tr>\n",
       "    <tr>\n",
       "      <th>1</th>\n",
       "      <td>50.323992</td>\n",
       "    </tr>\n",
       "    <tr>\n",
       "      <th>2</th>\n",
       "      <td>52.708336</td>\n",
       "    </tr>\n",
       "    <tr>\n",
       "      <th>3</th>\n",
       "      <td>55.640794</td>\n",
       "    </tr>\n",
       "    <tr>\n",
       "      <th>4</th>\n",
       "      <td>57.658406</td>\n",
       "    </tr>\n",
       "    <tr>\n",
       "      <th>...</th>\n",
       "      <td>...</td>\n",
       "    </tr>\n",
       "    <tr>\n",
       "      <th>4598</th>\n",
       "      <td>74.058629</td>\n",
       "    </tr>\n",
       "    <tr>\n",
       "      <th>4599</th>\n",
       "      <td>80.442006</td>\n",
       "    </tr>\n",
       "    <tr>\n",
       "      <th>4600</th>\n",
       "      <td>84.004991</td>\n",
       "    </tr>\n",
       "    <tr>\n",
       "      <th>4601</th>\n",
       "      <td>85.796257</td>\n",
       "    </tr>\n",
       "    <tr>\n",
       "      <th>4602</th>\n",
       "      <td>87.411399</td>\n",
       "    </tr>\n",
       "  </tbody>\n",
       "</table>\n",
       "<p>4603 rows × 1 columns</p>\n",
       "</div>"
      ],
      "text/plain": [
       "              0\n",
       "0     49.611369\n",
       "1     50.323992\n",
       "2     52.708336\n",
       "3     55.640794\n",
       "4     57.658406\n",
       "...         ...\n",
       "4598  74.058629\n",
       "4599  80.442006\n",
       "4600  84.004991\n",
       "4601  85.796257\n",
       "4602  87.411399\n",
       "\n",
       "[4603 rows x 1 columns]"
      ]
     },
     "execution_count": 12,
     "metadata": {},
     "output_type": "execute_result"
    }
   ],
   "source": [
    "label = pd.DataFrame(data[\"label\"])\n",
    "label"
   ]
  },
  {
   "cell_type": "code",
   "execution_count": 15,
   "metadata": {},
   "outputs": [
    {
     "name": "stdout",
     "output_type": "stream",
     "text": [
      "(36824, 1)\n"
     ]
    },
    {
     "data": {
      "text/html": [
       "<div>\n",
       "<style scoped>\n",
       "    .dataframe tbody tr th:only-of-type {\n",
       "        vertical-align: middle;\n",
       "    }\n",
       "\n",
       "    .dataframe tbody tr th {\n",
       "        vertical-align: top;\n",
       "    }\n",
       "\n",
       "    .dataframe thead th {\n",
       "        text-align: right;\n",
       "    }\n",
       "</style>\n",
       "<table border=\"1\" class=\"dataframe\">\n",
       "  <thead>\n",
       "    <tr style=\"text-align: right;\">\n",
       "      <th></th>\n",
       "      <th>Label</th>\n",
       "    </tr>\n",
       "  </thead>\n",
       "  <tbody>\n",
       "    <tr>\n",
       "      <th>0</th>\n",
       "      <td>49.611369</td>\n",
       "    </tr>\n",
       "    <tr>\n",
       "      <th>1</th>\n",
       "      <td>49.611369</td>\n",
       "    </tr>\n",
       "    <tr>\n",
       "      <th>2</th>\n",
       "      <td>49.611369</td>\n",
       "    </tr>\n",
       "    <tr>\n",
       "      <th>3</th>\n",
       "      <td>49.611369</td>\n",
       "    </tr>\n",
       "    <tr>\n",
       "      <th>4</th>\n",
       "      <td>49.611369</td>\n",
       "    </tr>\n",
       "    <tr>\n",
       "      <th>...</th>\n",
       "      <td>...</td>\n",
       "    </tr>\n",
       "    <tr>\n",
       "      <th>36843</th>\n",
       "      <td>74.838901</td>\n",
       "    </tr>\n",
       "    <tr>\n",
       "      <th>36844</th>\n",
       "      <td>74.838901</td>\n",
       "    </tr>\n",
       "    <tr>\n",
       "      <th>36845</th>\n",
       "      <td>74.838901</td>\n",
       "    </tr>\n",
       "    <tr>\n",
       "      <th>36846</th>\n",
       "      <td>74.838901</td>\n",
       "    </tr>\n",
       "    <tr>\n",
       "      <th>36847</th>\n",
       "      <td>74.838901</td>\n",
       "    </tr>\n",
       "  </tbody>\n",
       "</table>\n",
       "<p>36848 rows × 1 columns</p>\n",
       "</div>"
      ],
      "text/plain": [
       "           Label\n",
       "0      49.611369\n",
       "1      49.611369\n",
       "2      49.611369\n",
       "3      49.611369\n",
       "4      49.611369\n",
       "...          ...\n",
       "36843  74.838901\n",
       "36844  74.838901\n",
       "36845  74.838901\n",
       "36846  74.838901\n",
       "36847  74.838901\n",
       "\n",
       "[36848 rows x 1 columns]"
      ]
     },
     "execution_count": 15,
     "metadata": {},
     "output_type": "execute_result"
    }
   ],
   "source": [
    "label = pd.DataFrame(np.repeat(label.values,8,axis=0))\n",
    "label.columns = [\"Label\"]\n",
    "print(label.shape)\n",
    "if(np.size(label, axis = 0) < np.size(activity, axis = 0)):\n",
    "    mean = label.mean()\n",
    "    while(np.size(label, axis = 0) < np.size(activity, axis = 0)):\n",
    "        label = label.append(mean, ignore_index=True)\n",
    "label"
   ]
  },
  {
   "cell_type": "markdown",
   "metadata": {},
   "source": [
    "## Signal Data"
   ]
  },
  {
   "cell_type": "code",
   "execution_count": 16,
   "metadata": {},
   "outputs": [
    {
     "data": {
      "text/html": [
       "<div>\n",
       "<style scoped>\n",
       "    .dataframe tbody tr th:only-of-type {\n",
       "        vertical-align: middle;\n",
       "    }\n",
       "\n",
       "    .dataframe tbody tr th {\n",
       "        vertical-align: top;\n",
       "    }\n",
       "\n",
       "    .dataframe thead th {\n",
       "        text-align: right;\n",
       "    }\n",
       "</style>\n",
       "<table border=\"1\" class=\"dataframe\">\n",
       "  <thead>\n",
       "    <tr style=\"text-align: right;\">\n",
       "      <th></th>\n",
       "      <th>chest</th>\n",
       "      <th>wrist</th>\n",
       "    </tr>\n",
       "  </thead>\n",
       "  <tbody>\n",
       "    <tr>\n",
       "      <th>ACC</th>\n",
       "      <td>[[0.8564000129699707, -0.06779998540878296, -0...</td>\n",
       "      <td>[[-0.765625, -0.078125, 0.671875], [-0.765625,...</td>\n",
       "    </tr>\n",
       "    <tr>\n",
       "      <th>ECG</th>\n",
       "      <td>[[0.015609741210937498], [0.01812744140625], [...</td>\n",
       "      <td>NaN</td>\n",
       "    </tr>\n",
       "    <tr>\n",
       "      <th>EMG</th>\n",
       "      <td>[[-1.5], [-1.5], [-1.5], [-1.5], [-1.5], [-1.5...</td>\n",
       "      <td>NaN</td>\n",
       "    </tr>\n",
       "    <tr>\n",
       "      <th>EDA</th>\n",
       "      <td>[[0.0], [0.0], [0.0], [0.0], [0.0], [0.0], [0....</td>\n",
       "      <td>[[4.722437], [4.728843], [4.718594], [4.717312...</td>\n",
       "    </tr>\n",
       "    <tr>\n",
       "      <th>Temp</th>\n",
       "      <td>[[-273.15], [-273.15], [-273.15], [-273.15], [...</td>\n",
       "      <td>NaN</td>\n",
       "    </tr>\n",
       "    <tr>\n",
       "      <th>Resp</th>\n",
       "      <td>[[4.44183349609375], [4.45098876953125], [4.47...</td>\n",
       "      <td>NaN</td>\n",
       "    </tr>\n",
       "    <tr>\n",
       "      <th>BVP</th>\n",
       "      <td>NaN</td>\n",
       "      <td>[[7.28], [6.33], [5.46], [4.6], [3.74], [2.86]...</td>\n",
       "    </tr>\n",
       "    <tr>\n",
       "      <th>TEMP</th>\n",
       "      <td>NaN</td>\n",
       "      <td>[[32.13], [32.16], [32.16], [32.16], [32.16], ...</td>\n",
       "    </tr>\n",
       "  </tbody>\n",
       "</table>\n",
       "</div>"
      ],
      "text/plain": [
       "                                                  chest  \\\n",
       "ACC   [[0.8564000129699707, -0.06779998540878296, -0...   \n",
       "ECG   [[0.015609741210937498], [0.01812744140625], [...   \n",
       "EMG   [[-1.5], [-1.5], [-1.5], [-1.5], [-1.5], [-1.5...   \n",
       "EDA   [[0.0], [0.0], [0.0], [0.0], [0.0], [0.0], [0....   \n",
       "Temp  [[-273.15], [-273.15], [-273.15], [-273.15], [...   \n",
       "Resp  [[4.44183349609375], [4.45098876953125], [4.47...   \n",
       "BVP                                                 NaN   \n",
       "TEMP                                                NaN   \n",
       "\n",
       "                                                  wrist  \n",
       "ACC   [[-0.765625, -0.078125, 0.671875], [-0.765625,...  \n",
       "ECG                                                 NaN  \n",
       "EMG                                                 NaN  \n",
       "EDA   [[4.722437], [4.728843], [4.718594], [4.717312...  \n",
       "Temp                                                NaN  \n",
       "Resp                                                NaN  \n",
       "BVP   [[7.28], [6.33], [5.46], [4.6], [3.74], [2.86]...  \n",
       "TEMP  [[32.13], [32.16], [32.16], [32.16], [32.16], ...  "
      ]
     },
     "execution_count": 16,
     "metadata": {},
     "output_type": "execute_result"
    }
   ],
   "source": [
    "signal = pd.DataFrame(data[\"signal\"])\n",
    "signal"
   ]
  },
  {
   "cell_type": "markdown",
   "metadata": {},
   "source": [
    "### Chest"
   ]
  },
  {
   "cell_type": "markdown",
   "metadata": {},
   "source": [
    "The modalities ‘EDA’, ‘EMG’ and ‘Temp’ only include dummy data and should thus be ignored."
   ]
  },
  {
   "cell_type": "code",
   "execution_count": 20,
   "metadata": {},
   "outputs": [
    {
     "data": {
      "text/plain": [
       "160"
      ]
     },
     "execution_count": 20,
     "metadata": {},
     "output_type": "execute_result"
    }
   ],
   "source": []
  },
  {
   "cell_type": "code",
   "execution_count": 17,
   "metadata": {},
   "outputs": [
    {
     "data": {
      "text/html": [
       "<div>\n",
       "<style scoped>\n",
       "    .dataframe tbody tr th:only-of-type {\n",
       "        vertical-align: middle;\n",
       "    }\n",
       "\n",
       "    .dataframe tbody tr th {\n",
       "        vertical-align: top;\n",
       "    }\n",
       "\n",
       "    .dataframe thead th {\n",
       "        text-align: right;\n",
       "    }\n",
       "</style>\n",
       "<table border=\"1\" class=\"dataframe\">\n",
       "  <thead>\n",
       "    <tr style=\"text-align: right;\">\n",
       "      <th></th>\n",
       "      <th>0</th>\n",
       "      <th>1</th>\n",
       "      <th>2</th>\n",
       "    </tr>\n",
       "  </thead>\n",
       "  <tbody>\n",
       "    <tr>\n",
       "      <th>0</th>\n",
       "      <td>0.8564</td>\n",
       "      <td>-0.0678</td>\n",
       "      <td>-0.3656</td>\n",
       "    </tr>\n",
       "    <tr>\n",
       "      <th>1</th>\n",
       "      <td>0.8556</td>\n",
       "      <td>-0.0690</td>\n",
       "      <td>-0.3646</td>\n",
       "    </tr>\n",
       "    <tr>\n",
       "      <th>2</th>\n",
       "      <td>0.8520</td>\n",
       "      <td>-0.0702</td>\n",
       "      <td>-0.3642</td>\n",
       "    </tr>\n",
       "    <tr>\n",
       "      <th>3</th>\n",
       "      <td>0.8526</td>\n",
       "      <td>-0.0690</td>\n",
       "      <td>-0.3640</td>\n",
       "    </tr>\n",
       "    <tr>\n",
       "      <th>4</th>\n",
       "      <td>0.8526</td>\n",
       "      <td>-0.0698</td>\n",
       "      <td>-0.3654</td>\n",
       "    </tr>\n",
       "    <tr>\n",
       "      <th>...</th>\n",
       "      <td>...</td>\n",
       "      <td>...</td>\n",
       "      <td>...</td>\n",
       "    </tr>\n",
       "    <tr>\n",
       "      <th>6448395</th>\n",
       "      <td>0.8862</td>\n",
       "      <td>-0.1022</td>\n",
       "      <td>-0.2760</td>\n",
       "    </tr>\n",
       "    <tr>\n",
       "      <th>6448396</th>\n",
       "      <td>0.8866</td>\n",
       "      <td>-0.1036</td>\n",
       "      <td>-0.2766</td>\n",
       "    </tr>\n",
       "    <tr>\n",
       "      <th>6448397</th>\n",
       "      <td>0.8876</td>\n",
       "      <td>-0.1038</td>\n",
       "      <td>-0.2792</td>\n",
       "    </tr>\n",
       "    <tr>\n",
       "      <th>6448398</th>\n",
       "      <td>0.8862</td>\n",
       "      <td>-0.1016</td>\n",
       "      <td>-0.2782</td>\n",
       "    </tr>\n",
       "    <tr>\n",
       "      <th>6448399</th>\n",
       "      <td>0.8868</td>\n",
       "      <td>-0.1014</td>\n",
       "      <td>-0.2738</td>\n",
       "    </tr>\n",
       "  </tbody>\n",
       "</table>\n",
       "<p>6448400 rows × 3 columns</p>\n",
       "</div>"
      ],
      "text/plain": [
       "              0       1       2\n",
       "0        0.8564 -0.0678 -0.3656\n",
       "1        0.8556 -0.0690 -0.3646\n",
       "2        0.8520 -0.0702 -0.3642\n",
       "3        0.8526 -0.0690 -0.3640\n",
       "4        0.8526 -0.0698 -0.3654\n",
       "...         ...     ...     ...\n",
       "6448395  0.8862 -0.1022 -0.2760\n",
       "6448396  0.8866 -0.1036 -0.2766\n",
       "6448397  0.8876 -0.1038 -0.2792\n",
       "6448398  0.8862 -0.1016 -0.2782\n",
       "6448399  0.8868 -0.1014 -0.2738\n",
       "\n",
       "[6448400 rows x 3 columns]"
      ]
     },
     "metadata": {},
     "output_type": "display_data"
    },
    {
     "data": {
      "text/html": [
       "<div>\n",
       "<style scoped>\n",
       "    .dataframe tbody tr th:only-of-type {\n",
       "        vertical-align: middle;\n",
       "    }\n",
       "\n",
       "    .dataframe tbody tr th {\n",
       "        vertical-align: top;\n",
       "    }\n",
       "\n",
       "    .dataframe thead th {\n",
       "        text-align: right;\n",
       "    }\n",
       "</style>\n",
       "<table border=\"1\" class=\"dataframe\">\n",
       "  <thead>\n",
       "    <tr style=\"text-align: right;\">\n",
       "      <th></th>\n",
       "      <th>ACC_x</th>\n",
       "      <th>ACC_y</th>\n",
       "      <th>ACC_z</th>\n",
       "    </tr>\n",
       "  </thead>\n",
       "  <tbody>\n",
       "    <tr>\n",
       "      <th>0</th>\n",
       "      <td>0.8564</td>\n",
       "      <td>-0.0678</td>\n",
       "      <td>-0.3656</td>\n",
       "    </tr>\n",
       "    <tr>\n",
       "      <th>1</th>\n",
       "      <td>0.8514</td>\n",
       "      <td>-0.0654</td>\n",
       "      <td>-0.3688</td>\n",
       "    </tr>\n",
       "    <tr>\n",
       "      <th>2</th>\n",
       "      <td>0.8514</td>\n",
       "      <td>-0.0662</td>\n",
       "      <td>-0.3708</td>\n",
       "    </tr>\n",
       "    <tr>\n",
       "      <th>3</th>\n",
       "      <td>0.8594</td>\n",
       "      <td>-0.0632</td>\n",
       "      <td>-0.3640</td>\n",
       "    </tr>\n",
       "    <tr>\n",
       "      <th>4</th>\n",
       "      <td>0.8510</td>\n",
       "      <td>-0.0674</td>\n",
       "      <td>-0.3694</td>\n",
       "    </tr>\n",
       "    <tr>\n",
       "      <th>...</th>\n",
       "      <td>...</td>\n",
       "      <td>...</td>\n",
       "      <td>...</td>\n",
       "    </tr>\n",
       "    <tr>\n",
       "      <th>36843</th>\n",
       "      <td>0.8956</td>\n",
       "      <td>-0.1158</td>\n",
       "      <td>-0.2526</td>\n",
       "    </tr>\n",
       "    <tr>\n",
       "      <th>36844</th>\n",
       "      <td>0.8888</td>\n",
       "      <td>-0.1062</td>\n",
       "      <td>-0.2684</td>\n",
       "    </tr>\n",
       "    <tr>\n",
       "      <th>36845</th>\n",
       "      <td>0.8802</td>\n",
       "      <td>-0.0966</td>\n",
       "      <td>-0.2938</td>\n",
       "    </tr>\n",
       "    <tr>\n",
       "      <th>36846</th>\n",
       "      <td>0.8842</td>\n",
       "      <td>-0.0962</td>\n",
       "      <td>-0.2820</td>\n",
       "    </tr>\n",
       "    <tr>\n",
       "      <th>36847</th>\n",
       "      <td>0.8890</td>\n",
       "      <td>-0.0998</td>\n",
       "      <td>-0.2694</td>\n",
       "    </tr>\n",
       "  </tbody>\n",
       "</table>\n",
       "<p>36848 rows × 3 columns</p>\n",
       "</div>"
      ],
      "text/plain": [
       "        ACC_x   ACC_y   ACC_z\n",
       "0      0.8564 -0.0678 -0.3656\n",
       "1      0.8514 -0.0654 -0.3688\n",
       "2      0.8514 -0.0662 -0.3708\n",
       "3      0.8594 -0.0632 -0.3640\n",
       "4      0.8510 -0.0674 -0.3694\n",
       "...       ...     ...     ...\n",
       "36843  0.8956 -0.1158 -0.2526\n",
       "36844  0.8888 -0.1062 -0.2684\n",
       "36845  0.8802 -0.0966 -0.2938\n",
       "36846  0.8842 -0.0962 -0.2820\n",
       "36847  0.8890 -0.0998 -0.2694\n",
       "\n",
       "[36848 rows x 3 columns]"
      ]
     },
     "execution_count": 17,
     "metadata": {},
     "output_type": "execute_result"
    }
   ],
   "source": [
    "ACC = pd.DataFrame(signal[\"chest\"].ACC)\n",
    "display(ACC)\n",
    "ACC = ACC.iloc[::175, :]\n",
    "ACC.columns = [\"ACC_x\", \"ACC_y\", \"ACC_z\"]\n",
    "ACC.reset_index(drop = True, inplace=True)\n",
    "ACC"
   ]
  },
  {
   "cell_type": "code",
   "execution_count": 21,
   "metadata": {},
   "outputs": [
    {
     "data": {
      "text/html": [
       "<div>\n",
       "<style scoped>\n",
       "    .dataframe tbody tr th:only-of-type {\n",
       "        vertical-align: middle;\n",
       "    }\n",
       "\n",
       "    .dataframe tbody tr th {\n",
       "        vertical-align: top;\n",
       "    }\n",
       "\n",
       "    .dataframe thead th {\n",
       "        text-align: right;\n",
       "    }\n",
       "</style>\n",
       "<table border=\"1\" class=\"dataframe\">\n",
       "  <thead>\n",
       "    <tr style=\"text-align: right;\">\n",
       "      <th></th>\n",
       "      <th>0</th>\n",
       "    </tr>\n",
       "  </thead>\n",
       "  <tbody>\n",
       "    <tr>\n",
       "      <th>0</th>\n",
       "      <td>0.015610</td>\n",
       "    </tr>\n",
       "    <tr>\n",
       "      <th>1</th>\n",
       "      <td>-0.015747</td>\n",
       "    </tr>\n",
       "    <tr>\n",
       "      <th>2</th>\n",
       "      <td>-0.008743</td>\n",
       "    </tr>\n",
       "    <tr>\n",
       "      <th>3</th>\n",
       "      <td>-0.339523</td>\n",
       "    </tr>\n",
       "    <tr>\n",
       "      <th>4</th>\n",
       "      <td>-0.089905</td>\n",
       "    </tr>\n",
       "    <tr>\n",
       "      <th>...</th>\n",
       "      <td>...</td>\n",
       "    </tr>\n",
       "    <tr>\n",
       "      <th>36843</th>\n",
       "      <td>-0.091507</td>\n",
       "    </tr>\n",
       "    <tr>\n",
       "      <th>36844</th>\n",
       "      <td>-0.159714</td>\n",
       "    </tr>\n",
       "    <tr>\n",
       "      <th>36845</th>\n",
       "      <td>0.074890</td>\n",
       "    </tr>\n",
       "    <tr>\n",
       "      <th>36846</th>\n",
       "      <td>-0.110779</td>\n",
       "    </tr>\n",
       "    <tr>\n",
       "      <th>36847</th>\n",
       "      <td>1.419754</td>\n",
       "    </tr>\n",
       "  </tbody>\n",
       "</table>\n",
       "<p>36848 rows × 1 columns</p>\n",
       "</div>"
      ],
      "text/plain": [
       "              0\n",
       "0      0.015610\n",
       "1     -0.015747\n",
       "2     -0.008743\n",
       "3     -0.339523\n",
       "4     -0.089905\n",
       "...         ...\n",
       "36843 -0.091507\n",
       "36844 -0.159714\n",
       "36845  0.074890\n",
       "36846 -0.110779\n",
       "36847  1.419754\n",
       "\n",
       "[36848 rows x 1 columns]"
      ]
     },
     "execution_count": 21,
     "metadata": {},
     "output_type": "execute_result"
    }
   ],
   "source": [
    "ECG = pd.DataFrame(signal[\"chest\"].ECG)\n",
    "ECG = ECG.iloc[::175, :]\n",
    "ECG.reset_index(drop = True, inplace=True)\n",
    "ECG"
   ]
  },
  {
   "cell_type": "code",
   "execution_count": 22,
   "metadata": {},
   "outputs": [
    {
     "data": {
      "text/html": [
       "<div>\n",
       "<style scoped>\n",
       "    .dataframe tbody tr th:only-of-type {\n",
       "        vertical-align: middle;\n",
       "    }\n",
       "\n",
       "    .dataframe tbody tr th {\n",
       "        vertical-align: top;\n",
       "    }\n",
       "\n",
       "    .dataframe thead th {\n",
       "        text-align: right;\n",
       "    }\n",
       "</style>\n",
       "<table border=\"1\" class=\"dataframe\">\n",
       "  <thead>\n",
       "    <tr style=\"text-align: right;\">\n",
       "      <th></th>\n",
       "      <th>Resp</th>\n",
       "    </tr>\n",
       "  </thead>\n",
       "  <tbody>\n",
       "    <tr>\n",
       "      <th>0</th>\n",
       "      <td>4.441833</td>\n",
       "    </tr>\n",
       "    <tr>\n",
       "      <th>1</th>\n",
       "      <td>4.876709</td>\n",
       "    </tr>\n",
       "    <tr>\n",
       "      <th>2</th>\n",
       "      <td>3.340149</td>\n",
       "    </tr>\n",
       "    <tr>\n",
       "      <th>3</th>\n",
       "      <td>0.740051</td>\n",
       "    </tr>\n",
       "    <tr>\n",
       "      <th>4</th>\n",
       "      <td>-1.475525</td>\n",
       "    </tr>\n",
       "    <tr>\n",
       "      <th>...</th>\n",
       "      <td>...</td>\n",
       "    </tr>\n",
       "    <tr>\n",
       "      <th>36843</th>\n",
       "      <td>-2.183533</td>\n",
       "    </tr>\n",
       "    <tr>\n",
       "      <th>36844</th>\n",
       "      <td>-1.872253</td>\n",
       "    </tr>\n",
       "    <tr>\n",
       "      <th>36845</th>\n",
       "      <td>-2.696228</td>\n",
       "    </tr>\n",
       "    <tr>\n",
       "      <th>36846</th>\n",
       "      <td>-3.175354</td>\n",
       "    </tr>\n",
       "    <tr>\n",
       "      <th>36847</th>\n",
       "      <td>-3.363037</td>\n",
       "    </tr>\n",
       "  </tbody>\n",
       "</table>\n",
       "<p>36848 rows × 1 columns</p>\n",
       "</div>"
      ],
      "text/plain": [
       "           Resp\n",
       "0      4.441833\n",
       "1      4.876709\n",
       "2      3.340149\n",
       "3      0.740051\n",
       "4     -1.475525\n",
       "...         ...\n",
       "36843 -2.183533\n",
       "36844 -1.872253\n",
       "36845 -2.696228\n",
       "36846 -3.175354\n",
       "36847 -3.363037\n",
       "\n",
       "[36848 rows x 1 columns]"
      ]
     },
     "execution_count": 22,
     "metadata": {},
     "output_type": "execute_result"
    }
   ],
   "source": [
    "Resp = pd.DataFrame(signal[\"chest\"].Resp)\n",
    "Resp = Resp.iloc[::175, :]\n",
    "Resp.columns = [\"Resp\"]\n",
    "Resp.reset_index(drop = True, inplace=True)\n",
    "Resp"
   ]
  },
  {
   "cell_type": "code",
   "execution_count": 23,
   "metadata": {},
   "outputs": [
    {
     "data": {
      "text/html": [
       "<div>\n",
       "<style scoped>\n",
       "    .dataframe tbody tr th:only-of-type {\n",
       "        vertical-align: middle;\n",
       "    }\n",
       "\n",
       "    .dataframe tbody tr th {\n",
       "        vertical-align: top;\n",
       "    }\n",
       "\n",
       "    .dataframe thead th {\n",
       "        text-align: right;\n",
       "    }\n",
       "</style>\n",
       "<table border=\"1\" class=\"dataframe\">\n",
       "  <thead>\n",
       "    <tr style=\"text-align: right;\">\n",
       "      <th></th>\n",
       "      <th>chest_ACC_x</th>\n",
       "      <th>chest_ACC_y</th>\n",
       "      <th>chest_ACC_z</th>\n",
       "      <th>chest_Resp</th>\n",
       "      <th>chest_ECG</th>\n",
       "    </tr>\n",
       "  </thead>\n",
       "  <tbody>\n",
       "    <tr>\n",
       "      <th>0</th>\n",
       "      <td>0.8564</td>\n",
       "      <td>-0.0678</td>\n",
       "      <td>-0.3656</td>\n",
       "      <td>4.441833</td>\n",
       "      <td>0.015610</td>\n",
       "    </tr>\n",
       "    <tr>\n",
       "      <th>1</th>\n",
       "      <td>0.8514</td>\n",
       "      <td>-0.0654</td>\n",
       "      <td>-0.3688</td>\n",
       "      <td>4.876709</td>\n",
       "      <td>-0.015747</td>\n",
       "    </tr>\n",
       "    <tr>\n",
       "      <th>2</th>\n",
       "      <td>0.8514</td>\n",
       "      <td>-0.0662</td>\n",
       "      <td>-0.3708</td>\n",
       "      <td>3.340149</td>\n",
       "      <td>-0.008743</td>\n",
       "    </tr>\n",
       "    <tr>\n",
       "      <th>3</th>\n",
       "      <td>0.8594</td>\n",
       "      <td>-0.0632</td>\n",
       "      <td>-0.3640</td>\n",
       "      <td>0.740051</td>\n",
       "      <td>-0.339523</td>\n",
       "    </tr>\n",
       "    <tr>\n",
       "      <th>4</th>\n",
       "      <td>0.8510</td>\n",
       "      <td>-0.0674</td>\n",
       "      <td>-0.3694</td>\n",
       "      <td>-1.475525</td>\n",
       "      <td>-0.089905</td>\n",
       "    </tr>\n",
       "    <tr>\n",
       "      <th>...</th>\n",
       "      <td>...</td>\n",
       "      <td>...</td>\n",
       "      <td>...</td>\n",
       "      <td>...</td>\n",
       "      <td>...</td>\n",
       "    </tr>\n",
       "    <tr>\n",
       "      <th>36843</th>\n",
       "      <td>0.8956</td>\n",
       "      <td>-0.1158</td>\n",
       "      <td>-0.2526</td>\n",
       "      <td>-2.183533</td>\n",
       "      <td>-0.091507</td>\n",
       "    </tr>\n",
       "    <tr>\n",
       "      <th>36844</th>\n",
       "      <td>0.8888</td>\n",
       "      <td>-0.1062</td>\n",
       "      <td>-0.2684</td>\n",
       "      <td>-1.872253</td>\n",
       "      <td>-0.159714</td>\n",
       "    </tr>\n",
       "    <tr>\n",
       "      <th>36845</th>\n",
       "      <td>0.8802</td>\n",
       "      <td>-0.0966</td>\n",
       "      <td>-0.2938</td>\n",
       "      <td>-2.696228</td>\n",
       "      <td>0.074890</td>\n",
       "    </tr>\n",
       "    <tr>\n",
       "      <th>36846</th>\n",
       "      <td>0.8842</td>\n",
       "      <td>-0.0962</td>\n",
       "      <td>-0.2820</td>\n",
       "      <td>-3.175354</td>\n",
       "      <td>-0.110779</td>\n",
       "    </tr>\n",
       "    <tr>\n",
       "      <th>36847</th>\n",
       "      <td>0.8890</td>\n",
       "      <td>-0.0998</td>\n",
       "      <td>-0.2694</td>\n",
       "      <td>-3.363037</td>\n",
       "      <td>1.419754</td>\n",
       "    </tr>\n",
       "  </tbody>\n",
       "</table>\n",
       "<p>36848 rows × 5 columns</p>\n",
       "</div>"
      ],
      "text/plain": [
       "       chest_ACC_x  chest_ACC_y  chest_ACC_z  chest_Resp  chest_ECG\n",
       "0           0.8564      -0.0678      -0.3656    4.441833   0.015610\n",
       "1           0.8514      -0.0654      -0.3688    4.876709  -0.015747\n",
       "2           0.8514      -0.0662      -0.3708    3.340149  -0.008743\n",
       "3           0.8594      -0.0632      -0.3640    0.740051  -0.339523\n",
       "4           0.8510      -0.0674      -0.3694   -1.475525  -0.089905\n",
       "...            ...          ...          ...         ...        ...\n",
       "36843       0.8956      -0.1158      -0.2526   -2.183533  -0.091507\n",
       "36844       0.8888      -0.1062      -0.2684   -1.872253  -0.159714\n",
       "36845       0.8802      -0.0966      -0.2938   -2.696228   0.074890\n",
       "36846       0.8842      -0.0962      -0.2820   -3.175354  -0.110779\n",
       "36847       0.8890      -0.0998      -0.2694   -3.363037   1.419754\n",
       "\n",
       "[36848 rows x 5 columns]"
      ]
     },
     "execution_count": 23,
     "metadata": {},
     "output_type": "execute_result"
    }
   ],
   "source": [
    "chest = pd.concat([ACC], sort=False)\n",
    "chest[\"Resp\"] = Resp\n",
    "chest[\"ECG\"] = ECG\n",
    "chest.reset_index(drop=True, inplace=True)\n",
    "chest = chest.add_prefix('chest_')\n",
    "chest"
   ]
  },
  {
   "cell_type": "markdown",
   "metadata": {},
   "source": [
    "### Wrist"
   ]
  },
  {
   "cell_type": "code",
   "execution_count": 24,
   "metadata": {},
   "outputs": [
    {
     "data": {
      "text/html": [
       "<div>\n",
       "<style scoped>\n",
       "    .dataframe tbody tr th:only-of-type {\n",
       "        vertical-align: middle;\n",
       "    }\n",
       "\n",
       "    .dataframe tbody tr th {\n",
       "        vertical-align: top;\n",
       "    }\n",
       "\n",
       "    .dataframe thead th {\n",
       "        text-align: right;\n",
       "    }\n",
       "</style>\n",
       "<table border=\"1\" class=\"dataframe\">\n",
       "  <thead>\n",
       "    <tr style=\"text-align: right;\">\n",
       "      <th></th>\n",
       "      <th>ACC_x</th>\n",
       "      <th>ACC_y</th>\n",
       "      <th>ACC_z</th>\n",
       "    </tr>\n",
       "  </thead>\n",
       "  <tbody>\n",
       "    <tr>\n",
       "      <th>0</th>\n",
       "      <td>-0.765625</td>\n",
       "      <td>-0.078125</td>\n",
       "      <td>0.671875</td>\n",
       "    </tr>\n",
       "    <tr>\n",
       "      <th>1</th>\n",
       "      <td>-0.765625</td>\n",
       "      <td>-0.078125</td>\n",
       "      <td>0.671875</td>\n",
       "    </tr>\n",
       "    <tr>\n",
       "      <th>2</th>\n",
       "      <td>-0.765625</td>\n",
       "      <td>-0.078125</td>\n",
       "      <td>0.671875</td>\n",
       "    </tr>\n",
       "    <tr>\n",
       "      <th>3</th>\n",
       "      <td>-0.750000</td>\n",
       "      <td>-0.078125</td>\n",
       "      <td>0.671875</td>\n",
       "    </tr>\n",
       "    <tr>\n",
       "      <th>4</th>\n",
       "      <td>-0.765625</td>\n",
       "      <td>-0.078125</td>\n",
       "      <td>0.671875</td>\n",
       "    </tr>\n",
       "    <tr>\n",
       "      <th>...</th>\n",
       "      <td>...</td>\n",
       "      <td>...</td>\n",
       "      <td>...</td>\n",
       "    </tr>\n",
       "    <tr>\n",
       "      <th>36843</th>\n",
       "      <td>-0.375000</td>\n",
       "      <td>-0.015625</td>\n",
       "      <td>0.937500</td>\n",
       "    </tr>\n",
       "    <tr>\n",
       "      <th>36844</th>\n",
       "      <td>-0.359375</td>\n",
       "      <td>-0.015625</td>\n",
       "      <td>0.953125</td>\n",
       "    </tr>\n",
       "    <tr>\n",
       "      <th>36845</th>\n",
       "      <td>-0.437500</td>\n",
       "      <td>-0.015625</td>\n",
       "      <td>0.906250</td>\n",
       "    </tr>\n",
       "    <tr>\n",
       "      <th>36846</th>\n",
       "      <td>-0.390625</td>\n",
       "      <td>-0.015625</td>\n",
       "      <td>0.921875</td>\n",
       "    </tr>\n",
       "    <tr>\n",
       "      <th>36847</th>\n",
       "      <td>-0.390625</td>\n",
       "      <td>0.000000</td>\n",
       "      <td>0.937500</td>\n",
       "    </tr>\n",
       "  </tbody>\n",
       "</table>\n",
       "<p>36848 rows × 3 columns</p>\n",
       "</div>"
      ],
      "text/plain": [
       "          ACC_x     ACC_y     ACC_z\n",
       "0     -0.765625 -0.078125  0.671875\n",
       "1     -0.765625 -0.078125  0.671875\n",
       "2     -0.765625 -0.078125  0.671875\n",
       "3     -0.750000 -0.078125  0.671875\n",
       "4     -0.765625 -0.078125  0.671875\n",
       "...         ...       ...       ...\n",
       "36843 -0.375000 -0.015625  0.937500\n",
       "36844 -0.359375 -0.015625  0.953125\n",
       "36845 -0.437500 -0.015625  0.906250\n",
       "36846 -0.390625 -0.015625  0.921875\n",
       "36847 -0.390625  0.000000  0.937500\n",
       "\n",
       "[36848 rows x 3 columns]"
      ]
     },
     "execution_count": 24,
     "metadata": {},
     "output_type": "execute_result"
    }
   ],
   "source": [
    "ACC = pd.DataFrame(signal[\"wrist\"].ACC)\n",
    "ACC = ACC.iloc[::8, :]\n",
    "ACC.columns = [\"ACC_x\", \"ACC_y\", \"ACC_z\"]\n",
    "ACC.reset_index(drop = True, inplace=True)\n",
    "ACC"
   ]
  },
  {
   "cell_type": "code",
   "execution_count": 26,
   "metadata": {},
   "outputs": [
    {
     "data": {
      "text/html": [
       "<div>\n",
       "<style scoped>\n",
       "    .dataframe tbody tr th:only-of-type {\n",
       "        vertical-align: middle;\n",
       "    }\n",
       "\n",
       "    .dataframe tbody tr th {\n",
       "        vertical-align: top;\n",
       "    }\n",
       "\n",
       "    .dataframe thead th {\n",
       "        text-align: right;\n",
       "    }\n",
       "</style>\n",
       "<table border=\"1\" class=\"dataframe\">\n",
       "  <thead>\n",
       "    <tr style=\"text-align: right;\">\n",
       "      <th></th>\n",
       "      <th>EDA</th>\n",
       "    </tr>\n",
       "  </thead>\n",
       "  <tbody>\n",
       "    <tr>\n",
       "      <th>0</th>\n",
       "      <td>4.722437</td>\n",
       "    </tr>\n",
       "    <tr>\n",
       "      <th>1</th>\n",
       "      <td>4.728843</td>\n",
       "    </tr>\n",
       "    <tr>\n",
       "      <th>2</th>\n",
       "      <td>4.718594</td>\n",
       "    </tr>\n",
       "    <tr>\n",
       "      <th>3</th>\n",
       "      <td>4.717312</td>\n",
       "    </tr>\n",
       "    <tr>\n",
       "      <th>4</th>\n",
       "      <td>4.713469</td>\n",
       "    </tr>\n",
       "    <tr>\n",
       "      <th>...</th>\n",
       "      <td>...</td>\n",
       "    </tr>\n",
       "    <tr>\n",
       "      <th>36843</th>\n",
       "      <td>3.199053</td>\n",
       "    </tr>\n",
       "    <tr>\n",
       "      <th>36844</th>\n",
       "      <td>3.186241</td>\n",
       "    </tr>\n",
       "    <tr>\n",
       "      <th>36845</th>\n",
       "      <td>3.170867</td>\n",
       "    </tr>\n",
       "    <tr>\n",
       "      <th>36846</th>\n",
       "      <td>3.159336</td>\n",
       "    </tr>\n",
       "    <tr>\n",
       "      <th>36847</th>\n",
       "      <td>3.151649</td>\n",
       "    </tr>\n",
       "  </tbody>\n",
       "</table>\n",
       "<p>36848 rows × 1 columns</p>\n",
       "</div>"
      ],
      "text/plain": [
       "            EDA\n",
       "0      4.722437\n",
       "1      4.728843\n",
       "2      4.718594\n",
       "3      4.717312\n",
       "4      4.713469\n",
       "...         ...\n",
       "36843  3.199053\n",
       "36844  3.186241\n",
       "36845  3.170867\n",
       "36846  3.159336\n",
       "36847  3.151649\n",
       "\n",
       "[36848 rows x 1 columns]"
      ]
     },
     "execution_count": 26,
     "metadata": {},
     "output_type": "execute_result"
    }
   ],
   "source": [
    "EDA = pd.DataFrame(signal[\"wrist\"].EDA)\n",
    "EDA.columns = [\"EDA\"]\n",
    "EDA"
   ]
  },
  {
   "cell_type": "code",
   "execution_count": 27,
   "metadata": {},
   "outputs": [
    {
     "data": {
      "text/html": [
       "<div>\n",
       "<style scoped>\n",
       "    .dataframe tbody tr th:only-of-type {\n",
       "        vertical-align: middle;\n",
       "    }\n",
       "\n",
       "    .dataframe tbody tr th {\n",
       "        vertical-align: top;\n",
       "    }\n",
       "\n",
       "    .dataframe thead th {\n",
       "        text-align: right;\n",
       "    }\n",
       "</style>\n",
       "<table border=\"1\" class=\"dataframe\">\n",
       "  <thead>\n",
       "    <tr style=\"text-align: right;\">\n",
       "      <th></th>\n",
       "      <th>BVP</th>\n",
       "    </tr>\n",
       "  </thead>\n",
       "  <tbody>\n",
       "    <tr>\n",
       "      <th>0</th>\n",
       "      <td>7.28</td>\n",
       "    </tr>\n",
       "    <tr>\n",
       "      <th>1</th>\n",
       "      <td>-11.36</td>\n",
       "    </tr>\n",
       "    <tr>\n",
       "      <th>2</th>\n",
       "      <td>-51.27</td>\n",
       "    </tr>\n",
       "    <tr>\n",
       "      <th>3</th>\n",
       "      <td>5.65</td>\n",
       "    </tr>\n",
       "    <tr>\n",
       "      <th>4</th>\n",
       "      <td>34.34</td>\n",
       "    </tr>\n",
       "    <tr>\n",
       "      <th>...</th>\n",
       "      <td>...</td>\n",
       "    </tr>\n",
       "    <tr>\n",
       "      <th>36843</th>\n",
       "      <td>22.62</td>\n",
       "    </tr>\n",
       "    <tr>\n",
       "      <th>36844</th>\n",
       "      <td>116.83</td>\n",
       "    </tr>\n",
       "    <tr>\n",
       "      <th>36845</th>\n",
       "      <td>-18.36</td>\n",
       "    </tr>\n",
       "    <tr>\n",
       "      <th>36846</th>\n",
       "      <td>-6.64</td>\n",
       "    </tr>\n",
       "    <tr>\n",
       "      <th>36847</th>\n",
       "      <td>-85.89</td>\n",
       "    </tr>\n",
       "  </tbody>\n",
       "</table>\n",
       "<p>36848 rows × 1 columns</p>\n",
       "</div>"
      ],
      "text/plain": [
       "          BVP\n",
       "0        7.28\n",
       "1      -11.36\n",
       "2      -51.27\n",
       "3        5.65\n",
       "4       34.34\n",
       "...       ...\n",
       "36843   22.62\n",
       "36844  116.83\n",
       "36845  -18.36\n",
       "36846   -6.64\n",
       "36847  -85.89\n",
       "\n",
       "[36848 rows x 1 columns]"
      ]
     },
     "execution_count": 27,
     "metadata": {},
     "output_type": "execute_result"
    }
   ],
   "source": [
    "BVP = pd.DataFrame(signal[\"wrist\"].BVP)\n",
    "BVP = BVP.iloc[::16, :]\n",
    "BVP.columns = [\"BVP\"]\n",
    "BVP.reset_index(drop = True, inplace=True)\n",
    "BVP"
   ]
  },
  {
   "cell_type": "code",
   "execution_count": 28,
   "metadata": {},
   "outputs": [
    {
     "data": {
      "text/html": [
       "<div>\n",
       "<style scoped>\n",
       "    .dataframe tbody tr th:only-of-type {\n",
       "        vertical-align: middle;\n",
       "    }\n",
       "\n",
       "    .dataframe tbody tr th {\n",
       "        vertical-align: top;\n",
       "    }\n",
       "\n",
       "    .dataframe thead th {\n",
       "        text-align: right;\n",
       "    }\n",
       "</style>\n",
       "<table border=\"1\" class=\"dataframe\">\n",
       "  <thead>\n",
       "    <tr style=\"text-align: right;\">\n",
       "      <th></th>\n",
       "      <th>TEMP</th>\n",
       "    </tr>\n",
       "  </thead>\n",
       "  <tbody>\n",
       "    <tr>\n",
       "      <th>0</th>\n",
       "      <td>32.13</td>\n",
       "    </tr>\n",
       "    <tr>\n",
       "      <th>1</th>\n",
       "      <td>32.16</td>\n",
       "    </tr>\n",
       "    <tr>\n",
       "      <th>2</th>\n",
       "      <td>32.16</td>\n",
       "    </tr>\n",
       "    <tr>\n",
       "      <th>3</th>\n",
       "      <td>32.16</td>\n",
       "    </tr>\n",
       "    <tr>\n",
       "      <th>4</th>\n",
       "      <td>32.16</td>\n",
       "    </tr>\n",
       "    <tr>\n",
       "      <th>...</th>\n",
       "      <td>...</td>\n",
       "    </tr>\n",
       "    <tr>\n",
       "      <th>36843</th>\n",
       "      <td>34.37</td>\n",
       "    </tr>\n",
       "    <tr>\n",
       "      <th>36844</th>\n",
       "      <td>34.37</td>\n",
       "    </tr>\n",
       "    <tr>\n",
       "      <th>36845</th>\n",
       "      <td>34.37</td>\n",
       "    </tr>\n",
       "    <tr>\n",
       "      <th>36846</th>\n",
       "      <td>34.37</td>\n",
       "    </tr>\n",
       "    <tr>\n",
       "      <th>36847</th>\n",
       "      <td>34.37</td>\n",
       "    </tr>\n",
       "  </tbody>\n",
       "</table>\n",
       "<p>36848 rows × 1 columns</p>\n",
       "</div>"
      ],
      "text/plain": [
       "        TEMP\n",
       "0      32.13\n",
       "1      32.16\n",
       "2      32.16\n",
       "3      32.16\n",
       "4      32.16\n",
       "...      ...\n",
       "36843  34.37\n",
       "36844  34.37\n",
       "36845  34.37\n",
       "36846  34.37\n",
       "36847  34.37\n",
       "\n",
       "[36848 rows x 1 columns]"
      ]
     },
     "execution_count": 28,
     "metadata": {},
     "output_type": "execute_result"
    }
   ],
   "source": [
    "TEMP = pd.DataFrame(signal[\"wrist\"].TEMP)\n",
    "TEMP.columns = [\"TEMP\"]\n",
    "TEMP"
   ]
  },
  {
   "cell_type": "code",
   "execution_count": 29,
   "metadata": {},
   "outputs": [
    {
     "data": {
      "text/html": [
       "<div>\n",
       "<style scoped>\n",
       "    .dataframe tbody tr th:only-of-type {\n",
       "        vertical-align: middle;\n",
       "    }\n",
       "\n",
       "    .dataframe tbody tr th {\n",
       "        vertical-align: top;\n",
       "    }\n",
       "\n",
       "    .dataframe thead th {\n",
       "        text-align: right;\n",
       "    }\n",
       "</style>\n",
       "<table border=\"1\" class=\"dataframe\">\n",
       "  <thead>\n",
       "    <tr style=\"text-align: right;\">\n",
       "      <th></th>\n",
       "      <th>wrist_ACC_x</th>\n",
       "      <th>wrist_ACC_y</th>\n",
       "      <th>wrist_ACC_z</th>\n",
       "      <th>wrist_BVP</th>\n",
       "      <th>wrist_TEMP</th>\n",
       "    </tr>\n",
       "  </thead>\n",
       "  <tbody>\n",
       "    <tr>\n",
       "      <th>0</th>\n",
       "      <td>-0.765625</td>\n",
       "      <td>-0.078125</td>\n",
       "      <td>0.671875</td>\n",
       "      <td>7.28</td>\n",
       "      <td>32.13</td>\n",
       "    </tr>\n",
       "    <tr>\n",
       "      <th>1</th>\n",
       "      <td>-0.765625</td>\n",
       "      <td>-0.078125</td>\n",
       "      <td>0.671875</td>\n",
       "      <td>-11.36</td>\n",
       "      <td>32.16</td>\n",
       "    </tr>\n",
       "    <tr>\n",
       "      <th>2</th>\n",
       "      <td>-0.765625</td>\n",
       "      <td>-0.078125</td>\n",
       "      <td>0.671875</td>\n",
       "      <td>-51.27</td>\n",
       "      <td>32.16</td>\n",
       "    </tr>\n",
       "    <tr>\n",
       "      <th>3</th>\n",
       "      <td>-0.750000</td>\n",
       "      <td>-0.078125</td>\n",
       "      <td>0.671875</td>\n",
       "      <td>5.65</td>\n",
       "      <td>32.16</td>\n",
       "    </tr>\n",
       "    <tr>\n",
       "      <th>4</th>\n",
       "      <td>-0.765625</td>\n",
       "      <td>-0.078125</td>\n",
       "      <td>0.671875</td>\n",
       "      <td>34.34</td>\n",
       "      <td>32.16</td>\n",
       "    </tr>\n",
       "    <tr>\n",
       "      <th>...</th>\n",
       "      <td>...</td>\n",
       "      <td>...</td>\n",
       "      <td>...</td>\n",
       "      <td>...</td>\n",
       "      <td>...</td>\n",
       "    </tr>\n",
       "    <tr>\n",
       "      <th>36843</th>\n",
       "      <td>-0.375000</td>\n",
       "      <td>-0.015625</td>\n",
       "      <td>0.937500</td>\n",
       "      <td>22.62</td>\n",
       "      <td>34.37</td>\n",
       "    </tr>\n",
       "    <tr>\n",
       "      <th>36844</th>\n",
       "      <td>-0.359375</td>\n",
       "      <td>-0.015625</td>\n",
       "      <td>0.953125</td>\n",
       "      <td>116.83</td>\n",
       "      <td>34.37</td>\n",
       "    </tr>\n",
       "    <tr>\n",
       "      <th>36845</th>\n",
       "      <td>-0.437500</td>\n",
       "      <td>-0.015625</td>\n",
       "      <td>0.906250</td>\n",
       "      <td>-18.36</td>\n",
       "      <td>34.37</td>\n",
       "    </tr>\n",
       "    <tr>\n",
       "      <th>36846</th>\n",
       "      <td>-0.390625</td>\n",
       "      <td>-0.015625</td>\n",
       "      <td>0.921875</td>\n",
       "      <td>-6.64</td>\n",
       "      <td>34.37</td>\n",
       "    </tr>\n",
       "    <tr>\n",
       "      <th>36847</th>\n",
       "      <td>-0.390625</td>\n",
       "      <td>0.000000</td>\n",
       "      <td>0.937500</td>\n",
       "      <td>-85.89</td>\n",
       "      <td>34.37</td>\n",
       "    </tr>\n",
       "  </tbody>\n",
       "</table>\n",
       "<p>36848 rows × 5 columns</p>\n",
       "</div>"
      ],
      "text/plain": [
       "       wrist_ACC_x  wrist_ACC_y  wrist_ACC_z  wrist_BVP  wrist_TEMP\n",
       "0        -0.765625    -0.078125     0.671875       7.28       32.13\n",
       "1        -0.765625    -0.078125     0.671875     -11.36       32.16\n",
       "2        -0.765625    -0.078125     0.671875     -51.27       32.16\n",
       "3        -0.750000    -0.078125     0.671875       5.65       32.16\n",
       "4        -0.765625    -0.078125     0.671875      34.34       32.16\n",
       "...            ...          ...          ...        ...         ...\n",
       "36843    -0.375000    -0.015625     0.937500      22.62       34.37\n",
       "36844    -0.359375    -0.015625     0.953125     116.83       34.37\n",
       "36845    -0.437500    -0.015625     0.906250     -18.36       34.37\n",
       "36846    -0.390625    -0.015625     0.921875      -6.64       34.37\n",
       "36847    -0.390625     0.000000     0.937500     -85.89       34.37\n",
       "\n",
       "[36848 rows x 5 columns]"
      ]
     },
     "execution_count": 29,
     "metadata": {},
     "output_type": "execute_result"
    }
   ],
   "source": [
    "wrist = pd.concat([ACC], sort=False)\n",
    "wrist[\"BVP\"] = BVP\n",
    "wrist[\"TEMP\"] = TEMP\n",
    "wrist.reset_index(drop = True, inplace=True)\n",
    "wrist = wrist.add_prefix('wrist_')\n",
    "wrist"
   ]
  },
  {
   "cell_type": "markdown",
   "metadata": {},
   "source": [
    "### Fusing both"
   ]
  },
  {
   "cell_type": "code",
   "execution_count": 30,
   "metadata": {},
   "outputs": [
    {
     "data": {
      "text/html": [
       "<div>\n",
       "<style scoped>\n",
       "    .dataframe tbody tr th:only-of-type {\n",
       "        vertical-align: middle;\n",
       "    }\n",
       "\n",
       "    .dataframe tbody tr th {\n",
       "        vertical-align: top;\n",
       "    }\n",
       "\n",
       "    .dataframe thead th {\n",
       "        text-align: right;\n",
       "    }\n",
       "</style>\n",
       "<table border=\"1\" class=\"dataframe\">\n",
       "  <thead>\n",
       "    <tr style=\"text-align: right;\">\n",
       "      <th></th>\n",
       "      <th>chest_ACC_x</th>\n",
       "      <th>chest_ACC_y</th>\n",
       "      <th>chest_ACC_z</th>\n",
       "      <th>chest_Resp</th>\n",
       "      <th>chest_ECG</th>\n",
       "      <th>wrist_ACC_x</th>\n",
       "      <th>wrist_ACC_y</th>\n",
       "      <th>wrist_ACC_z</th>\n",
       "      <th>wrist_BVP</th>\n",
       "      <th>wrist_TEMP</th>\n",
       "    </tr>\n",
       "  </thead>\n",
       "  <tbody>\n",
       "    <tr>\n",
       "      <th>0</th>\n",
       "      <td>0.8564</td>\n",
       "      <td>-0.0678</td>\n",
       "      <td>-0.3656</td>\n",
       "      <td>4.441833</td>\n",
       "      <td>0.015610</td>\n",
       "      <td>-0.765625</td>\n",
       "      <td>-0.078125</td>\n",
       "      <td>0.671875</td>\n",
       "      <td>7.28</td>\n",
       "      <td>32.13</td>\n",
       "    </tr>\n",
       "    <tr>\n",
       "      <th>1</th>\n",
       "      <td>0.8514</td>\n",
       "      <td>-0.0654</td>\n",
       "      <td>-0.3688</td>\n",
       "      <td>4.876709</td>\n",
       "      <td>-0.015747</td>\n",
       "      <td>-0.765625</td>\n",
       "      <td>-0.078125</td>\n",
       "      <td>0.671875</td>\n",
       "      <td>-11.36</td>\n",
       "      <td>32.16</td>\n",
       "    </tr>\n",
       "    <tr>\n",
       "      <th>2</th>\n",
       "      <td>0.8514</td>\n",
       "      <td>-0.0662</td>\n",
       "      <td>-0.3708</td>\n",
       "      <td>3.340149</td>\n",
       "      <td>-0.008743</td>\n",
       "      <td>-0.765625</td>\n",
       "      <td>-0.078125</td>\n",
       "      <td>0.671875</td>\n",
       "      <td>-51.27</td>\n",
       "      <td>32.16</td>\n",
       "    </tr>\n",
       "    <tr>\n",
       "      <th>3</th>\n",
       "      <td>0.8594</td>\n",
       "      <td>-0.0632</td>\n",
       "      <td>-0.3640</td>\n",
       "      <td>0.740051</td>\n",
       "      <td>-0.339523</td>\n",
       "      <td>-0.750000</td>\n",
       "      <td>-0.078125</td>\n",
       "      <td>0.671875</td>\n",
       "      <td>5.65</td>\n",
       "      <td>32.16</td>\n",
       "    </tr>\n",
       "    <tr>\n",
       "      <th>4</th>\n",
       "      <td>0.8510</td>\n",
       "      <td>-0.0674</td>\n",
       "      <td>-0.3694</td>\n",
       "      <td>-1.475525</td>\n",
       "      <td>-0.089905</td>\n",
       "      <td>-0.765625</td>\n",
       "      <td>-0.078125</td>\n",
       "      <td>0.671875</td>\n",
       "      <td>34.34</td>\n",
       "      <td>32.16</td>\n",
       "    </tr>\n",
       "    <tr>\n",
       "      <th>...</th>\n",
       "      <td>...</td>\n",
       "      <td>...</td>\n",
       "      <td>...</td>\n",
       "      <td>...</td>\n",
       "      <td>...</td>\n",
       "      <td>...</td>\n",
       "      <td>...</td>\n",
       "      <td>...</td>\n",
       "      <td>...</td>\n",
       "      <td>...</td>\n",
       "    </tr>\n",
       "    <tr>\n",
       "      <th>36843</th>\n",
       "      <td>0.8956</td>\n",
       "      <td>-0.1158</td>\n",
       "      <td>-0.2526</td>\n",
       "      <td>-2.183533</td>\n",
       "      <td>-0.091507</td>\n",
       "      <td>-0.375000</td>\n",
       "      <td>-0.015625</td>\n",
       "      <td>0.937500</td>\n",
       "      <td>22.62</td>\n",
       "      <td>34.37</td>\n",
       "    </tr>\n",
       "    <tr>\n",
       "      <th>36844</th>\n",
       "      <td>0.8888</td>\n",
       "      <td>-0.1062</td>\n",
       "      <td>-0.2684</td>\n",
       "      <td>-1.872253</td>\n",
       "      <td>-0.159714</td>\n",
       "      <td>-0.359375</td>\n",
       "      <td>-0.015625</td>\n",
       "      <td>0.953125</td>\n",
       "      <td>116.83</td>\n",
       "      <td>34.37</td>\n",
       "    </tr>\n",
       "    <tr>\n",
       "      <th>36845</th>\n",
       "      <td>0.8802</td>\n",
       "      <td>-0.0966</td>\n",
       "      <td>-0.2938</td>\n",
       "      <td>-2.696228</td>\n",
       "      <td>0.074890</td>\n",
       "      <td>-0.437500</td>\n",
       "      <td>-0.015625</td>\n",
       "      <td>0.906250</td>\n",
       "      <td>-18.36</td>\n",
       "      <td>34.37</td>\n",
       "    </tr>\n",
       "    <tr>\n",
       "      <th>36846</th>\n",
       "      <td>0.8842</td>\n",
       "      <td>-0.0962</td>\n",
       "      <td>-0.2820</td>\n",
       "      <td>-3.175354</td>\n",
       "      <td>-0.110779</td>\n",
       "      <td>-0.390625</td>\n",
       "      <td>-0.015625</td>\n",
       "      <td>0.921875</td>\n",
       "      <td>-6.64</td>\n",
       "      <td>34.37</td>\n",
       "    </tr>\n",
       "    <tr>\n",
       "      <th>36847</th>\n",
       "      <td>0.8890</td>\n",
       "      <td>-0.0998</td>\n",
       "      <td>-0.2694</td>\n",
       "      <td>-3.363037</td>\n",
       "      <td>1.419754</td>\n",
       "      <td>-0.390625</td>\n",
       "      <td>0.000000</td>\n",
       "      <td>0.937500</td>\n",
       "      <td>-85.89</td>\n",
       "      <td>34.37</td>\n",
       "    </tr>\n",
       "  </tbody>\n",
       "</table>\n",
       "<p>36848 rows × 10 columns</p>\n",
       "</div>"
      ],
      "text/plain": [
       "       chest_ACC_x  chest_ACC_y  chest_ACC_z  chest_Resp  chest_ECG  \\\n",
       "0           0.8564      -0.0678      -0.3656    4.441833   0.015610   \n",
       "1           0.8514      -0.0654      -0.3688    4.876709  -0.015747   \n",
       "2           0.8514      -0.0662      -0.3708    3.340149  -0.008743   \n",
       "3           0.8594      -0.0632      -0.3640    0.740051  -0.339523   \n",
       "4           0.8510      -0.0674      -0.3694   -1.475525  -0.089905   \n",
       "...            ...          ...          ...         ...        ...   \n",
       "36843       0.8956      -0.1158      -0.2526   -2.183533  -0.091507   \n",
       "36844       0.8888      -0.1062      -0.2684   -1.872253  -0.159714   \n",
       "36845       0.8802      -0.0966      -0.2938   -2.696228   0.074890   \n",
       "36846       0.8842      -0.0962      -0.2820   -3.175354  -0.110779   \n",
       "36847       0.8890      -0.0998      -0.2694   -3.363037   1.419754   \n",
       "\n",
       "       wrist_ACC_x  wrist_ACC_y  wrist_ACC_z  wrist_BVP  wrist_TEMP  \n",
       "0        -0.765625    -0.078125     0.671875       7.28       32.13  \n",
       "1        -0.765625    -0.078125     0.671875     -11.36       32.16  \n",
       "2        -0.765625    -0.078125     0.671875     -51.27       32.16  \n",
       "3        -0.750000    -0.078125     0.671875       5.65       32.16  \n",
       "4        -0.765625    -0.078125     0.671875      34.34       32.16  \n",
       "...            ...          ...          ...        ...         ...  \n",
       "36843    -0.375000    -0.015625     0.937500      22.62       34.37  \n",
       "36844    -0.359375    -0.015625     0.953125     116.83       34.37  \n",
       "36845    -0.437500    -0.015625     0.906250     -18.36       34.37  \n",
       "36846    -0.390625    -0.015625     0.921875      -6.64       34.37  \n",
       "36847    -0.390625     0.000000     0.937500     -85.89       34.37  \n",
       "\n",
       "[36848 rows x 10 columns]"
      ]
     },
     "execution_count": 30,
     "metadata": {},
     "output_type": "execute_result"
    }
   ],
   "source": [
    "signals = chest.join(wrist)\n",
    "signals"
   ]
  },
  {
   "cell_type": "code",
   "execution_count": 31,
   "metadata": {},
   "outputs": [
    {
     "data": {
      "text/html": [
       "<div>\n",
       "<style scoped>\n",
       "    .dataframe tbody tr th:only-of-type {\n",
       "        vertical-align: middle;\n",
       "    }\n",
       "\n",
       "    .dataframe tbody tr th {\n",
       "        vertical-align: top;\n",
       "    }\n",
       "\n",
       "    .dataframe thead th {\n",
       "        text-align: right;\n",
       "    }\n",
       "</style>\n",
       "<table border=\"1\" class=\"dataframe\">\n",
       "  <thead>\n",
       "    <tr style=\"text-align: right;\">\n",
       "      <th></th>\n",
       "      <th>chest_ACC_x</th>\n",
       "      <th>chest_ACC_y</th>\n",
       "      <th>chest_ACC_z</th>\n",
       "      <th>chest_Resp</th>\n",
       "      <th>chest_ECG</th>\n",
       "      <th>wrist_ACC_x</th>\n",
       "      <th>wrist_ACC_y</th>\n",
       "      <th>wrist_ACC_z</th>\n",
       "      <th>wrist_BVP</th>\n",
       "      <th>wrist_TEMP</th>\n",
       "      <th>WEIGHT</th>\n",
       "      <th>Gender</th>\n",
       "      <th>AGE</th>\n",
       "      <th>HEIGHT</th>\n",
       "      <th>SKIN</th>\n",
       "      <th>SPORT</th>\n",
       "    </tr>\n",
       "  </thead>\n",
       "  <tbody>\n",
       "    <tr>\n",
       "      <th>0</th>\n",
       "      <td>0.8564</td>\n",
       "      <td>-0.0678</td>\n",
       "      <td>-0.3656</td>\n",
       "      <td>4.441833</td>\n",
       "      <td>0.015610</td>\n",
       "      <td>-0.765625</td>\n",
       "      <td>-0.078125</td>\n",
       "      <td>0.671875</td>\n",
       "      <td>7.28</td>\n",
       "      <td>32.13</td>\n",
       "      <td>78.0</td>\n",
       "      <td>m</td>\n",
       "      <td>34</td>\n",
       "      <td>182.0</td>\n",
       "      <td>3</td>\n",
       "      <td>6</td>\n",
       "    </tr>\n",
       "    <tr>\n",
       "      <th>1</th>\n",
       "      <td>0.8514</td>\n",
       "      <td>-0.0654</td>\n",
       "      <td>-0.3688</td>\n",
       "      <td>4.876709</td>\n",
       "      <td>-0.015747</td>\n",
       "      <td>-0.765625</td>\n",
       "      <td>-0.078125</td>\n",
       "      <td>0.671875</td>\n",
       "      <td>-11.36</td>\n",
       "      <td>32.16</td>\n",
       "      <td>78.0</td>\n",
       "      <td>m</td>\n",
       "      <td>34</td>\n",
       "      <td>182.0</td>\n",
       "      <td>3</td>\n",
       "      <td>6</td>\n",
       "    </tr>\n",
       "    <tr>\n",
       "      <th>2</th>\n",
       "      <td>0.8514</td>\n",
       "      <td>-0.0662</td>\n",
       "      <td>-0.3708</td>\n",
       "      <td>3.340149</td>\n",
       "      <td>-0.008743</td>\n",
       "      <td>-0.765625</td>\n",
       "      <td>-0.078125</td>\n",
       "      <td>0.671875</td>\n",
       "      <td>-51.27</td>\n",
       "      <td>32.16</td>\n",
       "      <td>78.0</td>\n",
       "      <td>m</td>\n",
       "      <td>34</td>\n",
       "      <td>182.0</td>\n",
       "      <td>3</td>\n",
       "      <td>6</td>\n",
       "    </tr>\n",
       "    <tr>\n",
       "      <th>3</th>\n",
       "      <td>0.8594</td>\n",
       "      <td>-0.0632</td>\n",
       "      <td>-0.3640</td>\n",
       "      <td>0.740051</td>\n",
       "      <td>-0.339523</td>\n",
       "      <td>-0.750000</td>\n",
       "      <td>-0.078125</td>\n",
       "      <td>0.671875</td>\n",
       "      <td>5.65</td>\n",
       "      <td>32.16</td>\n",
       "      <td>78.0</td>\n",
       "      <td>m</td>\n",
       "      <td>34</td>\n",
       "      <td>182.0</td>\n",
       "      <td>3</td>\n",
       "      <td>6</td>\n",
       "    </tr>\n",
       "    <tr>\n",
       "      <th>4</th>\n",
       "      <td>0.8510</td>\n",
       "      <td>-0.0674</td>\n",
       "      <td>-0.3694</td>\n",
       "      <td>-1.475525</td>\n",
       "      <td>-0.089905</td>\n",
       "      <td>-0.765625</td>\n",
       "      <td>-0.078125</td>\n",
       "      <td>0.671875</td>\n",
       "      <td>34.34</td>\n",
       "      <td>32.16</td>\n",
       "      <td>78.0</td>\n",
       "      <td>m</td>\n",
       "      <td>34</td>\n",
       "      <td>182.0</td>\n",
       "      <td>3</td>\n",
       "      <td>6</td>\n",
       "    </tr>\n",
       "    <tr>\n",
       "      <th>...</th>\n",
       "      <td>...</td>\n",
       "      <td>...</td>\n",
       "      <td>...</td>\n",
       "      <td>...</td>\n",
       "      <td>...</td>\n",
       "      <td>...</td>\n",
       "      <td>...</td>\n",
       "      <td>...</td>\n",
       "      <td>...</td>\n",
       "      <td>...</td>\n",
       "      <td>...</td>\n",
       "      <td>...</td>\n",
       "      <td>...</td>\n",
       "      <td>...</td>\n",
       "      <td>...</td>\n",
       "      <td>...</td>\n",
       "    </tr>\n",
       "    <tr>\n",
       "      <th>36843</th>\n",
       "      <td>0.8956</td>\n",
       "      <td>-0.1158</td>\n",
       "      <td>-0.2526</td>\n",
       "      <td>-2.183533</td>\n",
       "      <td>-0.091507</td>\n",
       "      <td>-0.375000</td>\n",
       "      <td>-0.015625</td>\n",
       "      <td>0.937500</td>\n",
       "      <td>22.62</td>\n",
       "      <td>34.37</td>\n",
       "      <td>78.0</td>\n",
       "      <td>m</td>\n",
       "      <td>34</td>\n",
       "      <td>182.0</td>\n",
       "      <td>3</td>\n",
       "      <td>6</td>\n",
       "    </tr>\n",
       "    <tr>\n",
       "      <th>36844</th>\n",
       "      <td>0.8888</td>\n",
       "      <td>-0.1062</td>\n",
       "      <td>-0.2684</td>\n",
       "      <td>-1.872253</td>\n",
       "      <td>-0.159714</td>\n",
       "      <td>-0.359375</td>\n",
       "      <td>-0.015625</td>\n",
       "      <td>0.953125</td>\n",
       "      <td>116.83</td>\n",
       "      <td>34.37</td>\n",
       "      <td>78.0</td>\n",
       "      <td>m</td>\n",
       "      <td>34</td>\n",
       "      <td>182.0</td>\n",
       "      <td>3</td>\n",
       "      <td>6</td>\n",
       "    </tr>\n",
       "    <tr>\n",
       "      <th>36845</th>\n",
       "      <td>0.8802</td>\n",
       "      <td>-0.0966</td>\n",
       "      <td>-0.2938</td>\n",
       "      <td>-2.696228</td>\n",
       "      <td>0.074890</td>\n",
       "      <td>-0.437500</td>\n",
       "      <td>-0.015625</td>\n",
       "      <td>0.906250</td>\n",
       "      <td>-18.36</td>\n",
       "      <td>34.37</td>\n",
       "      <td>78.0</td>\n",
       "      <td>m</td>\n",
       "      <td>34</td>\n",
       "      <td>182.0</td>\n",
       "      <td>3</td>\n",
       "      <td>6</td>\n",
       "    </tr>\n",
       "    <tr>\n",
       "      <th>36846</th>\n",
       "      <td>0.8842</td>\n",
       "      <td>-0.0962</td>\n",
       "      <td>-0.2820</td>\n",
       "      <td>-3.175354</td>\n",
       "      <td>-0.110779</td>\n",
       "      <td>-0.390625</td>\n",
       "      <td>-0.015625</td>\n",
       "      <td>0.921875</td>\n",
       "      <td>-6.64</td>\n",
       "      <td>34.37</td>\n",
       "      <td>78.0</td>\n",
       "      <td>m</td>\n",
       "      <td>34</td>\n",
       "      <td>182.0</td>\n",
       "      <td>3</td>\n",
       "      <td>6</td>\n",
       "    </tr>\n",
       "    <tr>\n",
       "      <th>36847</th>\n",
       "      <td>0.8890</td>\n",
       "      <td>-0.0998</td>\n",
       "      <td>-0.2694</td>\n",
       "      <td>-3.363037</td>\n",
       "      <td>1.419754</td>\n",
       "      <td>-0.390625</td>\n",
       "      <td>0.000000</td>\n",
       "      <td>0.937500</td>\n",
       "      <td>-85.89</td>\n",
       "      <td>34.37</td>\n",
       "      <td>78.0</td>\n",
       "      <td>m</td>\n",
       "      <td>34</td>\n",
       "      <td>182.0</td>\n",
       "      <td>3</td>\n",
       "      <td>6</td>\n",
       "    </tr>\n",
       "  </tbody>\n",
       "</table>\n",
       "<p>36848 rows × 16 columns</p>\n",
       "</div>"
      ],
      "text/plain": [
       "       chest_ACC_x  chest_ACC_y  chest_ACC_z  chest_Resp  chest_ECG  \\\n",
       "0           0.8564      -0.0678      -0.3656    4.441833   0.015610   \n",
       "1           0.8514      -0.0654      -0.3688    4.876709  -0.015747   \n",
       "2           0.8514      -0.0662      -0.3708    3.340149  -0.008743   \n",
       "3           0.8594      -0.0632      -0.3640    0.740051  -0.339523   \n",
       "4           0.8510      -0.0674      -0.3694   -1.475525  -0.089905   \n",
       "...            ...          ...          ...         ...        ...   \n",
       "36843       0.8956      -0.1158      -0.2526   -2.183533  -0.091507   \n",
       "36844       0.8888      -0.1062      -0.2684   -1.872253  -0.159714   \n",
       "36845       0.8802      -0.0966      -0.2938   -2.696228   0.074890   \n",
       "36846       0.8842      -0.0962      -0.2820   -3.175354  -0.110779   \n",
       "36847       0.8890      -0.0998      -0.2694   -3.363037   1.419754   \n",
       "\n",
       "       wrist_ACC_x  wrist_ACC_y  wrist_ACC_z  wrist_BVP  wrist_TEMP  WEIGHT  \\\n",
       "0        -0.765625    -0.078125     0.671875       7.28       32.13    78.0   \n",
       "1        -0.765625    -0.078125     0.671875     -11.36       32.16    78.0   \n",
       "2        -0.765625    -0.078125     0.671875     -51.27       32.16    78.0   \n",
       "3        -0.750000    -0.078125     0.671875       5.65       32.16    78.0   \n",
       "4        -0.765625    -0.078125     0.671875      34.34       32.16    78.0   \n",
       "...            ...          ...          ...        ...         ...     ...   \n",
       "36843    -0.375000    -0.015625     0.937500      22.62       34.37    78.0   \n",
       "36844    -0.359375    -0.015625     0.953125     116.83       34.37    78.0   \n",
       "36845    -0.437500    -0.015625     0.906250     -18.36       34.37    78.0   \n",
       "36846    -0.390625    -0.015625     0.921875      -6.64       34.37    78.0   \n",
       "36847    -0.390625     0.000000     0.937500     -85.89       34.37    78.0   \n",
       "\n",
       "      Gender  AGE  HEIGHT  SKIN  SPORT  \n",
       "0          m   34   182.0     3      6  \n",
       "1          m   34   182.0     3      6  \n",
       "2          m   34   182.0     3      6  \n",
       "3          m   34   182.0     3      6  \n",
       "4          m   34   182.0     3      6  \n",
       "...      ...  ...     ...   ...    ...  \n",
       "36843      m   34   182.0     3      6  \n",
       "36844      m   34   182.0     3      6  \n",
       "36845      m   34   182.0     3      6  \n",
       "36846      m   34   182.0     3      6  \n",
       "36847      m   34   182.0     3      6  \n",
       "\n",
       "[36848 rows x 16 columns]"
      ]
     },
     "execution_count": 31,
     "metadata": {},
     "output_type": "execute_result"
    }
   ],
   "source": [
    "for k,v in data[\"questionnaire\"].items() :\n",
    "    signals[k] = v\n",
    "signals"
   ]
  },
  {
   "cell_type": "markdown",
   "metadata": {},
   "source": [
    "### Counting Rpeaks"
   ]
  },
  {
   "cell_type": "markdown",
   "metadata": {},
   "source": [
    "We will cound for each 175 portion (0.25 sec since 700 is 1sec) the number of rpeaks during that period."
   ]
  },
  {
   "cell_type": "code",
   "execution_count": 32,
   "metadata": {},
   "outputs": [
    {
     "data": {
      "text/plain": [
       "array([    240,    1174,    2128, ..., 6447292, 6447748, 6448224])"
      ]
     },
     "execution_count": 32,
     "metadata": {},
     "output_type": "execute_result"
    }
   ],
   "source": [
    "rpeaks = data['rpeaks']\n",
    "rpeaks"
   ]
  },
  {
   "cell_type": "code",
   "execution_count": 33,
   "metadata": {},
   "outputs": [],
   "source": [
    "counted_rpeaks = []\n",
    "index = 0 # index of rpeak element\n",
    "time = 175 # time portion\n",
    "count = 0 # number of rpeaks\n",
    "\n",
    "while(index < len(rpeaks)):\n",
    "    rpeak = rpeaks[index]\n",
    "    \n",
    "    if(rpeak > time): # Rpeak appears after the time portion\n",
    "        counted_rpeaks.append(count)\n",
    "        count = 0\n",
    "        time += 175\n",
    "        \n",
    "    else:\n",
    "        count += 1\n",
    "        index += 1\n",
    "        \n",
    "# The rpeaks will probably end before the time portion so we need to fill the last portions with 0\n",
    "if(len(counted_rpeaks) < 36848):\n",
    "    while(len(counted_rpeaks) < 36848):\n",
    "        counted_rpeaks.append(0)"
   ]
  },
  {
   "cell_type": "code",
   "execution_count": 34,
   "metadata": {},
   "outputs": [
    {
     "data": {
      "text/html": [
       "<div>\n",
       "<style scoped>\n",
       "    .dataframe tbody tr th:only-of-type {\n",
       "        vertical-align: middle;\n",
       "    }\n",
       "\n",
       "    .dataframe tbody tr th {\n",
       "        vertical-align: top;\n",
       "    }\n",
       "\n",
       "    .dataframe thead th {\n",
       "        text-align: right;\n",
       "    }\n",
       "</style>\n",
       "<table border=\"1\" class=\"dataframe\">\n",
       "  <thead>\n",
       "    <tr style=\"text-align: right;\">\n",
       "      <th></th>\n",
       "      <th>Rpeaks</th>\n",
       "    </tr>\n",
       "  </thead>\n",
       "  <tbody>\n",
       "    <tr>\n",
       "      <th>0</th>\n",
       "      <td>0</td>\n",
       "    </tr>\n",
       "    <tr>\n",
       "      <th>1</th>\n",
       "      <td>1</td>\n",
       "    </tr>\n",
       "    <tr>\n",
       "      <th>2</th>\n",
       "      <td>0</td>\n",
       "    </tr>\n",
       "    <tr>\n",
       "      <th>3</th>\n",
       "      <td>0</td>\n",
       "    </tr>\n",
       "    <tr>\n",
       "      <th>4</th>\n",
       "      <td>0</td>\n",
       "    </tr>\n",
       "    <tr>\n",
       "      <th>...</th>\n",
       "      <td>...</td>\n",
       "    </tr>\n",
       "    <tr>\n",
       "      <th>36843</th>\n",
       "      <td>0</td>\n",
       "    </tr>\n",
       "    <tr>\n",
       "      <th>36844</th>\n",
       "      <td>1</td>\n",
       "    </tr>\n",
       "    <tr>\n",
       "      <th>36845</th>\n",
       "      <td>0</td>\n",
       "    </tr>\n",
       "    <tr>\n",
       "      <th>36846</th>\n",
       "      <td>0</td>\n",
       "    </tr>\n",
       "    <tr>\n",
       "      <th>36847</th>\n",
       "      <td>0</td>\n",
       "    </tr>\n",
       "  </tbody>\n",
       "</table>\n",
       "<p>36848 rows × 1 columns</p>\n",
       "</div>"
      ],
      "text/plain": [
       "       Rpeaks\n",
       "0           0\n",
       "1           1\n",
       "2           0\n",
       "3           0\n",
       "4           0\n",
       "...       ...\n",
       "36843       0\n",
       "36844       1\n",
       "36845       0\n",
       "36846       0\n",
       "36847       0\n",
       "\n",
       "[36848 rows x 1 columns]"
      ]
     },
     "execution_count": 34,
     "metadata": {},
     "output_type": "execute_result"
    }
   ],
   "source": [
    "peaks = pd.DataFrame(counted_rpeaks)\n",
    "peaks.columns = [\"Rpeaks\"]\n",
    "peaks"
   ]
  },
  {
   "cell_type": "code",
   "execution_count": 35,
   "metadata": {},
   "outputs": [
    {
     "data": {
      "text/html": [
       "<div>\n",
       "<style scoped>\n",
       "    .dataframe tbody tr th:only-of-type {\n",
       "        vertical-align: middle;\n",
       "    }\n",
       "\n",
       "    .dataframe tbody tr th {\n",
       "        vertical-align: top;\n",
       "    }\n",
       "\n",
       "    .dataframe thead th {\n",
       "        text-align: right;\n",
       "    }\n",
       "</style>\n",
       "<table border=\"1\" class=\"dataframe\">\n",
       "  <thead>\n",
       "    <tr style=\"text-align: right;\">\n",
       "      <th></th>\n",
       "      <th>chest_ACC_x</th>\n",
       "      <th>chest_ACC_y</th>\n",
       "      <th>chest_ACC_z</th>\n",
       "      <th>chest_Resp</th>\n",
       "      <th>chest_ECG</th>\n",
       "      <th>wrist_ACC_x</th>\n",
       "      <th>wrist_ACC_y</th>\n",
       "      <th>wrist_ACC_z</th>\n",
       "      <th>wrist_BVP</th>\n",
       "      <th>wrist_TEMP</th>\n",
       "      <th>WEIGHT</th>\n",
       "      <th>Gender</th>\n",
       "      <th>AGE</th>\n",
       "      <th>HEIGHT</th>\n",
       "      <th>SKIN</th>\n",
       "      <th>SPORT</th>\n",
       "      <th>Rpeaks</th>\n",
       "    </tr>\n",
       "  </thead>\n",
       "  <tbody>\n",
       "    <tr>\n",
       "      <th>0</th>\n",
       "      <td>0.8564</td>\n",
       "      <td>-0.0678</td>\n",
       "      <td>-0.3656</td>\n",
       "      <td>4.441833</td>\n",
       "      <td>0.015610</td>\n",
       "      <td>-0.765625</td>\n",
       "      <td>-0.078125</td>\n",
       "      <td>0.671875</td>\n",
       "      <td>7.28</td>\n",
       "      <td>32.13</td>\n",
       "      <td>78.0</td>\n",
       "      <td>m</td>\n",
       "      <td>34</td>\n",
       "      <td>182.0</td>\n",
       "      <td>3</td>\n",
       "      <td>6</td>\n",
       "      <td>0</td>\n",
       "    </tr>\n",
       "    <tr>\n",
       "      <th>1</th>\n",
       "      <td>0.8514</td>\n",
       "      <td>-0.0654</td>\n",
       "      <td>-0.3688</td>\n",
       "      <td>4.876709</td>\n",
       "      <td>-0.015747</td>\n",
       "      <td>-0.765625</td>\n",
       "      <td>-0.078125</td>\n",
       "      <td>0.671875</td>\n",
       "      <td>-11.36</td>\n",
       "      <td>32.16</td>\n",
       "      <td>78.0</td>\n",
       "      <td>m</td>\n",
       "      <td>34</td>\n",
       "      <td>182.0</td>\n",
       "      <td>3</td>\n",
       "      <td>6</td>\n",
       "      <td>1</td>\n",
       "    </tr>\n",
       "    <tr>\n",
       "      <th>2</th>\n",
       "      <td>0.8514</td>\n",
       "      <td>-0.0662</td>\n",
       "      <td>-0.3708</td>\n",
       "      <td>3.340149</td>\n",
       "      <td>-0.008743</td>\n",
       "      <td>-0.765625</td>\n",
       "      <td>-0.078125</td>\n",
       "      <td>0.671875</td>\n",
       "      <td>-51.27</td>\n",
       "      <td>32.16</td>\n",
       "      <td>78.0</td>\n",
       "      <td>m</td>\n",
       "      <td>34</td>\n",
       "      <td>182.0</td>\n",
       "      <td>3</td>\n",
       "      <td>6</td>\n",
       "      <td>0</td>\n",
       "    </tr>\n",
       "    <tr>\n",
       "      <th>3</th>\n",
       "      <td>0.8594</td>\n",
       "      <td>-0.0632</td>\n",
       "      <td>-0.3640</td>\n",
       "      <td>0.740051</td>\n",
       "      <td>-0.339523</td>\n",
       "      <td>-0.750000</td>\n",
       "      <td>-0.078125</td>\n",
       "      <td>0.671875</td>\n",
       "      <td>5.65</td>\n",
       "      <td>32.16</td>\n",
       "      <td>78.0</td>\n",
       "      <td>m</td>\n",
       "      <td>34</td>\n",
       "      <td>182.0</td>\n",
       "      <td>3</td>\n",
       "      <td>6</td>\n",
       "      <td>0</td>\n",
       "    </tr>\n",
       "    <tr>\n",
       "      <th>4</th>\n",
       "      <td>0.8510</td>\n",
       "      <td>-0.0674</td>\n",
       "      <td>-0.3694</td>\n",
       "      <td>-1.475525</td>\n",
       "      <td>-0.089905</td>\n",
       "      <td>-0.765625</td>\n",
       "      <td>-0.078125</td>\n",
       "      <td>0.671875</td>\n",
       "      <td>34.34</td>\n",
       "      <td>32.16</td>\n",
       "      <td>78.0</td>\n",
       "      <td>m</td>\n",
       "      <td>34</td>\n",
       "      <td>182.0</td>\n",
       "      <td>3</td>\n",
       "      <td>6</td>\n",
       "      <td>0</td>\n",
       "    </tr>\n",
       "    <tr>\n",
       "      <th>...</th>\n",
       "      <td>...</td>\n",
       "      <td>...</td>\n",
       "      <td>...</td>\n",
       "      <td>...</td>\n",
       "      <td>...</td>\n",
       "      <td>...</td>\n",
       "      <td>...</td>\n",
       "      <td>...</td>\n",
       "      <td>...</td>\n",
       "      <td>...</td>\n",
       "      <td>...</td>\n",
       "      <td>...</td>\n",
       "      <td>...</td>\n",
       "      <td>...</td>\n",
       "      <td>...</td>\n",
       "      <td>...</td>\n",
       "      <td>...</td>\n",
       "    </tr>\n",
       "    <tr>\n",
       "      <th>36843</th>\n",
       "      <td>0.8956</td>\n",
       "      <td>-0.1158</td>\n",
       "      <td>-0.2526</td>\n",
       "      <td>-2.183533</td>\n",
       "      <td>-0.091507</td>\n",
       "      <td>-0.375000</td>\n",
       "      <td>-0.015625</td>\n",
       "      <td>0.937500</td>\n",
       "      <td>22.62</td>\n",
       "      <td>34.37</td>\n",
       "      <td>78.0</td>\n",
       "      <td>m</td>\n",
       "      <td>34</td>\n",
       "      <td>182.0</td>\n",
       "      <td>3</td>\n",
       "      <td>6</td>\n",
       "      <td>0</td>\n",
       "    </tr>\n",
       "    <tr>\n",
       "      <th>36844</th>\n",
       "      <td>0.8888</td>\n",
       "      <td>-0.1062</td>\n",
       "      <td>-0.2684</td>\n",
       "      <td>-1.872253</td>\n",
       "      <td>-0.159714</td>\n",
       "      <td>-0.359375</td>\n",
       "      <td>-0.015625</td>\n",
       "      <td>0.953125</td>\n",
       "      <td>116.83</td>\n",
       "      <td>34.37</td>\n",
       "      <td>78.0</td>\n",
       "      <td>m</td>\n",
       "      <td>34</td>\n",
       "      <td>182.0</td>\n",
       "      <td>3</td>\n",
       "      <td>6</td>\n",
       "      <td>1</td>\n",
       "    </tr>\n",
       "    <tr>\n",
       "      <th>36845</th>\n",
       "      <td>0.8802</td>\n",
       "      <td>-0.0966</td>\n",
       "      <td>-0.2938</td>\n",
       "      <td>-2.696228</td>\n",
       "      <td>0.074890</td>\n",
       "      <td>-0.437500</td>\n",
       "      <td>-0.015625</td>\n",
       "      <td>0.906250</td>\n",
       "      <td>-18.36</td>\n",
       "      <td>34.37</td>\n",
       "      <td>78.0</td>\n",
       "      <td>m</td>\n",
       "      <td>34</td>\n",
       "      <td>182.0</td>\n",
       "      <td>3</td>\n",
       "      <td>6</td>\n",
       "      <td>0</td>\n",
       "    </tr>\n",
       "    <tr>\n",
       "      <th>36846</th>\n",
       "      <td>0.8842</td>\n",
       "      <td>-0.0962</td>\n",
       "      <td>-0.2820</td>\n",
       "      <td>-3.175354</td>\n",
       "      <td>-0.110779</td>\n",
       "      <td>-0.390625</td>\n",
       "      <td>-0.015625</td>\n",
       "      <td>0.921875</td>\n",
       "      <td>-6.64</td>\n",
       "      <td>34.37</td>\n",
       "      <td>78.0</td>\n",
       "      <td>m</td>\n",
       "      <td>34</td>\n",
       "      <td>182.0</td>\n",
       "      <td>3</td>\n",
       "      <td>6</td>\n",
       "      <td>0</td>\n",
       "    </tr>\n",
       "    <tr>\n",
       "      <th>36847</th>\n",
       "      <td>0.8890</td>\n",
       "      <td>-0.0998</td>\n",
       "      <td>-0.2694</td>\n",
       "      <td>-3.363037</td>\n",
       "      <td>1.419754</td>\n",
       "      <td>-0.390625</td>\n",
       "      <td>0.000000</td>\n",
       "      <td>0.937500</td>\n",
       "      <td>-85.89</td>\n",
       "      <td>34.37</td>\n",
       "      <td>78.0</td>\n",
       "      <td>m</td>\n",
       "      <td>34</td>\n",
       "      <td>182.0</td>\n",
       "      <td>3</td>\n",
       "      <td>6</td>\n",
       "      <td>0</td>\n",
       "    </tr>\n",
       "  </tbody>\n",
       "</table>\n",
       "<p>36848 rows × 17 columns</p>\n",
       "</div>"
      ],
      "text/plain": [
       "       chest_ACC_x  chest_ACC_y  chest_ACC_z  chest_Resp  chest_ECG  \\\n",
       "0           0.8564      -0.0678      -0.3656    4.441833   0.015610   \n",
       "1           0.8514      -0.0654      -0.3688    4.876709  -0.015747   \n",
       "2           0.8514      -0.0662      -0.3708    3.340149  -0.008743   \n",
       "3           0.8594      -0.0632      -0.3640    0.740051  -0.339523   \n",
       "4           0.8510      -0.0674      -0.3694   -1.475525  -0.089905   \n",
       "...            ...          ...          ...         ...        ...   \n",
       "36843       0.8956      -0.1158      -0.2526   -2.183533  -0.091507   \n",
       "36844       0.8888      -0.1062      -0.2684   -1.872253  -0.159714   \n",
       "36845       0.8802      -0.0966      -0.2938   -2.696228   0.074890   \n",
       "36846       0.8842      -0.0962      -0.2820   -3.175354  -0.110779   \n",
       "36847       0.8890      -0.0998      -0.2694   -3.363037   1.419754   \n",
       "\n",
       "       wrist_ACC_x  wrist_ACC_y  wrist_ACC_z  wrist_BVP  wrist_TEMP  WEIGHT  \\\n",
       "0        -0.765625    -0.078125     0.671875       7.28       32.13    78.0   \n",
       "1        -0.765625    -0.078125     0.671875     -11.36       32.16    78.0   \n",
       "2        -0.765625    -0.078125     0.671875     -51.27       32.16    78.0   \n",
       "3        -0.750000    -0.078125     0.671875       5.65       32.16    78.0   \n",
       "4        -0.765625    -0.078125     0.671875      34.34       32.16    78.0   \n",
       "...            ...          ...          ...        ...         ...     ...   \n",
       "36843    -0.375000    -0.015625     0.937500      22.62       34.37    78.0   \n",
       "36844    -0.359375    -0.015625     0.953125     116.83       34.37    78.0   \n",
       "36845    -0.437500    -0.015625     0.906250     -18.36       34.37    78.0   \n",
       "36846    -0.390625    -0.015625     0.921875      -6.64       34.37    78.0   \n",
       "36847    -0.390625     0.000000     0.937500     -85.89       34.37    78.0   \n",
       "\n",
       "      Gender  AGE  HEIGHT  SKIN  SPORT  Rpeaks  \n",
       "0          m   34   182.0     3      6       0  \n",
       "1          m   34   182.0     3      6       1  \n",
       "2          m   34   182.0     3      6       0  \n",
       "3          m   34   182.0     3      6       0  \n",
       "4          m   34   182.0     3      6       0  \n",
       "...      ...  ...     ...   ...    ...     ...  \n",
       "36843      m   34   182.0     3      6       0  \n",
       "36844      m   34   182.0     3      6       1  \n",
       "36845      m   34   182.0     3      6       0  \n",
       "36846      m   34   182.0     3      6       0  \n",
       "36847      m   34   182.0     3      6       0  \n",
       "\n",
       "[36848 rows x 17 columns]"
      ]
     },
     "execution_count": 35,
     "metadata": {},
     "output_type": "execute_result"
    }
   ],
   "source": [
    "signals = signals.join(peaks)\n",
    "signals"
   ]
  },
  {
   "cell_type": "markdown",
   "metadata": {},
   "source": [
    "### Fusing with Activity & Label"
   ]
  },
  {
   "cell_type": "code",
   "execution_count": 36,
   "metadata": {},
   "outputs": [
    {
     "data": {
      "text/html": [
       "<div>\n",
       "<style scoped>\n",
       "    .dataframe tbody tr th:only-of-type {\n",
       "        vertical-align: middle;\n",
       "    }\n",
       "\n",
       "    .dataframe tbody tr th {\n",
       "        vertical-align: top;\n",
       "    }\n",
       "\n",
       "    .dataframe thead th {\n",
       "        text-align: right;\n",
       "    }\n",
       "</style>\n",
       "<table border=\"1\" class=\"dataframe\">\n",
       "  <thead>\n",
       "    <tr style=\"text-align: right;\">\n",
       "      <th></th>\n",
       "      <th>chest_ACC_x</th>\n",
       "      <th>chest_ACC_y</th>\n",
       "      <th>chest_ACC_z</th>\n",
       "      <th>chest_Resp</th>\n",
       "      <th>chest_ECG</th>\n",
       "      <th>wrist_ACC_x</th>\n",
       "      <th>wrist_ACC_y</th>\n",
       "      <th>wrist_ACC_z</th>\n",
       "      <th>wrist_BVP</th>\n",
       "      <th>wrist_TEMP</th>\n",
       "      <th>WEIGHT</th>\n",
       "      <th>Gender</th>\n",
       "      <th>AGE</th>\n",
       "      <th>HEIGHT</th>\n",
       "      <th>SKIN</th>\n",
       "      <th>SPORT</th>\n",
       "      <th>Rpeaks</th>\n",
       "      <th>Activity</th>\n",
       "      <th>Label</th>\n",
       "    </tr>\n",
       "  </thead>\n",
       "  <tbody>\n",
       "    <tr>\n",
       "      <th>0</th>\n",
       "      <td>0.8564</td>\n",
       "      <td>-0.0678</td>\n",
       "      <td>-0.3656</td>\n",
       "      <td>4.441833</td>\n",
       "      <td>0.015610</td>\n",
       "      <td>-0.765625</td>\n",
       "      <td>-0.078125</td>\n",
       "      <td>0.671875</td>\n",
       "      <td>7.28</td>\n",
       "      <td>32.13</td>\n",
       "      <td>78.0</td>\n",
       "      <td>m</td>\n",
       "      <td>34</td>\n",
       "      <td>182.0</td>\n",
       "      <td>3</td>\n",
       "      <td>6</td>\n",
       "      <td>0</td>\n",
       "      <td>0</td>\n",
       "      <td>49.611369</td>\n",
       "    </tr>\n",
       "    <tr>\n",
       "      <th>1</th>\n",
       "      <td>0.8514</td>\n",
       "      <td>-0.0654</td>\n",
       "      <td>-0.3688</td>\n",
       "      <td>4.876709</td>\n",
       "      <td>-0.015747</td>\n",
       "      <td>-0.765625</td>\n",
       "      <td>-0.078125</td>\n",
       "      <td>0.671875</td>\n",
       "      <td>-11.36</td>\n",
       "      <td>32.16</td>\n",
       "      <td>78.0</td>\n",
       "      <td>m</td>\n",
       "      <td>34</td>\n",
       "      <td>182.0</td>\n",
       "      <td>3</td>\n",
       "      <td>6</td>\n",
       "      <td>1</td>\n",
       "      <td>0</td>\n",
       "      <td>49.611369</td>\n",
       "    </tr>\n",
       "    <tr>\n",
       "      <th>2</th>\n",
       "      <td>0.8514</td>\n",
       "      <td>-0.0662</td>\n",
       "      <td>-0.3708</td>\n",
       "      <td>3.340149</td>\n",
       "      <td>-0.008743</td>\n",
       "      <td>-0.765625</td>\n",
       "      <td>-0.078125</td>\n",
       "      <td>0.671875</td>\n",
       "      <td>-51.27</td>\n",
       "      <td>32.16</td>\n",
       "      <td>78.0</td>\n",
       "      <td>m</td>\n",
       "      <td>34</td>\n",
       "      <td>182.0</td>\n",
       "      <td>3</td>\n",
       "      <td>6</td>\n",
       "      <td>0</td>\n",
       "      <td>0</td>\n",
       "      <td>49.611369</td>\n",
       "    </tr>\n",
       "    <tr>\n",
       "      <th>3</th>\n",
       "      <td>0.8594</td>\n",
       "      <td>-0.0632</td>\n",
       "      <td>-0.3640</td>\n",
       "      <td>0.740051</td>\n",
       "      <td>-0.339523</td>\n",
       "      <td>-0.750000</td>\n",
       "      <td>-0.078125</td>\n",
       "      <td>0.671875</td>\n",
       "      <td>5.65</td>\n",
       "      <td>32.16</td>\n",
       "      <td>78.0</td>\n",
       "      <td>m</td>\n",
       "      <td>34</td>\n",
       "      <td>182.0</td>\n",
       "      <td>3</td>\n",
       "      <td>6</td>\n",
       "      <td>0</td>\n",
       "      <td>0</td>\n",
       "      <td>49.611369</td>\n",
       "    </tr>\n",
       "    <tr>\n",
       "      <th>4</th>\n",
       "      <td>0.8510</td>\n",
       "      <td>-0.0674</td>\n",
       "      <td>-0.3694</td>\n",
       "      <td>-1.475525</td>\n",
       "      <td>-0.089905</td>\n",
       "      <td>-0.765625</td>\n",
       "      <td>-0.078125</td>\n",
       "      <td>0.671875</td>\n",
       "      <td>34.34</td>\n",
       "      <td>32.16</td>\n",
       "      <td>78.0</td>\n",
       "      <td>m</td>\n",
       "      <td>34</td>\n",
       "      <td>182.0</td>\n",
       "      <td>3</td>\n",
       "      <td>6</td>\n",
       "      <td>0</td>\n",
       "      <td>0</td>\n",
       "      <td>49.611369</td>\n",
       "    </tr>\n",
       "    <tr>\n",
       "      <th>...</th>\n",
       "      <td>...</td>\n",
       "      <td>...</td>\n",
       "      <td>...</td>\n",
       "      <td>...</td>\n",
       "      <td>...</td>\n",
       "      <td>...</td>\n",
       "      <td>...</td>\n",
       "      <td>...</td>\n",
       "      <td>...</td>\n",
       "      <td>...</td>\n",
       "      <td>...</td>\n",
       "      <td>...</td>\n",
       "      <td>...</td>\n",
       "      <td>...</td>\n",
       "      <td>...</td>\n",
       "      <td>...</td>\n",
       "      <td>...</td>\n",
       "      <td>...</td>\n",
       "      <td>...</td>\n",
       "    </tr>\n",
       "    <tr>\n",
       "      <th>36843</th>\n",
       "      <td>0.8956</td>\n",
       "      <td>-0.1158</td>\n",
       "      <td>-0.2526</td>\n",
       "      <td>-2.183533</td>\n",
       "      <td>-0.091507</td>\n",
       "      <td>-0.375000</td>\n",
       "      <td>-0.015625</td>\n",
       "      <td>0.937500</td>\n",
       "      <td>22.62</td>\n",
       "      <td>34.37</td>\n",
       "      <td>78.0</td>\n",
       "      <td>m</td>\n",
       "      <td>34</td>\n",
       "      <td>182.0</td>\n",
       "      <td>3</td>\n",
       "      <td>6</td>\n",
       "      <td>0</td>\n",
       "      <td>0</td>\n",
       "      <td>74.838901</td>\n",
       "    </tr>\n",
       "    <tr>\n",
       "      <th>36844</th>\n",
       "      <td>0.8888</td>\n",
       "      <td>-0.1062</td>\n",
       "      <td>-0.2684</td>\n",
       "      <td>-1.872253</td>\n",
       "      <td>-0.159714</td>\n",
       "      <td>-0.359375</td>\n",
       "      <td>-0.015625</td>\n",
       "      <td>0.953125</td>\n",
       "      <td>116.83</td>\n",
       "      <td>34.37</td>\n",
       "      <td>78.0</td>\n",
       "      <td>m</td>\n",
       "      <td>34</td>\n",
       "      <td>182.0</td>\n",
       "      <td>3</td>\n",
       "      <td>6</td>\n",
       "      <td>1</td>\n",
       "      <td>0</td>\n",
       "      <td>74.838901</td>\n",
       "    </tr>\n",
       "    <tr>\n",
       "      <th>36845</th>\n",
       "      <td>0.8802</td>\n",
       "      <td>-0.0966</td>\n",
       "      <td>-0.2938</td>\n",
       "      <td>-2.696228</td>\n",
       "      <td>0.074890</td>\n",
       "      <td>-0.437500</td>\n",
       "      <td>-0.015625</td>\n",
       "      <td>0.906250</td>\n",
       "      <td>-18.36</td>\n",
       "      <td>34.37</td>\n",
       "      <td>78.0</td>\n",
       "      <td>m</td>\n",
       "      <td>34</td>\n",
       "      <td>182.0</td>\n",
       "      <td>3</td>\n",
       "      <td>6</td>\n",
       "      <td>0</td>\n",
       "      <td>0</td>\n",
       "      <td>74.838901</td>\n",
       "    </tr>\n",
       "    <tr>\n",
       "      <th>36846</th>\n",
       "      <td>0.8842</td>\n",
       "      <td>-0.0962</td>\n",
       "      <td>-0.2820</td>\n",
       "      <td>-3.175354</td>\n",
       "      <td>-0.110779</td>\n",
       "      <td>-0.390625</td>\n",
       "      <td>-0.015625</td>\n",
       "      <td>0.921875</td>\n",
       "      <td>-6.64</td>\n",
       "      <td>34.37</td>\n",
       "      <td>78.0</td>\n",
       "      <td>m</td>\n",
       "      <td>34</td>\n",
       "      <td>182.0</td>\n",
       "      <td>3</td>\n",
       "      <td>6</td>\n",
       "      <td>0</td>\n",
       "      <td>0</td>\n",
       "      <td>74.838901</td>\n",
       "    </tr>\n",
       "    <tr>\n",
       "      <th>36847</th>\n",
       "      <td>0.8890</td>\n",
       "      <td>-0.0998</td>\n",
       "      <td>-0.2694</td>\n",
       "      <td>-3.363037</td>\n",
       "      <td>1.419754</td>\n",
       "      <td>-0.390625</td>\n",
       "      <td>0.000000</td>\n",
       "      <td>0.937500</td>\n",
       "      <td>-85.89</td>\n",
       "      <td>34.37</td>\n",
       "      <td>78.0</td>\n",
       "      <td>m</td>\n",
       "      <td>34</td>\n",
       "      <td>182.0</td>\n",
       "      <td>3</td>\n",
       "      <td>6</td>\n",
       "      <td>0</td>\n",
       "      <td>0</td>\n",
       "      <td>74.838901</td>\n",
       "    </tr>\n",
       "  </tbody>\n",
       "</table>\n",
       "<p>36848 rows × 19 columns</p>\n",
       "</div>"
      ],
      "text/plain": [
       "       chest_ACC_x  chest_ACC_y  chest_ACC_z  chest_Resp  chest_ECG  \\\n",
       "0           0.8564      -0.0678      -0.3656    4.441833   0.015610   \n",
       "1           0.8514      -0.0654      -0.3688    4.876709  -0.015747   \n",
       "2           0.8514      -0.0662      -0.3708    3.340149  -0.008743   \n",
       "3           0.8594      -0.0632      -0.3640    0.740051  -0.339523   \n",
       "4           0.8510      -0.0674      -0.3694   -1.475525  -0.089905   \n",
       "...            ...          ...          ...         ...        ...   \n",
       "36843       0.8956      -0.1158      -0.2526   -2.183533  -0.091507   \n",
       "36844       0.8888      -0.1062      -0.2684   -1.872253  -0.159714   \n",
       "36845       0.8802      -0.0966      -0.2938   -2.696228   0.074890   \n",
       "36846       0.8842      -0.0962      -0.2820   -3.175354  -0.110779   \n",
       "36847       0.8890      -0.0998      -0.2694   -3.363037   1.419754   \n",
       "\n",
       "       wrist_ACC_x  wrist_ACC_y  wrist_ACC_z  wrist_BVP  wrist_TEMP  WEIGHT  \\\n",
       "0        -0.765625    -0.078125     0.671875       7.28       32.13    78.0   \n",
       "1        -0.765625    -0.078125     0.671875     -11.36       32.16    78.0   \n",
       "2        -0.765625    -0.078125     0.671875     -51.27       32.16    78.0   \n",
       "3        -0.750000    -0.078125     0.671875       5.65       32.16    78.0   \n",
       "4        -0.765625    -0.078125     0.671875      34.34       32.16    78.0   \n",
       "...            ...          ...          ...        ...         ...     ...   \n",
       "36843    -0.375000    -0.015625     0.937500      22.62       34.37    78.0   \n",
       "36844    -0.359375    -0.015625     0.953125     116.83       34.37    78.0   \n",
       "36845    -0.437500    -0.015625     0.906250     -18.36       34.37    78.0   \n",
       "36846    -0.390625    -0.015625     0.921875      -6.64       34.37    78.0   \n",
       "36847    -0.390625     0.000000     0.937500     -85.89       34.37    78.0   \n",
       "\n",
       "      Gender  AGE  HEIGHT  SKIN  SPORT  Rpeaks  Activity      Label  \n",
       "0          m   34   182.0     3      6       0         0  49.611369  \n",
       "1          m   34   182.0     3      6       1         0  49.611369  \n",
       "2          m   34   182.0     3      6       0         0  49.611369  \n",
       "3          m   34   182.0     3      6       0         0  49.611369  \n",
       "4          m   34   182.0     3      6       0         0  49.611369  \n",
       "...      ...  ...     ...   ...    ...     ...       ...        ...  \n",
       "36843      m   34   182.0     3      6       0         0  74.838901  \n",
       "36844      m   34   182.0     3      6       1         0  74.838901  \n",
       "36845      m   34   182.0     3      6       0         0  74.838901  \n",
       "36846      m   34   182.0     3      6       0         0  74.838901  \n",
       "36847      m   34   182.0     3      6       0         0  74.838901  \n",
       "\n",
       "[36848 rows x 19 columns]"
      ]
     },
     "execution_count": 36,
     "metadata": {},
     "output_type": "execute_result"
    }
   ],
   "source": [
    "signals = signals.join(activity)\n",
    "signals = signals.join(label)\n",
    "signals"
   ]
  },
  {
   "cell_type": "code",
   "execution_count": 37,
   "metadata": {},
   "outputs": [],
   "source": [
    "signals['Subject'] = data[\"subject\"]"
   ]
  },
  {
   "cell_type": "markdown",
   "metadata": {},
   "source": [
    "## Visualisation"
   ]
  },
  {
   "cell_type": "code",
   "execution_count": 38,
   "metadata": {},
   "outputs": [
    {
     "data": {
      "text/plain": [
       "Text(0, 0.5, 'Temperature')"
      ]
     },
     "execution_count": 38,
     "metadata": {},
     "output_type": "execute_result"
    },
    {
     "data": {
      "image/png": "[encoded data removed]",
      "text/plain": [
       "<Figure size 1440x288 with 1 Axes>"
      ]
     },
     "metadata": {
      "needs_background": "light"
     },
     "output_type": "display_data"
    }
   ],
   "source": [
    "fig, ax = plt.subplots(figsize=(20, 4))\n",
    "style = dict(size=10, color='k')\n",
    "\n",
    "i = 0\n",
    "x_start = 0\n",
    "x_end = 0\n",
    "while(i < len(signals.loc[:, 'Activity'])):\n",
    "    sport_index = signals.loc[i, 'Activity']\n",
    "    \n",
    "    if(sport_index != 0):\n",
    "        \n",
    "        x_start = i\n",
    "        while(i < len(signals.loc[:, 'Activity'])):\n",
    "            if(signals.loc[i, 'Activity'] != sport_index):\n",
    "                break\n",
    "            \n",
    "            else:\n",
    "                i += 1\n",
    "            \n",
    "        x_end = i-1\n",
    "        sport = dic_activity[sport_index]\n",
    "        plt.axvspan(xmin=x_start + 60, xmax=x_end, color='#ffb3b3')\n",
    "        ax.text((x_start+x_end)//2 - 500, 35, sport, **style)\n",
    "        \n",
    "        x_start = 0\n",
    "        x_end = 0\n",
    "    \n",
    "    else :\n",
    "        i += 1\n",
    "\n",
    "ax.set_ylim(top = 36, bottom = 28)\n",
    "signals.loc[:, 'wrist_TEMP'].plot(ax=ax)\n",
    "plt.xlabel(\"Time\", fontsize=15)\n",
    "plt.ylabel(\"Temperature\", fontsize=15)"
   ]
  },
  {
   "cell_type": "code",
   "execution_count": 39,
   "metadata": {},
   "outputs": [
    {
     "data": {
      "text/plain": [
       "Text(0, 0.5, 'Heartrate')"
      ]
     },
     "execution_count": 39,
     "metadata": {},
     "output_type": "execute_result"
    },
    {
     "data": {
      "image/png": "[encoded data removed]",
      "text/plain": [
       "<Figure size 1440x288 with 1 Axes>"
      ]
     },
     "metadata": {
      "needs_background": "light"
     },
     "output_type": "display_data"
    }
   ],
   "source": [
    "fig, ax = plt.subplots(figsize=(20, 4))\n",
    "style = dict(size=10, color='k')\n",
    "\n",
    "i = 0\n",
    "x_start = 0\n",
    "x_end = 0\n",
    "while(i < len(signals.loc[:, 'Activity'])):\n",
    "    sport_index = signals.loc[i, 'Activity']\n",
    "    \n",
    "    if(sport_index != 0):\n",
    "        \n",
    "        x_start = i\n",
    "        while(i < len(signals.loc[:, 'Activity'])):\n",
    "            if(signals.loc[i, 'Activity'] != sport_index):\n",
    "                break\n",
    "            \n",
    "            else:\n",
    "                i += 1\n",
    "            \n",
    "        x_end = i-1\n",
    "        sport = dic_activity[sport_index]\n",
    "        plt.axvspan(xmin=x_start + 60, xmax=x_end, color='#ffb3b3')\n",
    "        ax.text((x_start+x_end)//2 - 500, 145, sport, **style)\n",
    "        \n",
    "        x_start = 0\n",
    "        x_end = 0\n",
    "    \n",
    "    else :\n",
    "        i += 1\n",
    "\n",
    "\n",
    "signals.loc[:, 'Label'].plot(ax=ax)\n",
    "plt.xlabel(\"Time\", fontsize=15)\n",
    "plt.ylabel(\"Heartrate\", fontsize=15)"
   ]
  },
  {
   "cell_type": "markdown",
   "metadata": {},
   "source": [
    "## Features"
   ]
  },
  {
   "cell_type": "markdown",
   "metadata": {},
   "source": [
    "Since we're working only on one subject, his attributes don't matter to make a prediction."
   ]
  },
  {
   "cell_type": "code",
   "execution_count": 40,
   "metadata": {},
   "outputs": [
    {
     "data": {
      "text/plain": [
       "['chest_ACC_x',\n",
       " 'chest_ACC_y',\n",
       " 'chest_ACC_z',\n",
       " 'chest_Resp',\n",
       " 'chest_ECG',\n",
       " 'wrist_ACC_x',\n",
       " 'wrist_ACC_y',\n",
       " 'wrist_ACC_z',\n",
       " 'wrist_BVP',\n",
       " 'wrist_TEMP',\n",
       " 'Rpeaks',\n",
       " 'Label']"
      ]
     },
     "execution_count": 40,
     "metadata": {},
     "output_type": "execute_result"
    }
   ],
   "source": [
    "remove = [\"Subject\", \"WEIGHT\", \"Gender\", \"AGE\", \"HEIGHT\", \"SKIN\", \"SPORT\", \"Activity\"]\n",
    "features = [column for column in list(signals.columns) if column not in remove]\n",
    "features"
   ]
  },
  {
   "cell_type": "code",
   "execution_count": 47,
   "metadata": {},
   "outputs": [
    {
     "data": {
      "text/plain": [
       "5.48211669921875"
      ]
     },
     "execution_count": 47,
     "metadata": {},
     "output_type": "execute_result"
    }
   ],
   "source": [
    "signals.memory_usage().sum()/1024**2"
   ]
  },
  {
   "cell_type": "markdown",
   "metadata": {},
   "source": [
    "## Train-test split"
   ]
  },
  {
   "cell_type": "code",
   "execution_count": 41,
   "metadata": {},
   "outputs": [],
   "source": [
    "X = signals[features].values\n",
    "y = signals.Activity"
   ]
  },
  {
   "cell_type": "code",
   "execution_count": 42,
   "metadata": {},
   "outputs": [],
   "source": [
    "from sklearn.model_selection import train_test_split\n",
    "X_train, X_test, y_train, y_test = train_test_split(X, y, test_size=0.25, random_state = 42, stratify = y)"
   ]
  },
  {
   "cell_type": "markdown",
   "metadata": {},
   "source": [
    "## Model"
   ]
  },
  {
   "cell_type": "markdown",
   "metadata": {},
   "source": [
    "### Decision Tree"
   ]
  },
  {
   "cell_type": "code",
   "execution_count": 43,
   "metadata": {},
   "outputs": [],
   "source": [
    "from sklearn.tree import DecisionTreeClassifier\n",
    "\n",
    "tree = DecisionTreeClassifier(random_state=42)\n",
    "tree.fit(X_train, y_train)\n",
    "y_pred = tree.predict(X_test)"
   ]
  },
  {
   "cell_type": "code",
   "execution_count": 44,
   "metadata": {},
   "outputs": [
    {
     "name": "stdout",
     "output_type": "stream",
     "text": [
      "0.9756838905775076\n"
     ]
    }
   ],
   "source": [
    "score = tree.score(X_test, y_test)\n",
    "print(score)"
   ]
  },
  {
   "cell_type": "code",
   "execution_count": 45,
   "metadata": {},
   "outputs": [
    {
     "name": "stdout",
     "output_type": "stream",
     "text": [
      "Normalized confusion matrix\n"
     ]
    },
    {
     "data": {
      "image/png": "[encoded data removed]",
      "text/plain": [
       "<Figure size 720x360 with 2 Axes>"
      ]
     },
     "metadata": {
      "needs_background": "light"
     },
     "output_type": "display_data"
    }
   ],
   "source": [
    "from sklearn.metrics import confusion_matrix\n",
    "cm = confusion_matrix(y_test, y_pred)\n",
    "np.set_printoptions(precision=2)\n",
    "plt.figure(figsize = (10,5))\n",
    "plot_confusion_matrix(cm, classes=[0, 1, 2, 3, 4, 5, 6, 7, 8], normalize=True)"
   ]
  },
  {
   "cell_type": "code",
   "execution_count": 46,
   "metadata": {},
   "outputs": [
    {
     "data": {
      "text/plain": [
       "<AxesSubplot:>"
      ]
     },
     "execution_count": 46,
     "metadata": {},
     "output_type": "execute_result"
    },
    {
     "data": {
      "image/png": "[encoded data removed]",
      "text/plain": [
       "<Figure size 432x288 with 1 Axes>"
      ]
     },
     "metadata": {
      "needs_background": "light"
     },
     "output_type": "display_data"
    }
   ],
   "source": [
    "feat_importances = pd.Series(tree.feature_importances_, index=features)\n",
    "feat_importances.nlargest(12).plot(kind='barh')"
   ]
  },
  {
   "cell_type": "markdown",
   "metadata": {},
   "source": [
    "### Random Forest"
   ]
  },
  {
   "cell_type": "code",
   "execution_count": 60,
   "metadata": {},
   "outputs": [],
   "source": [
    "from sklearn.ensemble import RandomForestClassifier\n",
    "rf = RandomForestClassifier(n_estimators = 65, random_state = 42)\n",
    "rf.fit(X_train, y_train);\n",
    "predictions = rf.predict(X_test)"
   ]
  },
  {
   "cell_type": "code",
   "execution_count": 61,
   "metadata": {},
   "outputs": [
    {
     "name": "stdout",
     "output_type": "stream",
     "text": [
      "0.978831958315241\n"
     ]
    }
   ],
   "source": [
    "score = rf.score(X_test, y_test)\n",
    "print(score)"
   ]
  },
  {
   "cell_type": "code",
   "execution_count": 62,
   "metadata": {},
   "outputs": [
    {
     "name": "stdout",
     "output_type": "stream",
     "text": [
      "Normalized confusion matrix\n"
     ]
    },
    {
     "data": {
      "image/png": "[encoded data removed]",
      "text/plain": [
       "<Figure size 720x360 with 2 Axes>"
      ]
     },
     "metadata": {
      "needs_background": "light"
     },
     "output_type": "display_data"
    }
   ],
   "source": [
    "from sklearn.metrics import confusion_matrix\n",
    "cm = confusion_matrix(y_test, y_pred)\n",
    "np.set_printoptions(precision=2)\n",
    "plt.figure(figsize = (10,5))\n",
    "plot_confusion_matrix(cm, classes=[0, 1, 2, 3, 4, 5, 6, 7, 8], normalize=True)"
   ]
  },
  {
   "cell_type": "code",
   "execution_count": 63,
   "metadata": {},
   "outputs": [
    {
     "data": {
      "text/plain": [
       "<matplotlib.axes._subplots.AxesSubplot at 0x24d169b6e08>"
      ]
     },
     "execution_count": 63,
     "metadata": {},
     "output_type": "execute_result"
    },
    {
     "data": {
      "image/png": "[encoded data removed]",
      "text/plain": [
       "<Figure size 432x288 with 1 Axes>"
      ]
     },
     "metadata": {
      "needs_background": "light"
     },
     "output_type": "display_data"
    }
   ],
   "source": [
    "feat_importances = pd.Series(rf.feature_importances_, index=features)\n",
    "feat_importances.nlargest(12).plot(kind='barh')"
   ]
  },
  {
   "cell_type": "markdown",
   "metadata": {},
   "source": [
    "# All patients : data agregation"
   ]
  },
  {
   "cell_type": "markdown",
   "metadata": {},
   "source": [
    "Now let us join the data of multiple patients to train our model."
   ]
  },
  {
   "cell_type": "code",
   "execution_count": 48,
   "metadata": {},
   "outputs": [],
   "source": [
    "def load_data(path):\n",
    "    with open(path, \"rb\") as f:\n",
    "        data = pickle.load(f, encoding=\"latin-1\")\n",
    "    \n",
    "    signal = pd.DataFrame(data[\"signal\"])\n",
    "    ACC = pd.DataFrame(signal[\"chest\"].ACC)\n",
    "    ACC = ACC.iloc[::175, :]\n",
    "    ACC.columns = [\"ACC_x\", \"ACC_y\", \"ACC_z\"]\n",
    "    ACC.reset_index(drop = True, inplace=True)\n",
    "    \n",
    "    ECG = pd.DataFrame(signal[\"chest\"].ECG)\n",
    "    ECG = ECG.iloc[::175, :]\n",
    "    ECG.reset_index(drop = True, inplace=True)\n",
    "    \n",
    "    Resp = pd.DataFrame(signal[\"chest\"].Resp)\n",
    "    Resp = Resp.iloc[::175, :]\n",
    "    Resp.columns = [\"Resp\"]\n",
    "    Resp.reset_index(drop = True, inplace=True)\n",
    "    \n",
    "    chest = pd.concat([ACC], sort=False)\n",
    "    chest[\"Resp\"] = Resp\n",
    "    chest[\"ECG\"] = ECG\n",
    "    chest.reset_index(drop=True, inplace=True)\n",
    "    chest = chest.add_prefix('chest_')\n",
    "    \n",
    "    ACC = pd.DataFrame(signal[\"wrist\"].ACC)\n",
    "    ACC = ACC.iloc[::8, :]\n",
    "    ACC.columns = [\"ACC_x\", \"ACC_y\", \"ACC_z\"]\n",
    "    ACC.reset_index(drop = True, inplace=True)\n",
    "    \n",
    "    EDA = pd.DataFrame(signal[\"wrist\"].EDA)\n",
    "    EDA.columns = [\"EDA\"]\n",
    "    \n",
    "    BVP = pd.DataFrame(signal[\"wrist\"].BVP)\n",
    "    BVP = BVP.iloc[::16, :]\n",
    "    BVP.columns = [\"BVP\"]\n",
    "    BVP.reset_index(drop = True, inplace=True)\n",
    "    \n",
    "    TEMP = pd.DataFrame(signal[\"wrist\"].TEMP)\n",
    "    TEMP.columns = [\"TEMP\"]\n",
    "    \n",
    "    wrist = pd.concat([ACC], sort=False)\n",
    "    wrist[\"BVP\"] = BVP\n",
    "    wrist[\"TEMP\"] = TEMP\n",
    "    wrist.reset_index(drop = True, inplace=True)\n",
    "    wrist = wrist.add_prefix('wrist_')\n",
    "    \n",
    "    signals = chest.join(wrist)\n",
    "    for k,v in data[\"questionnaire\"].items() :\n",
    "        signals[k] = v\n",
    "    \n",
    "    rpeaks = data['rpeaks']\n",
    "    counted_rpeaks = []\n",
    "    index = 0 # index of rpeak element\n",
    "    time = 175 # time portion\n",
    "    count = 0 # number of rpeaks\n",
    "\n",
    "    while(index < len(rpeaks)):\n",
    "        rpeak = rpeaks[index]\n",
    "\n",
    "        if(rpeak > time): # Rpeak appears after the time portion\n",
    "            counted_rpeaks.append(count)\n",
    "            count = 0\n",
    "            time += 175\n",
    "\n",
    "        else:\n",
    "            count += 1\n",
    "            index += 1\n",
    "    # The rpeaks will probably end before the time portion so we need to fill the last portions with 0\n",
    "    if(len(counted_rpeaks) < np.size(signals, axis = 0)):\n",
    "        while(len(counted_rpeaks) < np.size(signals, axis = 0)):\n",
    "            counted_rpeaks.append(0)\n",
    "    peaks = pd.DataFrame(counted_rpeaks)\n",
    "    peaks.columns = [\"Rpeaks\"]\n",
    "    signals = signals.join(peaks)\n",
    "    \n",
    "    activity = pd.DataFrame(data[\"activity\"]).astype(int)\n",
    "    activity.columns = [\"Activity\"]\n",
    "    signals = signals.join(activity)\n",
    "    \n",
    "    label = pd.DataFrame(data[\"label\"])\n",
    "\n",
    "    label = pd.DataFrame(np.repeat(label.values,8,axis=0))\n",
    "    label.columns = [\"Label\"]\n",
    "    if(np.size(label, axis = 0) < np.size(activity, axis = 0)):\n",
    "        mean = label.mean()\n",
    "        while(np.size(label, axis = 0) < np.size(activity, axis = 0)):\n",
    "            label = label.append(mean, ignore_index=True)\n",
    "    \n",
    "    signals = signals.join(label)\n",
    "    \n",
    "    signals['Subject'] = data[\"subject\"]\n",
    "    return signals"
   ]
  },
  {
   "cell_type": "code",
   "execution_count": 49,
   "metadata": {},
   "outputs": [
    {
     "data": {
      "text/plain": [
       "dict_keys(['d1', 'd2', 'd3', 'd4', 'd5', 'd6', 'd7', 'd8', 'd9', 'd10', 'd11', 'd12', 'd13', 'd14', 'd15'])"
      ]
     },
     "execution_count": 49,
     "metadata": {},
     "output_type": "execute_result"
    }
   ],
   "source": [
    "dataframes = {\"d1\" : signals}\n",
    "for i in range(2,16):\n",
    "    dataframes[\"d\" + str(i)] = load_data(\"data/S\" + str(i) + \"/S\" + str(i) + \".pkl\")\n",
    "dataframes.keys() "
   ]
  },
  {
   "cell_type": "code",
   "execution_count": 55,
   "metadata": {},
   "outputs": [
    {
     "data": {
      "text/plain": [
       "(517956, 20)"
      ]
     },
     "execution_count": 55,
     "metadata": {},
     "output_type": "execute_result"
    }
   ],
   "source": [
    "df = dataframes[\"d1\"]\n",
    "for i in range(2,16):\n",
    "    df = df.append(dataframes[\"d\" + str(i)])\n",
    "df.shape"
   ]
  },
  {
   "cell_type": "code",
   "execution_count": 51,
   "metadata": {},
   "outputs": [
    {
     "data": {
      "text/plain": [
       "81.00965881347656"
      ]
     },
     "execution_count": 51,
     "metadata": {},
     "output_type": "execute_result"
    }
   ],
   "source": [
    "df.memory_usage().sum()/1024**2"
   ]
  },
  {
   "cell_type": "code",
   "execution_count": 54,
   "metadata": {},
   "outputs": [],
   "source": [
    "## 保存，以后就不用别的dataFrame了\n",
    "df.to_csv(\"data/data_1.csv\",index=False)"
   ]
  },
  {
   "cell_type": "markdown",
   "metadata": {},
   "source": [
    "## Visualisation of our patients"
   ]
  },
  {
   "cell_type": "code",
   "execution_count": 108,
   "metadata": {},
   "outputs": [
    {
     "data": {
      "text/html": [
       "<div>\n",
       "<style scoped>\n",
       "    .dataframe tbody tr th:only-of-type {\n",
       "        vertical-align: middle;\n",
       "    }\n",
       "\n",
       "    .dataframe tbody tr th {\n",
       "        vertical-align: top;\n",
       "    }\n",
       "\n",
       "    .dataframe thead th {\n",
       "        text-align: right;\n",
       "    }\n",
       "</style>\n",
       "<table border=\"1\" class=\"dataframe\">\n",
       "  <thead>\n",
       "    <tr style=\"text-align: right;\">\n",
       "      <th></th>\n",
       "      <th>Subject</th>\n",
       "      <th>WEIGHT</th>\n",
       "      <th>Gender</th>\n",
       "      <th>AGE</th>\n",
       "      <th>HEIGHT</th>\n",
       "      <th>SKIN</th>\n",
       "      <th>SPORT</th>\n",
       "    </tr>\n",
       "  </thead>\n",
       "  <tbody>\n",
       "    <tr>\n",
       "      <td>0</td>\n",
       "      <td>S1</td>\n",
       "      <td>78.0</td>\n",
       "      <td>m</td>\n",
       "      <td>34</td>\n",
       "      <td>182.0</td>\n",
       "      <td>3</td>\n",
       "      <td>6</td>\n",
       "    </tr>\n",
       "    <tr>\n",
       "      <td>0</td>\n",
       "      <td>S2</td>\n",
       "      <td>80.0</td>\n",
       "      <td>m</td>\n",
       "      <td>28</td>\n",
       "      <td>189.0</td>\n",
       "      <td>3</td>\n",
       "      <td>5</td>\n",
       "    </tr>\n",
       "    <tr>\n",
       "      <td>0</td>\n",
       "      <td>S3</td>\n",
       "      <td>60.0</td>\n",
       "      <td>m</td>\n",
       "      <td>25</td>\n",
       "      <td>170.0</td>\n",
       "      <td>3</td>\n",
       "      <td>5</td>\n",
       "    </tr>\n",
       "    <tr>\n",
       "      <td>0</td>\n",
       "      <td>S4</td>\n",
       "      <td>57.0</td>\n",
       "      <td>m</td>\n",
       "      <td>25</td>\n",
       "      <td>168.0</td>\n",
       "      <td>4</td>\n",
       "      <td>5</td>\n",
       "    </tr>\n",
       "    <tr>\n",
       "      <td>0</td>\n",
       "      <td>S5</td>\n",
       "      <td>70.0</td>\n",
       "      <td>f</td>\n",
       "      <td>21</td>\n",
       "      <td>180.0</td>\n",
       "      <td>3</td>\n",
       "      <td>4</td>\n",
       "    </tr>\n",
       "    <tr>\n",
       "      <td>0</td>\n",
       "      <td>S6</td>\n",
       "      <td>70.0</td>\n",
       "      <td>f</td>\n",
       "      <td>37</td>\n",
       "      <td>176.0</td>\n",
       "      <td>3</td>\n",
       "      <td>1</td>\n",
       "    </tr>\n",
       "    <tr>\n",
       "      <td>0</td>\n",
       "      <td>S7</td>\n",
       "      <td>58.0</td>\n",
       "      <td>f</td>\n",
       "      <td>21</td>\n",
       "      <td>168.0</td>\n",
       "      <td>3</td>\n",
       "      <td>2</td>\n",
       "    </tr>\n",
       "    <tr>\n",
       "      <td>0</td>\n",
       "      <td>S8</td>\n",
       "      <td>70.0</td>\n",
       "      <td>m</td>\n",
       "      <td>43</td>\n",
       "      <td>179.0</td>\n",
       "      <td>3</td>\n",
       "      <td>5</td>\n",
       "    </tr>\n",
       "    <tr>\n",
       "      <td>0</td>\n",
       "      <td>S9</td>\n",
       "      <td>60.0</td>\n",
       "      <td>f</td>\n",
       "      <td>28</td>\n",
       "      <td>167.0</td>\n",
       "      <td>4</td>\n",
       "      <td>5</td>\n",
       "    </tr>\n",
       "    <tr>\n",
       "      <td>0</td>\n",
       "      <td>S10</td>\n",
       "      <td>56.0</td>\n",
       "      <td>f</td>\n",
       "      <td>55</td>\n",
       "      <td>164.0</td>\n",
       "      <td>4</td>\n",
       "      <td>5</td>\n",
       "    </tr>\n",
       "    <tr>\n",
       "      <td>0</td>\n",
       "      <td>S11</td>\n",
       "      <td>62.0</td>\n",
       "      <td>f</td>\n",
       "      <td>24</td>\n",
       "      <td>168.0</td>\n",
       "      <td>3</td>\n",
       "      <td>5</td>\n",
       "    </tr>\n",
       "    <tr>\n",
       "      <td>0</td>\n",
       "      <td>S12</td>\n",
       "      <td>105.0</td>\n",
       "      <td>m</td>\n",
       "      <td>43</td>\n",
       "      <td>195.0</td>\n",
       "      <td>3</td>\n",
       "      <td>5</td>\n",
       "    </tr>\n",
       "    <tr>\n",
       "      <td>0</td>\n",
       "      <td>S13</td>\n",
       "      <td>63.0</td>\n",
       "      <td>f</td>\n",
       "      <td>21</td>\n",
       "      <td>170.0</td>\n",
       "      <td>3</td>\n",
       "      <td>6</td>\n",
       "    </tr>\n",
       "    <tr>\n",
       "      <td>0</td>\n",
       "      <td>S14</td>\n",
       "      <td>67.0</td>\n",
       "      <td>f</td>\n",
       "      <td>26</td>\n",
       "      <td>170.0</td>\n",
       "      <td>3</td>\n",
       "      <td>4</td>\n",
       "    </tr>\n",
       "    <tr>\n",
       "      <td>0</td>\n",
       "      <td>S15</td>\n",
       "      <td>79.0</td>\n",
       "      <td>m</td>\n",
       "      <td>28</td>\n",
       "      <td>183.0</td>\n",
       "      <td>2</td>\n",
       "      <td>5</td>\n",
       "    </tr>\n",
       "  </tbody>\n",
       "</table>\n",
       "</div>"
      ],
      "text/plain": [
       "  Subject  WEIGHT Gender  AGE  HEIGHT  SKIN  SPORT\n",
       "0      S1    78.0      m   34   182.0     3      6\n",
       "0      S2    80.0      m   28   189.0     3      5\n",
       "0      S3    60.0      m   25   170.0     3      5\n",
       "0      S4    57.0      m   25   168.0     4      5\n",
       "0      S5    70.0      f   21   180.0     3      4\n",
       "0      S6    70.0      f   37   176.0     3      1\n",
       "0      S7    58.0      f   21   168.0     3      2\n",
       "0      S8    70.0      m   43   179.0     3      5\n",
       "0      S9    60.0      f   28   167.0     4      5\n",
       "0     S10    56.0      f   55   164.0     4      5\n",
       "0     S11    62.0      f   24   168.0     3      5\n",
       "0     S12   105.0      m   43   195.0     3      5\n",
       "0     S13    63.0      f   21   170.0     3      6\n",
       "0     S14    67.0      f   26   170.0     3      4\n",
       "0     S15    79.0      m   28   183.0     2      5"
      ]
     },
     "execution_count": 108,
     "metadata": {},
     "output_type": "execute_result"
    }
   ],
   "source": [
    "attributes = [\"Subject\",\"WEIGHT\", \"Gender\", \"AGE\", \"HEIGHT\", \"SKIN\", \"SPORT\"]\n",
    "patients = pd.DataFrame(dataframes[\"d1\"].loc[[0]][attributes])\n",
    "for i in range(2,16):\n",
    "    patients = patients.append(dataframes[\"d\" + str(i)].loc[0,attributes])\n",
    "patients"
   ]
  },
  {
   "cell_type": "code",
   "execution_count": 115,
   "metadata": {},
   "outputs": [
    {
     "data": {
      "text/plain": [
       "Text(0, 0.5, 'Count of People')"
      ]
     },
     "execution_count": 115,
     "metadata": {},
     "output_type": "execute_result"
    },
    {
     "data": {
      "image/png": "[encoded data removed]",
      "text/plain": [
       "<Figure size 504x432 with 1 Axes>"
      ]
     },
     "metadata": {},
     "output_type": "display_data"
    }
   ],
   "source": [
    "sns.set(font_scale=1.4)\n",
    "patients[\"Gender\"].value_counts().plot(kind='bar', figsize=(7, 6), rot=0)\n",
    "plt.xlabel(\"Gender\", labelpad=14)\n",
    "plt.ylabel(\"Count of People\", labelpad=14)"
   ]
  },
  {
   "cell_type": "code",
   "execution_count": 118,
   "metadata": {},
   "outputs": [
    {
     "data": {
      "text/plain": [
       "Text(0, 0.5, 'Count of People')"
      ]
     },
     "execution_count": 118,
     "metadata": {},
     "output_type": "execute_result"
    },
    {
     "data": {
      "image/png": "[encoded data removed]",
      "text/plain": [
       "<Figure size 504x432 with 1 Axes>"
      ]
     },
     "metadata": {},
     "output_type": "display_data"
    }
   ],
   "source": [
    "sns.set(font_scale=1.4)\n",
    "patients[\"SPORT\"].value_counts(sort = False).plot(kind='bar', figsize=(7, 6), rot=0)\n",
    "plt.xlabel(\"Gender\", labelpad=14)\n",
    "plt.ylabel(\"Count of People\", labelpad=14)"
   ]
  },
  {
   "cell_type": "code",
   "execution_count": 121,
   "metadata": {},
   "outputs": [
    {
     "data": {
      "text/plain": [
       "Text(0, 0.5, 'Count of People')"
      ]
     },
     "execution_count": 121,
     "metadata": {},
     "output_type": "execute_result"
    },
    {
     "data": {
      "image/png": "[encoded data removed]",
      "text/plain": [
       "<Figure size 504x432 with 1 Axes>"
      ]
     },
     "metadata": {},
     "output_type": "display_data"
    }
   ],
   "source": [
    "patients[\"AGE\"].hist(figsize=(7, 6))\n",
    "plt.xlabel(\"Age\", labelpad=14)\n",
    "plt.ylabel(\"Count of People\", labelpad=14)"
   ]
  },
  {
   "cell_type": "markdown",
   "metadata": {},
   "source": [
    "## Features"
   ]
  },
  {
   "cell_type": "code",
   "execution_count": 67,
   "metadata": {},
   "outputs": [
    {
     "data": {
      "text/plain": [
       "['chest_ACC_x',\n",
       " 'chest_ACC_y',\n",
       " 'chest_ACC_z',\n",
       " 'chest_Resp',\n",
       " 'chest_ECG',\n",
       " 'wrist_ACC_x',\n",
       " 'wrist_ACC_y',\n",
       " 'wrist_ACC_z',\n",
       " 'wrist_BVP',\n",
       " 'wrist_TEMP',\n",
       " 'WEIGHT',\n",
       " 'Gender',\n",
       " 'AGE',\n",
       " 'HEIGHT',\n",
       " 'SKIN',\n",
       " 'SPORT',\n",
       " 'Rpeaks',\n",
       " 'Label']"
      ]
     },
     "execution_count": 67,
     "metadata": {},
     "output_type": "execute_result"
    }
   ],
   "source": [
    "remove = [\"Subject\", \"Activity\"]\n",
    "features = [column for column in list(df.columns) if column not in remove]\n",
    "features"
   ]
  },
  {
   "cell_type": "code",
   "execution_count": 68,
   "metadata": {},
   "outputs": [],
   "source": [
    "df['Gender'].replace(' f', 0, inplace=True)\n",
    "df['Gender'].replace(' m', 1, inplace=True)"
   ]
  },
  {
   "cell_type": "markdown",
   "metadata": {},
   "source": [
    "## Train-test split"
   ]
  },
  {
   "cell_type": "code",
   "execution_count": 69,
   "metadata": {},
   "outputs": [],
   "source": [
    "X = df[features].values\n",
    "y = df.Activity"
   ]
  },
  {
   "cell_type": "code",
   "execution_count": 70,
   "metadata": {},
   "outputs": [],
   "source": [
    "from sklearn.model_selection import train_test_split\n",
    "X_train, X_test, y_train, y_test = train_test_split(X, y, test_size=0.25, random_state = 42, stratify = y)"
   ]
  },
  {
   "cell_type": "markdown",
   "metadata": {},
   "source": [
    "## Model"
   ]
  },
  {
   "cell_type": "markdown",
   "metadata": {},
   "source": [
    "### Decision Tree"
   ]
  },
  {
   "cell_type": "code",
   "execution_count": 71,
   "metadata": {},
   "outputs": [],
   "source": [
    "from sklearn.tree import DecisionTreeClassifier\n",
    "\n",
    "tree = DecisionTreeClassifier(random_state=42)\n",
    "tree.fit(X_train, y_train)\n",
    "y_pred = tree.predict(X_test)"
   ]
  },
  {
   "cell_type": "code",
   "execution_count": 72,
   "metadata": {},
   "outputs": [
    {
     "name": "stdout",
     "output_type": "stream",
     "text": [
      "0.9424584327626285\n"
     ]
    }
   ],
   "source": [
    "score = tree.score(X_test, y_test)\n",
    "print(score)"
   ]
  },
  {
   "cell_type": "code",
   "execution_count": 73,
   "metadata": {},
   "outputs": [
    {
     "name": "stdout",
     "output_type": "stream",
     "text": [
      "Normalized confusion matrix\n"
     ]
    },
    {
     "data": {
      "image/png": "[encoded data removed]",
      "text/plain": [
       "<Figure size 720x360 with 2 Axes>"
      ]
     },
     "metadata": {
      "needs_background": "light"
     },
     "output_type": "display_data"
    }
   ],
   "source": [
    "from sklearn.metrics import confusion_matrix\n",
    "cm = confusion_matrix(y_test, y_pred)\n",
    "np.set_printoptions(precision=2)\n",
    "plt.figure(figsize = (10,5))\n",
    "plot_confusion_matrix(cm, classes=[0, 1, 2, 3, 4, 5, 6, 7, 8], normalize=True)"
   ]
  },
  {
   "cell_type": "code",
   "execution_count": 74,
   "metadata": {},
   "outputs": [
    {
     "data": {
      "text/plain": [
       "<matplotlib.axes._subplots.AxesSubplot at 0x24c80096ac8>"
      ]
     },
     "execution_count": 74,
     "metadata": {},
     "output_type": "execute_result"
    },
    {
     "data": {
      "image/png": "[encoded data removed]",
      "text/plain": [
       "<Figure size 432x288 with 1 Axes>"
      ]
     },
     "metadata": {
      "needs_background": "light"
     },
     "output_type": "display_data"
    }
   ],
   "source": [
    "feat_importances = pd.Series(tree.feature_importances_, index=features)\n",
    "feat_importances.nlargest(12).plot(kind='barh')"
   ]
  },
  {
   "cell_type": "markdown",
   "metadata": {},
   "source": [
    "### Random Forest"
   ]
  },
  {
   "cell_type": "code",
   "execution_count": 75,
   "metadata": {},
   "outputs": [],
   "source": [
    "from sklearn.ensemble import RandomForestClassifier\n",
    "rf = RandomForestClassifier(n_estimators = 65, random_state = 42)\n",
    "rf.fit(X_train, y_train);\n",
    "predictions = rf.predict(X_test)"
   ]
  },
  {
   "cell_type": "code",
   "execution_count": 76,
   "metadata": {},
   "outputs": [
    {
     "name": "stdout",
     "output_type": "stream",
     "text": [
      "0.9627149796507811\n"
     ]
    }
   ],
   "source": [
    "score = rf.score(X_test, y_test)\n",
    "print(score)"
   ]
  },
  {
   "cell_type": "code",
   "execution_count": 77,
   "metadata": {},
   "outputs": [
    {
     "name": "stdout",
     "output_type": "stream",
     "text": [
      "Normalized confusion matrix\n"
     ]
    },
    {
     "data": {
      "image/png": "[encoded data removed]",
      "text/plain": [
       "<Figure size 720x360 with 2 Axes>"
      ]
     },
     "metadata": {
      "needs_background": "light"
     },
     "output_type": "display_data"
    }
   ],
   "source": [
    "from sklearn.metrics import confusion_matrix\n",
    "cm = confusion_matrix(y_test, y_pred)\n",
    "np.set_printoptions(precision=2)\n",
    "plt.figure(figsize = (10,5))\n",
    "plot_confusion_matrix(cm, classes=[0, 1, 2, 3, 4, 5, 6, 7, 8], normalize=True)"
   ]
  },
  {
   "cell_type": "code",
   "execution_count": 78,
   "metadata": {},
   "outputs": [
    {
     "data": {
      "text/plain": [
       "<matplotlib.axes._subplots.AxesSubplot at 0x24c80dabc08>"
      ]
     },
     "execution_count": 78,
     "metadata": {},
     "output_type": "execute_result"
    },
    {
     "data": {
      "image/png": "[encoded data removed]",
      "text/plain": [
       "<Figure size 432x288 with 1 Axes>"
      ]
     },
     "metadata": {
      "needs_background": "light"
     },
     "output_type": "display_data"
    }
   ],
   "source": [
    "feat_importances = pd.Series(rf.feature_importances_, index=features)\n",
    "feat_importances.nlargest(12).plot(kind='barh')"
   ]
  },
  {
   "cell_type": "markdown",
   "metadata": {},
   "source": [
    "# Better repartition"
   ]
  },
  {
   "cell_type": "markdown",
   "metadata": {},
   "source": [
    "By fear of our model overfitting since we have very few patients, we will use only 13 patients to train and validate our model. We will then see how the model scores on the 2 other patients."
   ]
  },
  {
   "cell_type": "markdown",
   "metadata": {},
   "source": [
    "## Features"
   ]
  },
  {
   "cell_type": "code",
   "execution_count": 79,
   "metadata": {},
   "outputs": [
    {
     "data": {
      "text/plain": [
       "['chest_ACC_x',\n",
       " 'chest_ACC_y',\n",
       " 'chest_ACC_z',\n",
       " 'chest_Resp',\n",
       " 'chest_ECG',\n",
       " 'wrist_ACC_x',\n",
       " 'wrist_ACC_y',\n",
       " 'wrist_ACC_z',\n",
       " 'wrist_BVP',\n",
       " 'wrist_TEMP',\n",
       " 'WEIGHT',\n",
       " 'Gender',\n",
       " 'AGE',\n",
       " 'HEIGHT',\n",
       " 'SKIN',\n",
       " 'SPORT',\n",
       " 'Rpeaks',\n",
       " 'Label']"
      ]
     },
     "execution_count": 79,
     "metadata": {},
     "output_type": "execute_result"
    }
   ],
   "source": [
    "remove = [\"Subject\", \"Activity\"]\n",
    "features = [column for column in list(df.columns) if column not in remove]\n",
    "features"
   ]
  },
  {
   "cell_type": "markdown",
   "metadata": {},
   "source": [
    "## Train-test split"
   ]
  },
  {
   "cell_type": "code",
   "execution_count": 131,
   "metadata": {},
   "outputs": [],
   "source": [
    "df.reset_index(drop = True, inplace=True)\n",
    "index_14patient = np.where(df['Subject'] == 'S13')[0].tolist()[0]\n",
    "X = df.loc[:index_14patient-1, features].values\n",
    "y = df.loc[:index_14patient-1, \"Activity\"].values"
   ]
  },
  {
   "cell_type": "code",
   "execution_count": 132,
   "metadata": {},
   "outputs": [],
   "source": [
    "X_test = df.loc[index_14patient:, features].values\n",
    "y_test = df.loc[index_14patient:, \"Activity\"].values"
   ]
  },
  {
   "cell_type": "code",
   "execution_count": 122,
   "metadata": {},
   "outputs": [],
   "source": [
    "#from sklearn.model_selection import train_test_split\n",
    "#X_train, X_val, y_train, y_val = train_test_split(X, y, test_size=0.25, random_state = 42, stratify = y)"
   ]
  },
  {
   "cell_type": "markdown",
   "metadata": {},
   "source": [
    "## Model"
   ]
  },
  {
   "cell_type": "markdown",
   "metadata": {},
   "source": [
    "### Decision Tree"
   ]
  },
  {
   "cell_type": "code",
   "execution_count": 133,
   "metadata": {},
   "outputs": [],
   "source": [
    "from sklearn.tree import DecisionTreeClassifier\n",
    "\n",
    "tree = DecisionTreeClassifier(random_state=42)\n",
    "tree.fit(X, y)\n",
    "y_pred = tree.predict(X_test)"
   ]
  },
  {
   "cell_type": "code",
   "execution_count": 134,
   "metadata": {},
   "outputs": [
    {
     "name": "stdout",
     "output_type": "stream",
     "text": [
      "0.40660891944839245\n"
     ]
    }
   ],
   "source": [
    "score = tree.score(X_test, y_test)\n",
    "print(score)"
   ]
  },
  {
   "cell_type": "code",
   "execution_count": 135,
   "metadata": {},
   "outputs": [
    {
     "name": "stdout",
     "output_type": "stream",
     "text": [
      "Normalized confusion matrix\n"
     ]
    },
    {
     "data": {
      "image/png": "[encoded data removed]",
      "text/plain": [
       "<Figure size 720x360 with 2 Axes>"
      ]
     },
     "metadata": {
      "needs_background": "light"
     },
     "output_type": "display_data"
    }
   ],
   "source": [
    "from sklearn.metrics import confusion_matrix\n",
    "cm = confusion_matrix(y_test, y_pred)\n",
    "np.set_printoptions(precision=2)\n",
    "plt.figure(figsize = (10,5))\n",
    "plot_confusion_matrix(cm, classes=[0, 1, 2, 3, 4, 5, 6, 7, 8], normalize=True)"
   ]
  },
  {
   "cell_type": "code",
   "execution_count": 136,
   "metadata": {},
   "outputs": [
    {
     "data": {
      "text/plain": [
       "<matplotlib.axes._subplots.AxesSubplot at 0x24c80027308>"
      ]
     },
     "execution_count": 136,
     "metadata": {},
     "output_type": "execute_result"
    },
    {
     "data": {
      "image/png": "[encoded data removed]",
      "text/plain": [
       "<Figure size 432x288 with 1 Axes>"
      ]
     },
     "metadata": {
      "needs_background": "light"
     },
     "output_type": "display_data"
    }
   ],
   "source": [
    "feat_importances = pd.Series(tree.feature_importances_, index=features)\n",
    "feat_importances.nlargest(12).plot(kind='barh')"
   ]
  },
  {
   "cell_type": "markdown",
   "metadata": {},
   "source": [
    "### Random Forest"
   ]
  },
  {
   "cell_type": "code",
   "execution_count": 137,
   "metadata": {},
   "outputs": [],
   "source": [
    "from sklearn.ensemble import RandomForestClassifier\n",
    "rf = RandomForestClassifier(n_estimators = 65, random_state = 42, max_depth=15)\n",
    "rf.fit(X, y);\n",
    "predictions = rf.predict(X_test)"
   ]
  },
  {
   "cell_type": "code",
   "execution_count": 138,
   "metadata": {},
   "outputs": [
    {
     "name": "stdout",
     "output_type": "stream",
     "text": [
      "0.552577497791265\n"
     ]
    }
   ],
   "source": [
    "score = rf.score(X_test, y_test)\n",
    "print(score)"
   ]
  },
  {
   "cell_type": "code",
   "execution_count": 139,
   "metadata": {},
   "outputs": [
    {
     "name": "stdout",
     "output_type": "stream",
     "text": [
      "Normalized confusion matrix\n"
     ]
    },
    {
     "data": {
      "image/png": "[encoded data removed]",
      "text/plain": [
       "<Figure size 720x360 with 2 Axes>"
      ]
     },
     "metadata": {
      "needs_background": "light"
     },
     "output_type": "display_data"
    }
   ],
   "source": [
    "from sklearn.metrics import confusion_matrix\n",
    "cm = confusion_matrix(y_test, y_pred)\n",
    "np.set_printoptions(precision=2)\n",
    "plt.figure(figsize = (10,5))\n",
    "plot_confusion_matrix(cm, classes=[0, 1, 2, 3, 4, 5, 6, 7, 8], normalize=True)"
   ]
  },
  {
   "cell_type": "code",
   "execution_count": 140,
   "metadata": {},
   "outputs": [
    {
     "data": {
      "text/plain": [
       "<matplotlib.axes._subplots.AxesSubplot at 0x24d17105d08>"
      ]
     },
     "execution_count": 140,
     "metadata": {},
     "output_type": "execute_result"
    },
    {
     "data": {
      "image/png": "[encoded data removed]",
      "text/plain": [
       "<Figure size 432x288 with 1 Axes>"
      ]
     },
     "metadata": {
      "needs_background": "light"
     },
     "output_type": "display_data"
    }
   ],
   "source": [
    "feat_importances = pd.Series(rf.feature_importances_, index=features)\n",
    "feat_importances.nlargest(12).plot(kind='barh')"
   ]
  },
  {
   "cell_type": "markdown",
   "metadata": {},
   "source": [
    "We can see that using different patients for the test makes the score drop drastically. The model has a hard time generalizing and the previous models surely have overfitted since they've all been tested on the same patients they've been trained. Having only 15 patients, it is very difficult to build a model that will better perform on unseen data."
   ]
  },
  {
   "cell_type": "markdown",
   "metadata": {},
   "source": [
    "## Saving model"
   ]
  },
  {
   "cell_type": "code",
   "execution_count": 141,
   "metadata": {},
   "outputs": [],
   "source": [
    "import pickle\n",
    "filename = 'final_model.sav'\n",
    "pickle.dump(rf, open(filename, 'wb'))"
   ]
  }
 ],
 "metadata": {
  "kernelspec": {
   "display_name": "Python 3.7.11 ('geopy37')",
   "language": "python",
   "name": "python3"
  },
  "language_info": {
   "codemirror_mode": {
    "name": "ipython",
    "version": 3
   },
   "file_extension": ".py",
   "mimetype": "text/x-python",
   "name": "python",
   "nbconvert_exporter": "python",
   "pygments_lexer": "ipython3",
   "version": "3.7.11"
  },
  "vscode": {
   "interpreter": {
    "hash": "966c5bd4e3114327e10ffeb3859fa093c8274e632ab7040ddc3eb7b4ed5aa468"
   }
  }
 },
 "nbformat": 4,
 "nbformat_minor": 2
}
