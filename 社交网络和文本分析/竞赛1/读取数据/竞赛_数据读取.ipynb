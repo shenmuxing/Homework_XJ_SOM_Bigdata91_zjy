{
 "cells": [
  {
   "cell_type": "code",
   "execution_count": 1,
   "id": "2c8b3f03",
   "metadata": {},
   "outputs": [
    {
     "ename": "OperationalError",
     "evalue": "(20009, b'DB-Lib error message 20009, severity 9:\\nUnable to connect: Adaptive Server is unavailable or does not exist (202.117.45.203)\\nNet-Lib error during Unknown error (10060)\\nDB-Lib error message 20009, severity 9:\\nUnable to connect: Adaptive Server is unavailable or does not exist (202.117.45.203)\\nNet-Lib error during Unknown error (10060)\\n')",
     "output_type": "error",
     "traceback": [
      "\u001b[1;31m---------------------------------------------------------------------------\u001b[0m",
      "\u001b[1;31mMSSQLDatabaseException\u001b[0m                    Traceback (most recent call last)",
      "\u001b[1;32msrc\\pymssql\\_pymssql.pyx\u001b[0m in \u001b[0;36mpymssql._pymssql.connect\u001b[1;34m()\u001b[0m\n",
      "\u001b[1;32msrc\\pymssql\\_mssql.pyx\u001b[0m in \u001b[0;36mpymssql._mssql.connect\u001b[1;34m()\u001b[0m\n",
      "\u001b[1;32msrc\\pymssql\\_mssql.pyx\u001b[0m in \u001b[0;36mpymssql._mssql.MSSQLConnection.__init__\u001b[1;34m()\u001b[0m\n",
      "\u001b[1;32msrc\\pymssql\\_mssql.pyx\u001b[0m in \u001b[0;36mpymssql._mssql.maybe_raise_MSSQLDatabaseException\u001b[1;34m()\u001b[0m\n",
      "\u001b[1;32msrc\\pymssql\\_mssql.pyx\u001b[0m in \u001b[0;36mpymssql._mssql.raise_MSSQLDatabaseException\u001b[1;34m()\u001b[0m\n",
      "\u001b[1;31mMSSQLDatabaseException\u001b[0m: (20009, b'DB-Lib error message 20009, severity 9:\\nUnable to connect: Adaptive Server is unavailable or does not exist (202.117.45.203)\\nNet-Lib error during Unknown error (10060)\\nDB-Lib error message 20009, severity 9:\\nUnable to connect: Adaptive Server is unavailable or does not exist (202.117.45.203)\\nNet-Lib error during Unknown error (10060)\\n')",
      "\nDuring handling of the above exception, another exception occurred:\n",
      "\u001b[1;31mOperationalError\u001b[0m                          Traceback (most recent call last)",
      "\u001b[1;32m<ipython-input-1-367fe9547919>\u001b[0m in \u001b[0;36m<module>\u001b[1;34m\u001b[0m\n\u001b[0;32m      9\u001b[0m \u001b[0mpassword\u001b[0m \u001b[1;33m=\u001b[0m \u001b[1;34m'XJTUbid$2022'\u001b[0m\u001b[1;33m\u001b[0m\u001b[1;33m\u001b[0m\u001b[0m\n\u001b[0;32m     10\u001b[0m \u001b[0mdb\u001b[0m \u001b[1;33m=\u001b[0m \u001b[1;34m'RenCompetition'\u001b[0m\u001b[1;33m\u001b[0m\u001b[1;33m\u001b[0m\u001b[0m\n\u001b[1;32m---> 11\u001b[1;33m \u001b[0mconnect\u001b[0m \u001b[1;33m=\u001b[0m \u001b[0mpymssql\u001b[0m\u001b[1;33m.\u001b[0m\u001b[0mconnect\u001b[0m\u001b[1;33m(\u001b[0m\u001b[0mserver\u001b[0m\u001b[1;33m,\u001b[0m \u001b[0muser\u001b[0m\u001b[1;33m,\u001b[0m \u001b[0mpassword\u001b[0m\u001b[1;33m,\u001b[0m \u001b[0mdb\u001b[0m\u001b[1;33m,\u001b[0m \u001b[0mcharset\u001b[0m\u001b[1;33m=\u001b[0m\u001b[1;34m'GB18030'\u001b[0m\u001b[1;33m)\u001b[0m \u001b[1;31m#解决乱码问题\u001b[0m\u001b[1;33m\u001b[0m\u001b[1;33m\u001b[0m\u001b[0m\n\u001b[0m\u001b[0;32m     12\u001b[0m \u001b[1;32mif\u001b[0m \u001b[0mconnect\u001b[0m\u001b[1;33m:\u001b[0m\u001b[1;33m\u001b[0m\u001b[1;33m\u001b[0m\u001b[0m\n\u001b[0;32m     13\u001b[0m     \u001b[0mprint\u001b[0m\u001b[1;33m(\u001b[0m\u001b[1;34m\"连接成功！\"\u001b[0m\u001b[1;33m)\u001b[0m\u001b[1;33m\u001b[0m\u001b[1;33m\u001b[0m\u001b[0m\n",
      "\u001b[1;32msrc\\pymssql\\_pymssql.pyx\u001b[0m in \u001b[0;36mpymssql._pymssql.connect\u001b[1;34m()\u001b[0m\n",
      "\u001b[1;31mOperationalError\u001b[0m: (20009, b'DB-Lib error message 20009, severity 9:\\nUnable to connect: Adaptive Server is unavailable or does not exist (202.117.45.203)\\nNet-Lib error during Unknown error (10060)\\nDB-Lib error message 20009, severity 9:\\nUnable to connect: Adaptive Server is unavailable or does not exist (202.117.45.203)\\nNet-Lib error during Unknown error (10060)\\n')"
     ]
    }
   ],
   "source": [
    "import pymssql\n",
    "import pandas as pd\n",
    "import sqlalchemy\n",
    "from sqlalchemy import create_engine\n",
    "\n",
    "# 数据库连接\n",
    "server = '202.117.45.203:5018'\n",
    "user = 'sntm'\n",
    "password = 'XJTUbid$2022'\n",
    "db = 'RenCompetition'\n",
    "connect = pymssql.connect(server, user, password, db, charset='GB18030') #解决乱码问题\n",
    "if connect:\n",
    "    print(\"连接成功！\")\n",
    "engine = create_engine('mssql+pymssql://' + user + ':' + password + '@' + server + '/' + db)\n",
    "    \n",
    "cursor = connect.cursor()   #创建一个游标对象,python里的sql语句都要通过cursor来执行"
   ]
  },
  {
   "cell_type": "code",
   "execution_count": null,
   "id": "ea9fe576",
   "metadata": {},
   "outputs": [],
   "source": [
    "# 读取关系数据到dataframe\n",
    "sql = \"select count(1) from Relationships;\"\n",
    "cursor.execute(sql)   #执行sql语句\n",
    "row = cursor.fetchone()  #读取查询结果,\n",
    "print(\"Relationships表的数据共%s行\" % (row[0]))   #输出结果\n",
    "\n",
    "sql = \"select * from Relationships;\"\n",
    "dfRel = pd.read_sql(sql, connect)\n",
    "print(\"\\nRelationships表的基本信息：\")\n",
    "print(dfRel.info())\n",
    "\n",
    "print(\"\\nRelationships表的样例数据：\")\n",
    "print(dfRel.head(5))"
   ]
  },
  {
   "cell_type": "code",
   "execution_count": null,
   "id": "9e83f5b4",
   "metadata": {},
   "outputs": [],
   "source": [
    "# 20名用户的答案表\n",
    "sql = \"select * from Truth20;\"\n",
    "dfTruth = pd.read_sql(sql, connect)\n",
    "print(\"\\nTruth20表的基本信息：\")\n",
    "print(dfTruth.info())\n",
    "\n",
    "print(\"\\nTruth20表的样例数据：\")\n",
    "print(dfTruth.head(5))"
   ]
  },
  {
   "cell_type": "code",
   "execution_count": null,
   "id": "4e34632a",
   "metadata": {},
   "outputs": [],
   "source": [
    "# 20名用户的答案表\n",
    "sql = \"select * from users;\"\n",
    "dfUser = pd.read_sql(sql, connect)\n",
    "print(\"\\n users表的基本信息：\")\n",
    "print(dfUser.info())\n",
    "\n",
    "print(\"\\n users表的样例数据：\")\n",
    "print(dfUser.head(5))"
   ]
  },
  {
   "cell_type": "code",
   "execution_count": null,
   "id": "3cd746ae",
   "metadata": {},
   "outputs": [],
   "source": [
    "dfRel.head()"
   ]
  },
  {
   "cell_type": "code",
   "execution_count": null,
   "id": "7039659b",
   "metadata": {},
   "outputs": [],
   "source": [
    "dfUser.head()"
   ]
  },
  {
   "cell_type": "code",
   "execution_count": null,
   "id": "fd8ed21f",
   "metadata": {},
   "outputs": [],
   "source": [
    "engine.dispose\n",
    "cursor.close()   \n",
    "connect.close()"
   ]
  }
 ],
 "metadata": {
  "kernelspec": {
   "display_name": "Python 3",
   "language": "python",
   "name": "python3"
  },
  "language_info": {
   "codemirror_mode": {
    "name": "ipython",
    "version": 3
   },
   "file_extension": ".py",
   "mimetype": "text/x-python",
   "name": "python",
   "nbconvert_exporter": "python",
   "pygments_lexer": "ipython3",
   "version": "3.8.8"
  }
 },
 "nbformat": 4,
 "nbformat_minor": 5
}
